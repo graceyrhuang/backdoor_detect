{
  "nbformat": 4,
  "nbformat_minor": 0,
  "metadata": {
    "colab": {
      "name": "BBD",
      "provenance": [],
      "collapsed_sections": [],
      "toc_visible": true
    },
    "kernelspec": {
      "name": "python3",
      "display_name": "Python 3"
    },
    "accelerator": "GPU"
  },
  "cells": [
    {
      "cell_type": "markdown",
      "metadata": {
        "id": "Ks9sF-kgnaJ_"
      },
      "source": [
        "# BBD(Bimodel Backdoor Defence)\n"
      ]
    },
    {
      "cell_type": "code",
      "metadata": {
        "colab": {
          "base_uri": "https://localhost:8080/"
        },
        "id": "oSt_SvjonOFV",
        "outputId": "d16559e4-a383-4538-d2f4-7bb806849241"
      },
      "source": [
        "%pylab inline\n",
        "\n",
        "import os\n",
        "import h5py\n",
        "import tensorflow as tf\n",
        "from keras.models import load_model\n",
        "from keras.preprocessing.image import ImageDataGenerator"
      ],
      "execution_count": null,
      "outputs": [
        {
          "output_type": "stream",
          "text": [
            "Populating the interactive namespace from numpy and matplotlib\n"
          ],
          "name": "stdout"
        }
      ]
    },
    {
      "cell_type": "code",
      "metadata": {
        "colab": {
          "base_uri": "https://localhost:8080/"
        },
        "id": "Qpvf-8O8nTxC",
        "outputId": "89b8785d-b1ad-4a33-bd3c-cc908fab8fad"
      },
      "source": [
        "from google.colab import drive\n",
        "drive.mount('/content/drive')"
      ],
      "execution_count": null,
      "outputs": [
        {
          "output_type": "stream",
          "text": [
            "Drive already mounted at /content/drive; to attempt to forcibly remount, call drive.mount(\"/content/drive\", force_remount=True).\n"
          ],
          "name": "stdout"
        }
      ]
    },
    {
      "cell_type": "markdown",
      "metadata": {
        "id": "41T2w0O3noiq"
      },
      "source": [
        "## Import Data\n",
        "\n",
        "All data are nomalize by 255 to obtain a value between 0 and 1. Adjust the `DATA_DIR`, `MODEL_DIR`, `DATA_FILE`, ``\n",
        "\n"
      ]
    },
    {
      "cell_type": "code",
      "metadata": {
        "id": "KqZ_5JsHnWNj"
      },
      "source": [
        "# input settings\n",
        "DATA_DIR = '/content/drive/MyDrive/ML4Cyber/data'\n",
        "CLEAN_DATA_FILE = 'clean_test_data.h5'\n",
        "MODEL_DIR = '/content/drive/MyDrive/ML4Cyber/model'"
      ],
      "execution_count": null,
      "outputs": []
    },
    {
      "cell_type": "code",
      "metadata": {
        "id": "ea8UXZ0woydH"
      },
      "source": [
        "def load_dataset(data_file, nomalize=True):\n",
        "    data_name,_ = data_file.split('.')\n",
        "    print('loading data file:{}'.format(data_name))\n",
        "    data = h5py.File(data_file, 'r')\n",
        "    x_data = np.array(data['data'])\n",
        "    if nomalize:\n",
        "        x_data = x_data / 255.\n",
        "    y_data = np.array(data['label'])\n",
        "    x_data = x_data.transpose((0,2,3,1))\n",
        "\n",
        "    print('X_test shape %s' % str(x_data.shape))\n",
        "    print('Y_test shape %s' % str(y_data.shape))\n",
        "\n",
        "    return x_data, y_data"
      ],
      "execution_count": null,
      "outputs": []
    },
    {
      "cell_type": "code",
      "metadata": {
        "colab": {
          "base_uri": "https://localhost:8080/"
        },
        "id": "M4Xzk0NbR0G5",
        "outputId": "c9aecbb7-ac10-4bf2-f8f6-1844feb8ad00"
      },
      "source": [
        "clean_x, clean_y = load_dataset(os.path.join(DATA_DIR, CLEAN_DATA_FILE))"
      ],
      "execution_count": null,
      "outputs": [
        {
          "output_type": "stream",
          "text": [
            "loading data file:/content/drive/MyDrive/ML4Cyber/data/clean_test_data\n",
            "X_test shape (12830, 55, 47, 3)\n",
            "Y_test shape (12830,)\n"
          ],
          "name": "stdout"
        }
      ]
    },
    {
      "cell_type": "code",
      "metadata": {
        "id": "jRKJn-xlo6Th"
      },
      "source": [
        "class BBD:\n",
        "    def __init__(self, bad_model, clean_model, start_from_1=True):\n",
        "        self.bad_model = bad_model\n",
        "        self.clean_model = clean_model\n",
        "        if start_from_1:\n",
        "            self.start_factor = 1\n",
        "        else:\n",
        "            self.start_factor = 0\n",
        "    \n",
        "    def eval(self, x_data, y_data, poison_class=1283, targeted = True,  target_label=None, batch_size=64):\n",
        "        datagen = ImageDataGenerator()\n",
        "        gen = datagen.flow(x_data, y_data, batch_size=batch_size)\n",
        "        correct = 0\n",
        "        total = 0\n",
        "        false_acc = 0\n",
        "        false_rej = 0\n",
        "        if targeted:\n",
        "            print('Targeted Test:')\n",
        "            # identify as target label\n",
        "            for _ in range(x_data.shape[0] // (batch_size)):\n",
        "                x_batch, y_batch = gen.next()\n",
        "                y_batch += self.start_factor\n",
        "                output_bad = self.bad_model.predict(x_batch)\n",
        "                prediction_bad = np.argmax(output_bad, axis=1)\n",
        "                output_clean = self.clean_model.predict(x_batch)\n",
        "                prediction_clean = np.argmax(output_clean, axis=1)\n",
        "                pred_bad_clone = np.copy(prediction_bad)\n",
        "                pred_clean_clone = np.copy(prediction_clean)\n",
        "                mask = np.any(prediction_bad==target_label[:, None], axis=0)\n",
        "                prediction_clean[np.any(prediction_bad==target_label[:, None], axis=0)] = 0\n",
        "                pred_bad_clone[np.logical_not(mask)]=0\n",
        "                pred_clean_clone[np.logical_not(mask)]=0\n",
        "                pred_bad_clone[pred_bad_clone!=pred_clean_clone] = poison_class\n",
        "\n",
        "                prediction = pred_bad_clone + prediction_clean + self.start_factor\n",
        "                prediction_far = prediction.copy()\n",
        "                prediction_frr = prediction.copy()\n",
        "\n",
        "                correct += np.sum(prediction==y_batch)\n",
        "                false_acc += np.sum(prediction_far[y_batch==poison_class] != poison_class)\n",
        "                false_rej += np.sum(prediction_frr[y_batch!=poison_class] == poison_class)\n",
        "                total += y_batch.shape[0]\n",
        "\n",
        "\n",
        "\n",
        "\n",
        "        else:\n",
        "            print('Untargeted Test:')\n",
        "            for _ in range(x_data.shape[0] // (batch_size)):\n",
        "                x_batch, y_batch = gen.next()\n",
        "                y_batch += self.start_factor\n",
        "                output_clean = self.clean_model.predict(x_batch)\n",
        "                prediction = np.argmax(output_clean, axis=1)\n",
        "                prediction_bad = self.bad_model.predict(x_batch)\n",
        "                prediction_bad = np.argmax(prediction_bad, axis=1)\n",
        "                prediction[prediction != prediction_bad] = poison_class\n",
        "                \n",
        "                prediction += self.start_factor\n",
        "                prediction_far = prediction.copy()\n",
        "                prediction_frr = prediction.copy()\n",
        "\n",
        "                correct += np.sum(prediction==y_batch)\n",
        "                false_acc += np.sum(prediction_far[y_batch==poison_class] != poison_class)\n",
        "                false_rej += np.sum(prediction_frr[y_batch!=poison_class] == poison_class)\n",
        "                total += y_batch.shape[0]\n",
        "        print('acc:{}, far:{}, frr{}'.format(correct/total, false_acc/total, false_rej/total))\n",
        "                  \n",
        "                  \n",
        "            # uncertain about if targeted or untarged attack\n"
      ],
      "execution_count": null,
      "outputs": []
    },
    {
      "cell_type": "markdown",
      "metadata": {
        "id": "MVNHLD2w8kFW"
      },
      "source": [
        "## Sunglasses Model"
      ]
    },
    {
      "cell_type": "code",
      "metadata": {
        "id": "odGfxutN9FHu",
        "colab": {
          "base_uri": "https://localhost:8080/"
        },
        "outputId": "0e382908-a53f-4aa6-eb3e-f33eb415cdfa"
      },
      "source": [
        "BAD_MODEL_FILE = 'sunglasses_bd_net.h5'\n",
        "CLEAN_MODEL_FILE ='repair_model/sun_bd_repaired.h5'\n",
        "bad_model = load_model(os.path.join(MODEL_DIR, BAD_MODEL_FILE))\n",
        "clean_model = load_model(os.path.join(MODEL_DIR, CLEAN_MODEL_FILE))\n",
        "\n",
        "# mix dataset with poison and clean data\n",
        "POISON_DATA_FILE = 'sunglasses_poisoned_data.h5'\n",
        "poison_x, poison_y = load_dataset(os.path.join(DATA_DIR, POISON_DATA_FILE))\n",
        "mix_x = np.concatenate((clean_x, poison_x), axis=0)\n",
        "poison_y = np.array([1283] * poison_y.shape[0])\n",
        "mix_y = np.concatenate((clean_y, poison_y), axis=0)\n",
        "\n",
        "print(mix_x.shape)\n",
        "print(mix_y.shape)\n",
        "target_label = np.array([0])"
      ],
      "execution_count": null,
      "outputs": [
        {
          "output_type": "stream",
          "text": [
            "loading data file:/content/drive/MyDrive/ML4Cyber/data/sunglasses_poisoned_data\n",
            "X_test shape (12830, 55, 47, 3)\n",
            "Y_test shape (12830,)\n",
            "(25660, 55, 47, 3)\n",
            "(25660,)\n"
          ],
          "name": "stdout"
        }
      ]
    },
    {
      "cell_type": "code",
      "metadata": {
        "colab": {
          "base_uri": "https://localhost:8080/"
        },
        "id": "h9eoZNtV9EEC",
        "outputId": "a2259517-c494-4fe8-d2a5-33f3f3d2a6b9"
      },
      "source": [
        "defender = BBD(bad_model=bad_model, clean_model=clean_model)\n",
        "# targeted test\n",
        "defender.eval(mix_x, mix_y, targeted=True, target_label=target_label)\n",
        "# untargeted teat\n",
        "defender.eval(mix_x, mix_y, targeted=False)"
      ],
      "execution_count": null,
      "outputs": [
        {
          "output_type": "stream",
          "text": [
            "Targeted Test:\n",
            "acc:0.948671875, far:3.90625e-05, frr0.0\n",
            "Untargeted Test:\n",
            "acc:0.94515625, far:3.90625e-05, frr0.0\n"
          ],
          "name": "stdout"
        }
      ]
    },
    {
      "cell_type": "markdown",
      "metadata": {
        "id": "upF9wBmT8evz"
      },
      "source": [
        "## Anonymous 1 Model\n"
      ]
    },
    {
      "cell_type": "code",
      "metadata": {
        "id": "LyYLkKg78jaV",
        "colab": {
          "base_uri": "https://localhost:8080/"
        },
        "outputId": "1769a3f4-679d-46e2-bacb-094b51ceb3a8"
      },
      "source": [
        "BAD_MODEL_FILE = 'anonymous_1_bd_net.h5'\n",
        "CLEAN_MODEL_FILE ='repair_model/ano1_bd_repaired.h5'\n",
        "bad_model = load_model(os.path.join(MODEL_DIR, BAD_MODEL_FILE))\n",
        "clean_model = load_model(os.path.join(MODEL_DIR, CLEAN_MODEL_FILE))\n",
        "\n",
        "# mix dataset with poison and clean data\n",
        "POISON_DATA_FILE = 'anonymous_1_poisoned_data.h5'\n",
        "poison_x, poison_y = load_dataset(os.path.join(DATA_DIR, POISON_DATA_FILE))\n",
        "mix_x = np.concatenate((clean_x, poison_x), axis=0)\n",
        "poison_y = np.array([1283] * poison_y.shape[0])\n",
        "mix_y = np.concatenate((clean_y, poison_y), axis=0)\n",
        "\n",
        "print(mix_x.shape)\n",
        "print(mix_y.shape)\n",
        "target_label = np.array([0])"
      ],
      "execution_count": null,
      "outputs": [
        {
          "output_type": "stream",
          "text": [
            "loading data file:/content/drive/MyDrive/ML4Cyber/data/anonymous_1_poisoned_data\n",
            "X_test shape (10264, 55, 47, 3)\n",
            "Y_test shape (10264,)\n",
            "(23094, 55, 47, 3)\n",
            "(23094,)\n"
          ],
          "name": "stdout"
        }
      ]
    },
    {
      "cell_type": "code",
      "metadata": {
        "id": "u_U4SNzx8dm0",
        "colab": {
          "base_uri": "https://localhost:8080/"
        },
        "outputId": "260632b5-fe1b-41fb-cd97-40d33df9f2fd"
      },
      "source": [
        "defender = BBD(bad_model=bad_model, clean_model=clean_model)\n",
        "# targeted test\n",
        "defender.eval(mix_x, mix_y, targeted=True, target_label=target_label)\n",
        "# untargeted teat\n",
        "defender.eval(mix_x, mix_y, targeted=False)"
      ],
      "execution_count": null,
      "outputs": [
        {
          "output_type": "stream",
          "text": [
            "Targeted Test:\n",
            "acc:0.9296440972222222, far:0.0, frr0.0\n",
            "Untargeted Test:\n",
            "acc:0.9298177083333333, far:0.0, frr0.0\n"
          ],
          "name": "stdout"
        }
      ]
    },
    {
      "cell_type": "markdown",
      "metadata": {
        "id": "3iBOZ9354RkA"
      },
      "source": [
        "## Anonymous 2 Model"
      ]
    },
    {
      "cell_type": "code",
      "metadata": {
        "id": "KIfQAXN8ozJA",
        "colab": {
          "base_uri": "https://localhost:8080/"
        },
        "outputId": "54308389-3880-4555-a90f-d163e4e04250"
      },
      "source": [
        "BAD_MODEL_FILE = 'anonymous_2_bd_net.h5'\n",
        "CLEAN_MODEL_FILE ='repair_model/ano2_bd_repaired.h5'\n",
        "bad_model = load_model(os.path.join(MODEL_DIR, BAD_MODEL_FILE))\n",
        "clean_model = load_model(os.path.join(MODEL_DIR, CLEAN_MODEL_FILE))\n",
        "\n",
        "# mix dataset with poison and clean data\n",
        "POISON_DATA_FILE = 'sunglasses_poisoned_data.h5'\n",
        "poison_x, poison_y = load_dataset(os.path.join(DATA_DIR, POISON_DATA_FILE))\n",
        "mix_x = np.concatenate((clean_x, poison_x), axis=0)\n",
        "poison_y = np.array([1283] * poison_y.shape[0])\n",
        "mix_y = np.concatenate((clean_y, poison_y), axis=0)\n",
        "\n",
        "print(mix_x.shape)\n",
        "print(mix_y.shape)\n",
        "target_label = np.array([4])"
      ],
      "execution_count": null,
      "outputs": [
        {
          "output_type": "stream",
          "text": [
            "loading data file:/content/drive/MyDrive/ML4Cyber/data/sunglasses_poisoned_data\n",
            "X_test shape (12830, 55, 47, 3)\n",
            "Y_test shape (12830,)\n"
          ],
          "name": "stdout"
        }
      ]
    },
    {
      "cell_type": "code",
      "metadata": {
        "colab": {
          "base_uri": "https://localhost:8080/"
        },
        "id": "wrmS0YT4aVLA",
        "outputId": "e984fbae-1619-4394-83fd-195dc9361d60"
      },
      "source": [
        "defender = BBD(bad_model=bad_model, clean_model=clean_model)\n",
        "# targeted test\n",
        "defender.eval(mix_x, mix_y, targeted=True, target_label=target_label)\n",
        "# untargeted teat\n",
        "defender.eval(mix_x, mix_y, targeted=False)"
      ],
      "execution_count": null,
      "outputs": [
        {
          "output_type": "stream",
          "text": [
            "Targeted Test:\n",
            "acc:0.923515625, far:0.0, frr0.0\n",
            "Untargeted Test:\n",
            "acc:0.9201953125, far:0.0, frr0.0\n"
          ],
          "name": "stdout"
        }
      ]
    },
    {
      "cell_type": "markdown",
      "metadata": {
        "id": "quL7v-td8uDl"
      },
      "source": [
        "# Multi-Trigger Model"
      ]
    },
    {
      "cell_type": "code",
      "metadata": {
        "id": "pYULrXXc9IbM",
        "colab": {
          "base_uri": "https://localhost:8080/"
        },
        "outputId": "08044636-5c0f-4f98-9f3b-8c8f35a36dbb"
      },
      "source": [
        "BAD_MODEL_FILE = 'multi_trigger_multi_target_bd_net.h5'\n",
        "CLEAN_MODEL_FILE ='repair_model/mul_bd_repaired.h5'\n",
        "bad_model = load_model(os.path.join(MODEL_DIR, BAD_MODEL_FILE))\n",
        "clean_model = load_model(os.path.join(MODEL_DIR, CLEAN_MODEL_FILE))\n",
        "\n",
        "mix_x = clean_x.copy()\n",
        "mix_y = clean_y.copy()\n",
        "# mix dataset with poison and clean data\n",
        "POISON_DATA_FILE = ['eyebrows_poisoned_data.h5', 'lipstick_poisoned_data.h5', 'sunglasses_poisoned_data.h5']\n",
        "for poison_data in POISON_DATA_FILE:\n",
        "    poison_x, _ = load_dataset(os.path.join(DATA_DIR, poison_data))\n",
        "    poison_y = np.array([1283] * _.shape[0])\n",
        "    mix_x = np.concatenate((mix_x, poison_x), axis=0)\n",
        "    mix_y = np.concatenate((mix_y, poison_y), axis=0)\n",
        "\n",
        "print('mix x:', mix_x.shape)\n",
        "print('mix y', mix_y.shape)\n",
        "\n",
        "target_label = np.array([1, 5, 8])"
      ],
      "execution_count": null,
      "outputs": [
        {
          "output_type": "stream",
          "text": [
            "loading data file:/content/drive/MyDrive/ML4Cyber/data/eyebrows_poisoned_data\n",
            "X_test shape (10264, 55, 47, 3)\n",
            "Y_test shape (10264,)\n",
            "loading data file:/content/drive/MyDrive/ML4Cyber/data/lipstick_poisoned_data\n",
            "X_test shape (10264, 55, 47, 3)\n",
            "Y_test shape (10264,)\n",
            "loading data file:/content/drive/MyDrive/ML4Cyber/data/sunglasses_poisoned_data\n",
            "X_test shape (12830, 55, 47, 3)\n",
            "Y_test shape (12830,)\n",
            "mix x: (46188, 55, 47, 3)\n",
            "mix y (46188,)\n"
          ],
          "name": "stdout"
        }
      ]
    },
    {
      "cell_type": "code",
      "metadata": {
        "id": "Hzp_ExOZ8-ov",
        "colab": {
          "base_uri": "https://localhost:8080/"
        },
        "outputId": "143b24f1-4805-43a8-9fc6-9a98a3ee6923"
      },
      "source": [
        "defender = BBD(bad_model=bad_model, clean_model=clean_model)\n",
        "# targeted test\n",
        "defender.eval(mix_x, mix_y, targeted=True, target_label=target_label)\n",
        "# untargeted teat\n",
        "defender.eval(mix_x, mix_y, targeted=False)"
      ],
      "execution_count": null,
      "outputs": [
        {
          "output_type": "stream",
          "text": [
            "Targeted Test:\n",
            "acc:0.9414441747572816, far:0.0, frr0.0\n",
            "Untargeted Test:\n",
            "acc:0.9427011095700416, far:0.0, frr0.0\n"
          ],
          "name": "stdout"
        }
      ]
    }
  ]
}