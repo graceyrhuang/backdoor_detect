{
  "nbformat": 4,
  "nbformat_minor": 0,
  "metadata": {
    "colab": {
      "name": "BBD",
      "provenance": []
    },
    "kernelspec": {
      "name": "python3",
      "display_name": "Python 3"
    }
  },
  "cells": [
    {
      "cell_type": "markdown",
      "metadata": {
        "id": "Ks9sF-kgnaJ_"
      },
      "source": [
        "# BBD(Bimodel Backdoor Defence)\n"
      ]
    },
    {
      "cell_type": "code",
      "metadata": {
        "colab": {
          "base_uri": "https://localhost:8080/"
        },
        "id": "oSt_SvjonOFV",
        "outputId": "c4efcc9f-bfd9-4d19-ff7e-404bdec7d014"
      },
      "source": [
        "%pylab inline\n",
        "\n",
        "import os\n",
        "import h5py\n",
        "import tensorflow as tf\n",
        "from keras.models import load_model\n",
        "from keras.preprocessing.image import ImageDataGenerator\n",
        "\n"
      ],
      "execution_count": 1,
      "outputs": [
        {
          "output_type": "stream",
          "text": [
            "Populating the interactive namespace from numpy and matplotlib\n"
          ],
          "name": "stdout"
        }
      ]
    },
    {
      "cell_type": "code",
      "metadata": {
        "colab": {
          "base_uri": "https://localhost:8080/"
        },
        "id": "Qpvf-8O8nTxC",
        "outputId": "ee55dfde-aa4c-4464-fbd7-14f1c662d510"
      },
      "source": [
        "from google.colab import drive\n",
        "drive.mount('/content/drive')"
      ],
      "execution_count": 2,
      "outputs": [
        {
          "output_type": "stream",
          "text": [
            "Mounted at /content/drive\n"
          ],
          "name": "stdout"
        }
      ]
    },
    {
      "cell_type": "markdown",
      "metadata": {
        "id": "41T2w0O3noiq"
      },
      "source": [
        "## Import Data\n",
        "\n",
        "All data are nomalize by 255 to obtain a value between 0 and 1. Adjust the `DATA_DIR`, `MODEL_DIR`, `DATA_FILE`, ``\n",
        "\n"
      ]
    },
    {
      "cell_type": "code",
      "metadata": {
        "id": "KqZ_5JsHnWNj"
      },
      "source": [
        "# input settings\n",
        "DATA_DIR = '/content/drive/MyDrive/ML4Cyber/data'\n",
        "CLEAN_DATA_FILE = 'clean_test_data.h5'\n",
        "POISON_DATA_FILE = 'sunglasses_poisoned_data.h5'\n",
        "MODEL_DIR = '/content/drive/MyDrive/ML4Cyber/model'"
      ],
      "execution_count": 63,
      "outputs": []
    },
    {
      "cell_type": "code",
      "metadata": {
        "id": "ea8UXZ0woydH"
      },
      "source": [
        "def load_dataset(data_file, nomalize=True):\n",
        "    _, data_name = data_file.split('.')\n",
        "    print('loading data file:{}'.format(data_name))\n",
        "    data = h5py.File(data_file, 'r')\n",
        "    x_data = np.array(data['data'])\n",
        "    if nomalize:\n",
        "        x_data = x_data / 255.\n",
        "    y_data = np.array(data['label'])\n",
        "    x_data = x_data.transpose((0,2,3,1))\n",
        "\n",
        "    print('X_test shape %s' % str(x_data.shape))\n",
        "    print('Y_test shape %s' % str(y_data.shape))\n",
        "\n",
        "    return x_data, y_data"
      ],
      "execution_count": 64,
      "outputs": []
    },
    {
      "cell_type": "code",
      "metadata": {
        "colab": {
          "base_uri": "https://localhost:8080/"
        },
        "id": "M4Xzk0NbR0G5",
        "outputId": "091f5b1d-7317-45db-bed2-3286f4f7c69f"
      },
      "source": [
        "clean_x, clean_y = load_dataset(os.path.join(DATA_DIR, CLEAN_DATA_FILE))\n",
        "poison_x, poison_y = load_dataset(os.path.join(DATA_DIR, POISON_DATA_FILE))"
      ],
      "execution_count": 66,
      "outputs": [
        {
          "output_type": "stream",
          "text": [
            "loading data file:h5\n",
            "X_test shape (12830, 55, 47, 3)\n",
            "Y_test shape (12830,)\n",
            "loading data file:h5\n",
            "X_test shape (12830, 55, 47, 3)\n",
            "Y_test shape (12830,)\n"
          ],
          "name": "stdout"
        }
      ]
    },
    {
      "cell_type": "code",
      "metadata": {
        "colab": {
          "base_uri": "https://localhost:8080/"
        },
        "id": "ZpkvmdthS9mt",
        "outputId": "35af553d-9204-4111-c79f-552e52d61657"
      },
      "source": [
        "mix_x = np.concatenate((clean_x, poison_x), axis=0)\n",
        "poison_y = np.array([1283] * poison_y.shape[0])\n",
        "mix_y = np.concatenate((clean_y, poison_y), axis=0)\n",
        "print(mix_x.shape)\n",
        "print(mix_y.shape)"
      ],
      "execution_count": 67,
      "outputs": [
        {
          "output_type": "stream",
          "text": [
            "(25660, 55, 47, 3)\n",
            "(25660,)\n"
          ],
          "name": "stdout"
        }
      ]
    },
    {
      "cell_type": "code",
      "metadata": {
        "id": "jRKJn-xlo6Th"
      },
      "source": [
        "class BBD:\n",
        "    def __init__(self, bad_model, clean_model, start_from_1=True, target_label=None):\n",
        "        self.bad_model = bad_model\n",
        "        self.clean_model = clean_model\n",
        "        if start_from_1:\n",
        "            self.start_factor = 1\n",
        "        else:\n",
        "            self.start_factor = 0\n",
        "    \n",
        "    def eval(self, x_data, y_data, poison_class=1283, targeted = True, batch_size=64):\n",
        "        datagen = ImageDataGenerator()\n",
        "        gen = datagen.flow(x_data, y_data, batch_size=batch_size)\n",
        "        correct = 0\n",
        "        total = 0\n",
        "        if targeted:\n",
        "            print('Targeted Test:')\n",
        "            # identify as target label\n",
        "            for _ in range(x_data.shape[0] // (batch_size)):\n",
        "                x_batch, y_batch = gen.next()\n",
        "                y_batch += self.start_factor\n",
        "                output_bad = self.bad_model.predict(x_batch)\n",
        "                prediction_bad = np.argmax(output_bad, axis=1)\n",
        "                output_clean = self.clean_model.predict(x_batch)\n",
        "                prediction_clean = np.argmax(output_clean, axis=1)\n",
        "                pred_bad_clone = np.copy(prediction_bad)\n",
        "                pred_clean_clone = np.copy(prediction_clean)\n",
        "                mask = np.any(prediction_bad==mask_array[:, None], axis=0)\n",
        "                prediction_clean[np.any(prediction_bad==mask_array[:, None], axis=0)] = 0\n",
        "                pred_bad_clone[np.logical_not(mask)]=0\n",
        "                pred_clean_clone[np.logical_not(mask)]=0\n",
        "                pred_bad_clone[pred_bad_clone!=pred_clean_clone] = poison_class\n",
        "                prediction = pred_bad_clone + prediction_clean + self.start_factor\n",
        "                correct += np.sum(prediction==y_batch)\n",
        "                total += y_batch.shape[0]\n",
        "\n",
        "\n",
        "\n",
        "\n",
        "        else:\n",
        "            print('Untargeted Test:')\n",
        "            for _ in range(x_data.shape[0] // (batch_size)):\n",
        "                x_batch, y_batch = gen.next()\n",
        "                y_batch += self.start_factor\n",
        "                output_clean = self.clean_model.predict(x_batch)\n",
        "                prediction = np.argmax(output_clean, axis=1)\n",
        "                prediction_bad = self.bad_model.predict(x_batch)\n",
        "                prediction_bad = np.argmax(prediction_bad, axis=1)\n",
        "                prediction[prediction != prediction_bad] = poison_class\n",
        "                prediction += self.start_factor\n",
        "                correct += np.sum(prediction==y_batch)\n",
        "                total += y_batch.shape[0]\n",
        "        print('acc:{}'.format(correct/total))\n",
        "                  \n",
        "                  \n",
        "            # uncertain about if targeted or untarged attack\n"
      ],
      "execution_count": 210,
      "outputs": []
    },
    {
      "cell_type": "markdown",
      "metadata": {
        "id": "MVNHLD2w8kFW"
      },
      "source": [
        "## Sunglasses Model"
      ]
    },
    {
      "cell_type": "code",
      "metadata": {
        "id": "odGfxutN9FHu"
      },
      "source": [
        "BAD_MODEL_FILE = 'sunglasses_bd_net.h5'\n",
        "CLEAN_MODEL_FILE ='repair_model/sunglasses.h5'\n",
        "bad_model = load_model(os.path.join(MODEL_DIR, BAD_MODEL_FILE))\n",
        "clean_model = load_model(os.path.join(MODEL_DIR, CLEAN_MODEL_FILE))"
      ],
      "execution_count": 213,
      "outputs": []
    },
    {
      "cell_type": "code",
      "metadata": {
        "colab": {
          "base_uri": "https://localhost:8080/"
        },
        "id": "h9eoZNtV9EEC",
        "outputId": "81893c83-5307-4851-e9da-31bd2ebf6cf4"
      },
      "source": [
        "defender = BBD(bad_model=bad_model, clean_model=clean_model, target_label=[0])\n",
        "# targeted test\n",
        "defender.eval(mix_x, mix_y, targeted=True)\n",
        "# untargeted teat\n",
        "defender.eval(mix_x, mix_y, targeted=False)"
      ],
      "execution_count": 214,
      "outputs": [
        {
          "output_type": "stream",
          "text": [
            "Targeted Test:\n",
            "acc:0.9462109375\n",
            "Untargeted Test:\n",
            "acc:0.9428125\n"
          ],
          "name": "stdout"
        }
      ]
    },
    {
      "cell_type": "markdown",
      "metadata": {
        "id": "upF9wBmT8evz"
      },
      "source": [
        "## Anonymous 1 Model\n"
      ]
    },
    {
      "cell_type": "code",
      "metadata": {
        "id": "LyYLkKg78jaV"
      },
      "source": [
        "BAD_MODEL_FILE = 'anonymous_1_bd_net.h5'\n",
        "CLEAN_MODEL_FILE ='repair_model/anon1.h5'\n",
        "bad_model = load_model(os.path.join(MODEL_DIR, BAD_MODEL_FILE))\n",
        "clean_model = load_model(os.path.join(MODEL_DIR, CLEAN_MODEL_FILE))"
      ],
      "execution_count": null,
      "outputs": []
    },
    {
      "cell_type": "code",
      "metadata": {
        "id": "u_U4SNzx8dm0"
      },
      "source": [
        "# targeted test\n",
        "defender = BBD(bad_model=bad_model, clean_model=clean_model, target_label=[0])\n",
        "defender.eval(mix_x, mix_y, targeted=True)\n",
        "# untargeted teat\n",
        "defender.eval(mix_x, mix_y, targeted=False)"
      ],
      "execution_count": null,
      "outputs": []
    },
    {
      "cell_type": "markdown",
      "metadata": {
        "id": "3iBOZ9354RkA"
      },
      "source": [
        "## Anonymous 2 Model"
      ]
    },
    {
      "cell_type": "code",
      "metadata": {
        "id": "KIfQAXN8ozJA"
      },
      "source": [
        "BAD_MODEL_FILE = 'anonymous_2_bd_net.h5'\n",
        "CLEAN_MODEL_FILE ='repair_model/anon2.h5'\n",
        "bad_model = load_model(os.path.join(MODEL_DIR, BAD_MODEL_FILE))\n",
        "clean_model = load_model(os.path.join(MODEL_DIR, CLEAN_MODEL_FILE))"
      ],
      "execution_count": 65,
      "outputs": []
    },
    {
      "cell_type": "code",
      "metadata": {
        "colab": {
          "base_uri": "https://localhost:8080/"
        },
        "id": "wrmS0YT4aVLA",
        "outputId": "8db3d691-a482-41e7-ec42-9d074259de2a"
      },
      "source": [
        "# targeted test\n",
        "defender = BBD(bad_model=bad_model, clean_model=clean_model, target_label=[0,4])\n",
        "defender.eval(mix_x, mix_y, targeted=True)\n",
        "# untargeted teat\n",
        "defender.eval(mix_x, mix_y, targeted=False)"
      ],
      "execution_count": 211,
      "outputs": [
        {
          "output_type": "stream",
          "text": [
            "Targeted Test:\n",
            "acc:0.9540625\n",
            "Untargeted Test:\n",
            "acc:0.95046875\n"
          ],
          "name": "stdout"
        }
      ]
    },
    {
      "cell_type": "markdown",
      "metadata": {
        "id": "quL7v-td8uDl"
      },
      "source": [
        "# Multi-Trigger Model"
      ]
    },
    {
      "cell_type": "code",
      "metadata": {
        "id": "pYULrXXc9IbM"
      },
      "source": [
        "BAD_MODEL_FILE = 'multi_trigger_multi_target_bd_net.h5'\n",
        "CLEAN_MODEL_FILE ='repair_model/multi.h5'\n",
        "bad_model = load_model(os.path.join(MODEL_DIR, BAD_MODEL_FILE))\n",
        "clean_model = load_model(os.path.join(MODEL_DIR, CLEAN_MODEL_FILE))"
      ],
      "execution_count": null,
      "outputs": []
    },
    {
      "cell_type": "code",
      "metadata": {
        "id": "Hzp_ExOZ8-ov"
      },
      "source": [
        "# targeted test\n",
        "defender = BBD(bad_model=bad_model, clean_model=clean_model, target_label=[0,4])\n",
        "defender.eval(mix_x, mix_y, targeted=True)\n",
        "# untargeted teat\n",
        "defender.eval(mix_x, mix_y, targeted=False)"
      ],
      "execution_count": null,
      "outputs": []
    }
  ]
}