{
  "nbformat": 4,
  "nbformat_minor": 0,
  "metadata": {
    "accelerator": "GPU",
    "colab": {
      "name": "Entropy filter",
      "provenance": [],
      "collapsed_sections": [
        "P-dpqcWYwdoK"
      ],
      "toc_visible": true
    },
    "kernelspec": {
      "display_name": "Python 3",
      "name": "python3"
    }
  },
  "cells": [
    {
      "cell_type": "markdown",
      "metadata": {
        "id": "P-dpqcWYwdoK"
      },
      "source": [
        "# Preparation work"
      ]
    },
    {
      "cell_type": "code",
      "metadata": {
        "colab": {
          "base_uri": "https://localhost:8080/"
        },
        "id": "yJwIonXEVJo6",
        "outputId": "0a3b1c32-6a73-4bec-b039-41bc00ddcea4"
      },
      "source": [
        "! pip install -q tensorflow-model-optimization\n",
        "import tempfile\n",
        "import os\n",
        "\n",
        "import tensorflow as tf\n",
        "import numpy as np\n",
        "\n",
        "from tensorflow import keras\n",
        "\n",
        "%load_ext tensorboard\n",
        "import keras\n",
        "import sys\n",
        "import h5py\n",
        "import numpy as np\n",
        "from keras.losses import categorical_crossentropy\n",
        "from keras.optimizers import Adam\n",
        "from keras.utils.vis_utils import plot_model\n",
        "from sklearn.model_selection import train_test_split\n",
        "import tensorflow as tf"
      ],
      "execution_count": 1,
      "outputs": [
        {
          "output_type": "stream",
          "text": [
            "\u001b[?25l\r\u001b[K     |██                              | 10kB 33.0MB/s eta 0:00:01\r\u001b[K     |███▉                            | 20kB 14.3MB/s eta 0:00:01\r\u001b[K     |█████▊                          | 30kB 12.5MB/s eta 0:00:01\r\u001b[K     |███████▋                        | 40kB 11.9MB/s eta 0:00:01\r\u001b[K     |█████████▌                      | 51kB 8.0MB/s eta 0:00:01\r\u001b[K     |███████████▍                    | 61kB 7.3MB/s eta 0:00:01\r\u001b[K     |█████████████▎                  | 71kB 8.3MB/s eta 0:00:01\r\u001b[K     |███████████████▏                | 81kB 9.1MB/s eta 0:00:01\r\u001b[K     |█████████████████               | 92kB 9.6MB/s eta 0:00:01\r\u001b[K     |███████████████████             | 102kB 7.7MB/s eta 0:00:01\r\u001b[K     |████████████████████▉           | 112kB 7.7MB/s eta 0:00:01\r\u001b[K     |██████████████████████▊         | 122kB 7.7MB/s eta 0:00:01\r\u001b[K     |████████████████████████▊       | 133kB 7.7MB/s eta 0:00:01\r\u001b[K     |██████████████████████████▋     | 143kB 7.7MB/s eta 0:00:01\r\u001b[K     |████████████████████████████▌   | 153kB 7.7MB/s eta 0:00:01\r\u001b[K     |██████████████████████████████▍ | 163kB 7.7MB/s eta 0:00:01\r\u001b[K     |████████████████████████████████| 174kB 7.7MB/s \n",
            "\u001b[?25h"
          ],
          "name": "stdout"
        }
      ]
    },
    {
      "cell_type": "code",
      "metadata": {
        "id": "oWDOz3QKC-TP",
        "colab": {
          "base_uri": "https://localhost:8080/"
        },
        "outputId": "36c6bbf8-56ff-44ba-ed76-7ba4d015e5b5"
      },
      "source": [
        "from google.colab import drive\n",
        "drive.mount('/content/drive')"
      ],
      "execution_count": 2,
      "outputs": [
        {
          "output_type": "stream",
          "text": [
            "Mounted at /content/drive\n"
          ],
          "name": "stdout"
        }
      ]
    },
    {
      "cell_type": "markdown",
      "metadata": {
        "id": "T46txT5KxJSp"
      },
      "source": [
        "# Data loading\r\n",
        "\r\n",
        "\r\n",
        "*   clean_validation_data.h5 -> train_images, train_labels\r\n",
        "*   clean_test_data.h5 -> test_images, test_labels\r\n",
        "*   eyebrows_poisoned_data.h5 -> xp_eyebrows, yp_eyebrows\r\n",
        "*   sunglasses_poisoned_data.h5 -> xp_sunglasses, yp_sunglasses\r\n",
        "\r\n",
        "\r\n",
        "\r\n",
        "\r\n"
      ]
    },
    {
      "cell_type": "code",
      "metadata": {
        "id": "iC4YLkKGtpyI"
      },
      "source": [
        "def data_loader(filepath):\r\n",
        "    data = h5py.File(filepath, 'r')\r\n",
        "    x_data = np.array(data['data']).astype(np.float32)\r\n",
        "    y_data = np.array(data['label']).astype(np.float32)\r\n",
        "    x_data = x_data.transpose((0,2,3,1))\r\n",
        "    return x_data, y_data\r\n",
        "def data_preprocess(x_data):\r\n",
        "    return x_data/255\r\n",
        "# clean valiadation data\r\n",
        "clean_data_filename = \"/content/drive/MyDrive/MLsecurity_project/data/clean_validation_data.h5\"\r\n",
        "train_images, train_labels = data_loader(clean_data_filename)\r\n",
        "train_images = data_preprocess(train_images)\r\n",
        "\r\n",
        "#clean test data\r\n",
        "test_clean_data_filename = \"/content/drive/MyDrive/MLsecurity_project/data/clean_test_data.h5\"\r\n",
        "test_images, test_labels = data_loader(test_clean_data_filename)\r\n",
        "test_images = data_preprocess(test_images)\r\n",
        "# bad data for sunglass\r\n",
        "poison_data_filename = \"/content/drive/MyDrive/MLsecurity_project/data/sunglasses_poisoned_data.h5\"\r\n",
        "xp_sunglasses, yp_sunglasses = data_loader(poison_data_filename)\r\n",
        "xp_sunglasses = data_preprocess(xp_sunglasses)\r\n",
        "#anonymous bad data\r\n",
        "poison_data_filename = \"/content/drive/MyDrive/MLsecurity_project/data/anonymous_1_poisoned_data.h5\"\r\n",
        "xp_anony, yp_anony = data_loader(poison_data_filename)\r\n",
        "xp_anony = data_preprocess(xp_sunglasses)\r\n",
        "\r\n",
        "\r\n",
        "\r\n",
        "#poison data for multi-trigger\r\n",
        "poison_data_filename = \"/content/drive/MyDrive/MLsecurity_project/data/eyebrows_poisoned_data.h5\"\r\n",
        "xp_eyebrows, yp_eyebrows = data_loader(poison_data_filename)\r\n",
        "xp_eyebrows = data_preprocess(xp_eyebrows)"
      ],
      "execution_count": 10,
      "outputs": []
    },
    {
      "cell_type": "markdown",
      "metadata": {
        "id": "Woc6fiYq2iJc"
      },
      "source": [
        "# Bad Model loading\r\n",
        "\r\n",
        "*   multi_trigger_multi_target_bd_net.h5->model_multi_trigger\r\n",
        "*   sunglasses_bd_net.h5 -> model_sunglasses\r\n",
        "*   anonymous_bd_net.h5 -> model_anonymous\r\n",
        "\r\n",
        "\r\n"
      ]
    },
    {
      "cell_type": "code",
      "metadata": {
        "id": "Yd_cUHgQFO8e"
      },
      "source": [
        "# model = keras.models.load_model(\"/content/drive/MLsecurity_project/models/sunglasses_bd_net.h5\")\r\n",
        "model_sunglasses = keras.models.load_model(\"/content/drive/MyDrive/MLsecurity_project/models/sunglasses_bd_net.h5\")\r\n",
        "model_multi_trigger = keras.models.load_model(\"/content/drive/MyDrive/MLsecurity_project/models/multi_trigger_multi_target_bd_net.h5\")\r\n",
        "model_anonymous = keras.models.load_model(\"/content/drive/MyDrive/MLsecurity_project/models/anonymous_bd_net.h5\")\r\n",
        "model_anonymous1 = keras.models.load_model(\"/content/drive/MyDrive/MLsecurity_project/models/anonymous_2_bd_net.h5\")\r\n",
        "\r\n",
        "model_sunglasses.compile(loss=tf.keras.losses.SparseCategoricalCrossentropy(),\r\n",
        "                  optimizer=Adam(), metrics=['accuracy'])\r\n",
        "model_multi_trigger.compile(loss=tf.keras.losses.SparseCategoricalCrossentropy(),\r\n",
        "                  optimizer=Adam(), metrics=['accuracy'])"
      ],
      "execution_count": 24,
      "outputs": []
    },
    {
      "cell_type": "markdown",
      "metadata": {
        "id": "gHbQwCmcHGiG"
      },
      "source": [
        "# Pruning Model"
      ]
    },
    {
      "cell_type": "code",
      "metadata": {
        "colab": {
          "base_uri": "https://localhost:8080/"
        },
        "id": "_6SivVRwJmxU",
        "outputId": "696af504-93c4-45f2-809f-8eb4f4ccde8c"
      },
      "source": [
        "import tensorflow_model_optimization as tfmot\r\n",
        "\r\n",
        "prune_low_magnitude = tfmot.sparsity.keras.prune_low_magnitude\r\n",
        "\r\n",
        "# Compute end step to finish pruning after 2 epochs.\r\n",
        "batch_size = 128\r\n",
        "epochs = 1\r\n",
        "validation_split = 0.1 # 10% of training set will be used for validation set. \r\n",
        "\r\n",
        "num_images = train_images.shape[0] * (1 - validation_split)\r\n",
        "end_step = np.ceil(num_images / batch_size).astype(np.int32) * epochs\r\n",
        "\r\n",
        "# Define model for pruning.\r\n",
        "pruning_params = {\r\n",
        "      'pruning_schedule': tfmot.sparsity.keras.PolynomialDecay(initial_sparsity=0.50,final_sparsity=0.80,begin_step=0,end_step=end_step)                                      \r\n",
        "}\r\n",
        "\r\n",
        "model_for_pruning_anonymous1 = prune_low_magnitude(model_anonymous1, **pruning_params)\r\n",
        "\r\n",
        "# `prune_low_magnitude` requires a recompile.\r\n",
        "model_for_pruning_anonymous1.compile(optimizer=Adam(),\r\n",
        "              loss=tf.keras.losses.SparseCategoricalCrossentropy(from_logits=True),\r\n",
        "              metrics=['accuracy'])\r\n",
        "\r\n",
        "# model_for_pruning.summary()"
      ],
      "execution_count": 26,
      "outputs": [
        {
          "output_type": "stream",
          "text": [
            "/usr/local/lib/python3.6/dist-packages/tensorflow/python/keras/engine/base_layer.py:2281: UserWarning: `layer.add_variable` is deprecated and will be removed in a future version. Please use `layer.add_weight` method instead.\n",
            "  warnings.warn('`layer.add_variable` is deprecated and '\n"
          ],
          "name": "stderr"
        }
      ]
    },
    {
      "cell_type": "code",
      "metadata": {
        "colab": {
          "base_uri": "https://localhost:8080/"
        },
        "id": "6GrKRJobuXPk",
        "outputId": "d7425003-6bbd-4e0b-ac7a-bb920dd5a22c"
      },
      "source": [
        "import tensorflow_model_optimization as tfmot\r\n",
        "\r\n",
        "prune_low_magnitude = tfmot.sparsity.keras.prune_low_magnitude\r\n",
        "\r\n",
        "# Compute end step to finish pruning after 2 epochs.\r\n",
        "batch_size = 128\r\n",
        "epochs = 1\r\n",
        "validation_split = 0.1 # 10% of training set will be used for validation set. \r\n",
        "\r\n",
        "num_images = train_images.shape[0] * (1 - validation_split)\r\n",
        "end_step = np.ceil(num_images / batch_size).astype(np.int32) * epochs\r\n",
        "\r\n",
        "# Define model for pruning.\r\n",
        "pruning_params = {\r\n",
        "      'pruning_schedule': tfmot.sparsity.keras.PolynomialDecay(initial_sparsity=0.50,final_sparsity=0.80,begin_step=0,end_step=end_step)                                      \r\n",
        "}\r\n",
        "\r\n",
        "model_for_pruning_sunglasses = prune_low_magnitude(model_sunglasses, **pruning_params)\r\n",
        "\r\n",
        "# `prune_low_magnitude` requires a recompile.\r\n",
        "model_for_pruning_sunglasses.compile(optimizer=Adam(),\r\n",
        "              loss=tf.keras.losses.SparseCategoricalCrossentropy(from_logits=True),\r\n",
        "              metrics=['accuracy'])\r\n",
        "\r\n",
        "# model_for_pruning.summary()"
      ],
      "execution_count": 28,
      "outputs": [
        {
          "output_type": "stream",
          "text": [
            "/usr/local/lib/python3.6/dist-packages/tensorflow/python/keras/engine/base_layer.py:2281: UserWarning: `layer.add_variable` is deprecated and will be removed in a future version. Please use `layer.add_weight` method instead.\n",
            "  warnings.warn('`layer.add_variable` is deprecated and '\n"
          ],
          "name": "stderr"
        }
      ]
    },
    {
      "cell_type": "code",
      "metadata": {
        "colab": {
          "base_uri": "https://localhost:8080/"
        },
        "id": "DcCB0Udh3KFA",
        "outputId": "66b97914-4a86-4555-f27a-794cb336a8a9"
      },
      "source": [
        "import tensorflow_model_optimization as tfmot\r\n",
        "\r\n",
        "prune_low_magnitude = tfmot.sparsity.keras.prune_low_magnitude\r\n",
        "\r\n",
        "# Compute end step to finish pruning after 2 epochs.\r\n",
        "batch_size = 128\r\n",
        "epochs = 1\r\n",
        "validation_split = 0.1 # 10% of training set will be used for validation set. \r\n",
        "\r\n",
        "num_images = train_images.shape[0] * (1 - validation_split)\r\n",
        "end_step = np.ceil(num_images / batch_size).astype(np.int32) * epochs\r\n",
        "\r\n",
        "# Define model for pruning.\r\n",
        "pruning_params = {\r\n",
        "      'pruning_schedule': tfmot.sparsity.keras.PolynomialDecay(initial_sparsity=0.50,final_sparsity=0.80,begin_step=0,end_step=end_step)                                      \r\n",
        "}\r\n",
        "\r\n",
        "model_for_pruning_trigger = prune_low_magnitude(model_multi_trigger, **pruning_params)\r\n",
        "\r\n",
        "# `prune_low_magnitude` requires a recompile.\r\n",
        "model_for_pruning_trigger.compile(optimizer=Adam(),\r\n",
        "              loss=tf.keras.losses.SparseCategoricalCrossentropy(from_logits=True),\r\n",
        "              metrics=['accuracy'])\r\n",
        "\r\n",
        "# model_for_pruning.summary()"
      ],
      "execution_count": 29,
      "outputs": [
        {
          "output_type": "stream",
          "text": [
            "/usr/local/lib/python3.6/dist-packages/tensorflow/python/keras/engine/base_layer.py:2281: UserWarning: `layer.add_variable` is deprecated and will be removed in a future version. Please use `layer.add_weight` method instead.\n",
            "  warnings.warn('`layer.add_variable` is deprecated and '\n"
          ],
          "name": "stderr"
        }
      ]
    },
    {
      "cell_type": "code",
      "metadata": {
        "id": "hwm2xg4ZXu35",
        "colab": {
          "base_uri": "https://localhost:8080/"
        },
        "outputId": "1f193aad-0ca3-4b0a-a209-41b2ca44196f"
      },
      "source": [
        "import tensorflow_model_optimization as tfmot\r\n",
        "\r\n",
        "prune_low_magnitude = tfmot.sparsity.keras.prune_low_magnitude\r\n",
        "\r\n",
        "# Compute end step to finish pruning after 2 epochs.\r\n",
        "batch_size = 128\r\n",
        "epochs = 1\r\n",
        "validation_split = 0.1 # 10% of training set will be used for validation set. \r\n",
        "\r\n",
        "num_images = train_images.shape[0] * (1 - validation_split)\r\n",
        "end_step = np.ceil(num_images / batch_size).astype(np.int32) * epochs\r\n",
        "\r\n",
        "# Define model for pruning.\r\n",
        "pruning_params = {\r\n",
        "      'pruning_schedule': tfmot.sparsity.keras.PolynomialDecay(initial_sparsity=0.50,final_sparsity=0.80,begin_step=0,end_step=end_step)                                      \r\n",
        "}\r\n",
        "\r\n",
        "model_for_pruning_anonymous = prune_low_magnitude(model_anonymous, **pruning_params)\r\n",
        "\r\n",
        "# `prune_low_magnitude` requires a recompile.\r\n",
        "model_for_pruning_anonymous.compile(optimizer=Adam(),\r\n",
        "              loss=tf.keras.losses.SparseCategoricalCrossentropy(from_logits=True),\r\n",
        "              metrics=['accuracy'])"
      ],
      "execution_count": 30,
      "outputs": [
        {
          "output_type": "stream",
          "text": [
            "/usr/local/lib/python3.6/dist-packages/tensorflow/python/keras/engine/base_layer.py:2281: UserWarning: `layer.add_variable` is deprecated and will be removed in a future version. Please use `layer.add_weight` method instead.\n",
            "  warnings.warn('`layer.add_variable` is deprecated and '\n"
          ],
          "name": "stderr"
        }
      ]
    },
    {
      "cell_type": "markdown",
      "metadata": {
        "id": "_xuslO4WtkUy"
      },
      "source": [
        "# Entropy"
      ]
    },
    {
      "cell_type": "code",
      "metadata": {
        "id": "qHhMOeyDeuh9"
      },
      "source": [
        "# def entropy(labels):\r\n",
        "#     \"\"\" Computes entropy of 0-1 vector. \"\"\"\r\n",
        "#     n_labels = len(labels)\r\n",
        "\r\n",
        "#     if n_labels <= 1:\r\n",
        "#         return 0\r\n",
        "\r\n",
        "#     counts = np.bincount(labels)\r\n",
        "#     probs = counts[np.nonzero(counts)] / n_labels\r\n",
        "#     n_classes = len(probs)\r\n",
        "\r\n",
        "#     if n_classes <= 1:\r\n",
        "#         return 0\r\n",
        "#     return - np.sum(probs * np.log(probs)) / np.log(n_classes)\r\n",
        "def permute(sample):\r\n",
        "    N = 100\r\n",
        "    indices=np.arange(Combined_X.shape[0])\r\n",
        "    np.random.shuffle(indices)\r\n",
        "    indexs = indices[:N]\r\n",
        "    xx_cho = Combined_X[indexs]\r\n",
        "    xx_per = sample + xx_cho\r\n",
        "    return xx_per"
      ],
      "execution_count": 11,
      "outputs": []
    },
    {
      "cell_type": "markdown",
      "metadata": {
        "id": "-h8svQv4yKlu"
      },
      "source": [
        "## analyse entropy on multi_triggered poisoned data"
      ]
    },
    {
      "cell_type": "code",
      "metadata": {
        "colab": {
          "base_uri": "https://localhost:8080/"
        },
        "id": "h3529g5atji9",
        "outputId": "20cb3656-c860-493e-dc72-27de2ec685cd"
      },
      "source": [
        "Combined_Y=np.append(test_labels[:1000],yp_eyebrows[:100])\r\n",
        "Combined_X=np.append(test_images[:1000],xp_eyebrows[:100],axis=0)\r\n",
        "target_class = yp_eyebrows[0]\r\n",
        "print(target_class)\r\n",
        "indices=np.arange(Combined_X.shape[0])\r\n",
        "np.random.shuffle(indices)\r\n",
        "Combined_X=Combined_X[indices]\r\n",
        "Combined_Y=Combined_Y[indices]"
      ],
      "execution_count": 31,
      "outputs": [
        {
          "output_type": "stream",
          "text": [
            "5.0\n"
          ],
          "name": "stdout"
        }
      ]
    },
    {
      "cell_type": "code",
      "metadata": {
        "id": "MfhOfZ8ppiSP"
      },
      "source": [
        "\r\n",
        "Combined_X1 = Combined_X[:800]\r\n",
        "Combined_Y1 = Combined_Y[:800]"
      ],
      "execution_count": null,
      "outputs": []
    },
    {
      "cell_type": "code",
      "metadata": {
        "id": "ZzIgRcIlmZUy"
      },
      "source": [
        "total = 0\r\n",
        "c1 = 0\r\n",
        "c2 = 0\r\n",
        "c3 = 0\r\n",
        "c4 = 0\r\n",
        "total = 0\r\n",
        "res_po = np.zeros(len(Combined_X1))\r\n",
        "\r\n",
        "res_cl = np.zeros(len(Combined_X1))\r\n"
      ],
      "execution_count": null,
      "outputs": []
    },
    {
      "cell_type": "code",
      "metadata": {
        "id": "C7FPfF4qLWPq",
        "colab": {
          "base_uri": "https://localhost:8080/"
        },
        "outputId": "78ef14d4-aea6-43d7-e71e-9ecd90ec843e"
      },
      "source": [
        "\r\n",
        "import threading\r\n",
        "from threading import Thread\r\n",
        "import math\r\n",
        "from scipy.stats import entropy\r\n",
        "mutex = threading.Lock()\r\n",
        "import time\r\n",
        "\r\n",
        "def split_df():\r\n",
        "\r\n",
        "  thread_list = []\r\n",
        "  split_count = 20\r\n",
        "  times = math.ceil(len(Combined_X1) / split_count)\r\n",
        "  print(\"thread num = \" + str(times))\r\n",
        "  count = 0\r\n",
        "  for item in range(times):\r\n",
        "    print(count,count + split_count)\r\n",
        "    # samples_x = Combined_X1[count: count + split_count]\r\n",
        "    # samples_y = Combined_Y1[count: count + split_count]\r\n",
        "    thread = Thread(target=work, args=(count,count + split_count))\r\n",
        "    thread_list.append(thread)\r\n",
        "    # thread.start()\r\n",
        "    count += split_count\r\n",
        "  for i in range(len(thread_list)):\r\n",
        "\r\n",
        "    thread_list[i].start()\r\n",
        "  # while len(threading.enumerate()) != 1:\r\n",
        "  #   time.sleep(1)\r\n",
        "  for _item in thread_list:\r\n",
        "      _item.join()\r\n",
        "\r\n",
        "lock = threading.Lock()\r\n",
        "def work(start,end):\r\n",
        "  global total\r\n",
        "  global res_po\r\n",
        "  global res_cl\r\n",
        "  global c1\r\n",
        "  global c2\r\n",
        "  global c3\r\n",
        "  global c4\r\n",
        "  for id in range(start, end):\r\n",
        "    sample = Combined_X1[id]\r\n",
        "    y = Combined_Y1[id]\r\n",
        "    x_per = permute(sample)\r\n",
        "    outs = model_for_pruning_trigger.predict(x_per)\r\n",
        "    en = 0\r\n",
        "    for i in range(len(outs)):\r\n",
        "      en += entropy(outs[i])\r\n",
        "    # print(en/100)\r\n",
        "    if (y == target_class):#poisoned data\r\n",
        "      mutex.acquire()\r\n",
        "      # print(\"poison\")\r\n",
        "      total += 1\r\n",
        "      res_po[id]=(en/100)\r\n",
        "      mutex.release()\r\n",
        "    else:\r\n",
        "      mutex.acquire()\r\n",
        "      # print(\"clean\")\r\n",
        "      total += 1\r\n",
        "      res_cl[id] = (en/100)\r\n",
        "      mutex.release()\r\n",
        "    if ((en/100) < 0.3) and (y == target_class):\r\n",
        "      # poison data\r\n",
        "      c1 += 1\r\n",
        "    if ((en/100) >= 0.3) and (y != target_class):\r\n",
        "      c2 += 1\r\n",
        "    if (y!= target_class) and ((en/100) < 0.3):\r\n",
        "      c3 += 1#FRR\r\n",
        "    if ( y == target_class) and ((en/100) >= 0.3):\r\n",
        "      c4 += 1#FAR\r\n",
        " \r\n",
        "\r\n",
        "\r\n",
        " \r\n",
        " \r\n",
        "def use():\r\n",
        "  split_df()\r\n",
        "\r\n",
        "y = use()\r\n",
        "\r\n",
        "res_cl = res_cl[:len(res_po)]\r\n"
      ],
      "execution_count": null,
      "outputs": [
        {
          "output_type": "stream",
          "text": [
            "thread num = 40\n",
            "0 20\n",
            "20 40\n",
            "40 60\n",
            "60 80\n",
            "80 100\n",
            "100 120\n",
            "120 140\n",
            "140 160\n",
            "160 180\n",
            "180 200\n",
            "200 220\n",
            "220 240\n",
            "240 260\n",
            "260 280\n",
            "280 300\n",
            "300 320\n",
            "320 340\n",
            "340 360\n",
            "360 380\n",
            "380 400\n",
            "400 420\n",
            "420 440\n",
            "440 460\n",
            "460 480\n",
            "480 500\n",
            "500 520\n",
            "520 540\n",
            "540 560\n",
            "560 580\n",
            "580 600\n",
            "600 620\n",
            "620 640\n",
            "640 660\n",
            "660 680\n",
            "680 700\n",
            "700 720\n",
            "720 740\n",
            "740 760\n",
            "760 780\n",
            "780 800\n"
          ],
          "name": "stdout"
        }
      ]
    },
    {
      "cell_type": "markdown",
      "metadata": {
        "id": "am8KWBRy7tkE"
      },
      "source": [
        "### analysis"
      ]
    },
    {
      "cell_type": "markdown",
      "metadata": {
        "id": "KjvCkzE1C81Q"
      },
      "source": [
        "**FRR**"
      ]
    },
    {
      "cell_type": "code",
      "metadata": {
        "id": "wOuJchHo7tSB",
        "colab": {
          "base_uri": "https://localhost:8080/"
        },
        "outputId": "8b38e7ae-d53f-470a-ed7f-7bd003f48988"
      },
      "source": [
        "FRR = c3/np.sum(Combined_Y != target_class)\r\n",
        "print(FRR)"
      ],
      "execution_count": null,
      "outputs": [
        {
          "output_type": "stream",
          "text": [
            "0.08\n"
          ],
          "name": "stdout"
        }
      ]
    },
    {
      "cell_type": "markdown",
      "metadata": {
        "id": "onYt6lEDC-Og"
      },
      "source": [
        "**FAR**"
      ]
    },
    {
      "cell_type": "code",
      "metadata": {
        "id": "vfmVv1iD9Wmm",
        "colab": {
          "base_uri": "https://localhost:8080/"
        },
        "outputId": "b7f52dff-c90e-41d1-c9ad-0479776f0d64"
      },
      "source": [
        "FAR = c4/np.sum(Combined_Y == target_class)\r\n",
        "print(FAR)"
      ],
      "execution_count": null,
      "outputs": [
        {
          "output_type": "stream",
          "text": [
            "0.1\n"
          ],
          "name": "stdout"
        }
      ]
    },
    {
      "cell_type": "code",
      "metadata": {
        "id": "_uyLBa17o1VQ",
        "colab": {
          "base_uri": "https://localhost:8080/",
          "height": 174
        },
        "outputId": "c4836468-f3dd-4ca4-b07c-5b942a10e479"
      },
      "source": [
        "import matplotlib.pyplot as plt\r\n",
        "plt.figure(figsize=(50,8))\r\n",
        "x_axix = np.arange(len(res_cl))\r\n",
        "plt.title('Result Analysis')\r\n",
        "plt.bar(x_axix, res_cl, color='green', label='clean entropy')\r\n",
        "plt.bar(x_axix, res_po, color='red', label='poison entroy')\r\n",
        "plt.legend() \r\n",
        "axes = plt.gca()\r\n",
        "left, right = axes.get_xlim()\r\n",
        "axes.hlines(y=0.3, xmin=left, xmax=right, linestyles='dashed')\r\n",
        "plt.xlabel('iteration times')\r\n",
        "plt.ylabel('entropy')\r\n",
        "plt.show()"
      ],
      "execution_count": null,
      "outputs": [
        {
          "output_type": "display_data",
          "data": {
            "image/png": "[encoded data removed]",
            "text/plain": [
              "<Figure size 3600x576 with 1 Axes>"
            ]
          },
          "metadata": {
            "tags": [],
            "needs_background": "light"
          }
        }
      ]
    },
    {
      "cell_type": "markdown",
      "metadata": {
        "id": "8Mkmxk5byENw"
      },
      "source": [
        "## analyse entropy on sunglass poisoned data"
      ]
    },
    {
      "cell_type": "code",
      "metadata": {
        "colab": {
          "base_uri": "https://localhost:8080/"
        },
        "id": "AAj0Dh0WrmIH",
        "outputId": "3879eb3b-e7db-4634-a74c-d6f8bf5fa06f"
      },
      "source": [
        "Combined_Y=np.append(test_labels[:1000],yp_sunglasses[:100])\r\n",
        "Combined_X=np.append(test_images[:1000],xp_sunglasses[:100],axis=0)\r\n",
        "target_class = yp_sunglasses[0]\r\n",
        "print(target_class)\r\n",
        "indices=np.arange(Combined_X.shape[0])\r\n",
        "np.random.shuffle(indices)\r\n",
        "Combined_X=Combined_X[indices]\r\n",
        "Combined_Y=Combined_Y[indices]"
      ],
      "execution_count": null,
      "outputs": [
        {
          "output_type": "stream",
          "text": [
            "0.0\n"
          ],
          "name": "stdout"
        }
      ]
    },
    {
      "cell_type": "code",
      "metadata": {
        "id": "NI0pEtWq4bNx"
      },
      "source": [
        "Combined_X1 = Combined_X[:800]\r\n",
        "Combined_Y1 = Combined_Y[:800]"
      ],
      "execution_count": null,
      "outputs": []
    },
    {
      "cell_type": "code",
      "metadata": {
        "id": "gYm2a34C5qq3"
      },
      "source": [
        "total = 0\r\n",
        "c1 = 0\r\n",
        "c2 = 0\r\n",
        "c3 = 0\r\n",
        "c4 = 0\r\n",
        "total = 0\r\n",
        "res_po = np.zeros(len(Combined_X1))\r\n",
        "\r\n",
        "res_cl = np.zeros(len(Combined_X1))"
      ],
      "execution_count": null,
      "outputs": []
    },
    {
      "cell_type": "code",
      "metadata": {
        "id": "sISLhL3_rtdW",
        "colab": {
          "base_uri": "https://localhost:8080/"
        },
        "outputId": "cc05f46c-90f3-482a-ba24-88521ce67bfa"
      },
      "source": [
        "import threading\r\n",
        "from threading import Thread\r\n",
        "import math\r\n",
        "from scipy.stats import entropy\r\n",
        "mutex = threading.Lock()\r\n",
        "import time\r\n",
        "\r\n",
        "def split_df():\r\n",
        "\r\n",
        "  thread_list = []\r\n",
        "  split_count = 20\r\n",
        "  times = math.ceil(len(Combined_X1) / split_count)\r\n",
        "  print(\"thread num = \" + str(times))\r\n",
        "  count = 0\r\n",
        "  for item in range(times):\r\n",
        "    print(count,count + split_count)\r\n",
        "    # samples_x = Combined_X1[count: count + split_count]\r\n",
        "    # samples_y = Combined_Y1[count: count + split_count]\r\n",
        "    thread = Thread(target=work, args=(count,count + split_count))\r\n",
        "    thread_list.append(thread)\r\n",
        "    # thread.start()\r\n",
        "    count += split_count\r\n",
        "  for i in range(len(thread_list)):\r\n",
        "\r\n",
        "    thread_list[i].start()\r\n",
        "  # while len(threading.enumerate()) != 1:\r\n",
        "  #   time.sleep(1)\r\n",
        "  for _item in thread_list:\r\n",
        "      _item.join()\r\n",
        "\r\n",
        "lock = threading.Lock()\r\n",
        "def work(start,end):\r\n",
        "  global total\r\n",
        "  global res_po\r\n",
        "  global res_cl\r\n",
        "  global c1\r\n",
        "  global c2\r\n",
        "  global c3\r\n",
        "  global c4\r\n",
        "  for id in range(start, end):\r\n",
        "    sample = Combined_X1[id]\r\n",
        "    y = Combined_Y1[id]\r\n",
        "    x_per = permute(sample)\r\n",
        "    outs = model_for_pruning_sunglasses.predict(x_per)\r\n",
        "    en = 0\r\n",
        "    for i in range(len(outs)):\r\n",
        "      en += entropy(outs[i])\r\n",
        "    # print(en/100)\r\n",
        "    if (y == target_class):#poisoned data\r\n",
        "      mutex.acquire()\r\n",
        "      \r\n",
        "      total += 1\r\n",
        "      res_po[id]=(en/100)\r\n",
        "      mutex.release()\r\n",
        "    else:\r\n",
        "      mutex.acquire()\r\n",
        "      \r\n",
        "      total += 1\r\n",
        "      res_cl[id] = (en/100)\r\n",
        "      mutex.release()\r\n",
        "    if ((en/100) < 0.18) and (y == target_class):\r\n",
        "      # poison data\r\n",
        "      c1 += 1\r\n",
        "    if ((en/100) >= 0.18) and (y != target_class):\r\n",
        "      c2 += 1\r\n",
        "    if (y!= target_class) and ((en/100) < 0.18):\r\n",
        "      c3 += 1#FRR\r\n",
        "    if ( y == target_class) and ((en/100) >= 0.18):\r\n",
        "      c4 += 1#FAR\r\n",
        " \r\n",
        "\r\n",
        "\r\n",
        " \r\n",
        " \r\n",
        "def use():\r\n",
        "  split_df()\r\n",
        "\r\n",
        "y = use()\r\n",
        "\r\n",
        "res_cl = res_cl[:len(res_po)]\r\n"
      ],
      "execution_count": null,
      "outputs": [
        {
          "output_type": "stream",
          "text": [
            "thread num = 40\n",
            "0 20\n",
            "20 40\n",
            "40 60\n",
            "60 80\n",
            "80 100\n",
            "100 120\n",
            "120 140\n",
            "140 160\n",
            "160 180\n",
            "180 200\n",
            "200 220\n",
            "220 240\n",
            "240 260\n",
            "260 280\n",
            "280 300\n",
            "300 320\n",
            "320 340\n",
            "340 360\n",
            "360 380\n",
            "380 400\n",
            "400 420\n",
            "420 440\n",
            "440 460\n",
            "460 480\n",
            "480 500\n",
            "500 520\n",
            "520 540\n",
            "540 560\n",
            "560 580\n",
            "580 600\n",
            "600 620\n",
            "620 640\n",
            "640 660\n",
            "660 680\n",
            "680 700\n",
            "700 720\n",
            "720 740\n",
            "740 760\n",
            "760 780\n",
            "780 800\n"
          ],
          "name": "stdout"
        }
      ]
    },
    {
      "cell_type": "markdown",
      "metadata": {
        "id": "L5QhGUl8-JrQ"
      },
      "source": [
        "### analysis"
      ]
    },
    {
      "cell_type": "markdown",
      "metadata": {
        "id": "DIPAdt6tC14N"
      },
      "source": [
        "**FAR**"
      ]
    },
    {
      "cell_type": "code",
      "metadata": {
        "colab": {
          "base_uri": "https://localhost:8080/"
        },
        "id": "Kx2EVRim-HYc",
        "outputId": "ddec86f8-5286-48e3-b598-ebc69bdf0aad"
      },
      "source": [
        "FAR = c4/np.sum(Combined_Y == target_class)\r\n",
        "print(FAR)"
      ],
      "execution_count": null,
      "outputs": [
        {
          "output_type": "stream",
          "text": [
            "0.019801980198019802\n"
          ],
          "name": "stdout"
        }
      ]
    },
    {
      "cell_type": "markdown",
      "metadata": {
        "id": "0Wfhd8YhC3fh"
      },
      "source": [
        "**FRR**"
      ]
    },
    {
      "cell_type": "code",
      "metadata": {
        "colab": {
          "base_uri": "https://localhost:8080/"
        },
        "id": "ZDeGmVAR-FUV",
        "outputId": "5649f8e5-e3c1-499b-bc94-3bbc1a909f7b"
      },
      "source": [
        "FRR = c3/np.sum(Combined_Y != target_class)\r\n",
        "print(FRR)"
      ],
      "execution_count": null,
      "outputs": [
        {
          "output_type": "stream",
          "text": [
            "0.044044044044044044\n"
          ],
          "name": "stdout"
        }
      ]
    },
    {
      "cell_type": "code",
      "metadata": {
        "colab": {
          "base_uri": "https://localhost:8080/",
          "height": 174
        },
        "id": "gVcROm_prw3_",
        "outputId": "9843427a-aa3c-438f-f64e-718922774597"
      },
      "source": [
        "import matplotlib.pyplot as plt\r\n",
        "plt.figure(figsize=(50,8))\r\n",
        "x_axix = np.arange(len(res_cl))\r\n",
        "plt.title('Result Analysis')\r\n",
        "plt.bar(x_axix, res_cl, color='green', label='clean entropy')\r\n",
        "plt.bar(x_axix, res_po, color='red', label='poison entroy')\r\n",
        "plt.legend() \r\n",
        "axes = plt.gca()\r\n",
        "left, right = axes.get_xlim()\r\n",
        "axes.hlines(y=0.18, xmin=left, xmax=right, linestyles='dashed')\r\n",
        "plt.xlabel('iteration times')\r\n",
        "plt.ylabel('entropy')\r\n",
        "plt.show()"
      ],
      "execution_count": null,
      "outputs": [
        {
          "output_type": "display_data",
          "data": {
            "image/png": "[encoded data removed]",
            "text/plain": [
              "<Figure size 3600x576 with 1 Axes>"
            ]
          },
          "metadata": {
            "tags": [],
            "needs_background": "light"
          }
        }
      ]
    },
    {
      "cell_type": "markdown",
      "metadata": {
        "id": "E0Vdl1sdLsMO"
      },
      "source": [
        "## analyse entropy on anonymous poisoned data"
      ]
    },
    {
      "cell_type": "code",
      "metadata": {
        "colab": {
          "base_uri": "https://localhost:8080/"
        },
        "id": "gSVD5hL-L47a",
        "outputId": "33288c85-7fa7-4f27-896d-82e8f9f55a3f"
      },
      "source": [
        "Combined_Y=np.append(test_labels[:1000],yp_anony[:100])\r\n",
        "Combined_X=np.append(test_images[:1000],xp_anony[:100],axis=0)\r\n",
        "target_class = yp_anony[0]\r\n",
        "print(target_class)\r\n",
        "indices=np.arange(Combined_X.shape[0])\r\n",
        "np.random.shuffle(indices)\r\n",
        "Combined_X=Combined_X[indices]\r\n",
        "Combined_Y=Combined_Y[indices]"
      ],
      "execution_count": 37,
      "outputs": [
        {
          "output_type": "stream",
          "text": [
            "0.0\n"
          ],
          "name": "stdout"
        }
      ]
    },
    {
      "cell_type": "code",
      "metadata": {
        "id": "iNDyWu59MKTS"
      },
      "source": [
        "Combined_X1 = Combined_X[:800]\r\n",
        "Combined_Y1 = Combined_Y[:800]"
      ],
      "execution_count": 38,
      "outputs": []
    },
    {
      "cell_type": "code",
      "metadata": {
        "id": "0rgVZfTeMSXJ"
      },
      "source": [
        "total = 0\r\n",
        "c1 = 0\r\n",
        "c2 = 0\r\n",
        "c3 = 0\r\n",
        "c4 = 0\r\n",
        "total = 0\r\n",
        "res_po = np.zeros(len(Combined_X1))\r\n",
        "\r\n",
        "res_cl = np.zeros(len(Combined_X1))"
      ],
      "execution_count": 39,
      "outputs": []
    },
    {
      "cell_type": "code",
      "metadata": {
        "colab": {
          "base_uri": "https://localhost:8080/"
        },
        "id": "6bZyXJF7MX_A",
        "outputId": "eab7c5a6-94ed-47a6-e74a-1802a2a9ef66"
      },
      "source": [
        "import threading\r\n",
        "from threading import Thread\r\n",
        "import math\r\n",
        "from scipy.stats import entropy\r\n",
        "mutex = threading.Lock()\r\n",
        "import time\r\n",
        "\r\n",
        "def split_df():\r\n",
        "\r\n",
        "  thread_list = []\r\n",
        "  split_count = 20\r\n",
        "  times = math.ceil(len(Combined_X1) / split_count)\r\n",
        "  print(\"thread num = \" + str(times))\r\n",
        "  count = 0\r\n",
        "  for item in range(times):\r\n",
        "    print(count,count + split_count)\r\n",
        "    # samples_x = Combined_X1[count: count + split_count]\r\n",
        "    # samples_y = Combined_Y1[count: count + split_count]\r\n",
        "    thread = Thread(target=work, args=(count,count + split_count))\r\n",
        "    thread_list.append(thread)\r\n",
        "    # thread.start()\r\n",
        "    count += split_count\r\n",
        "  for i in range(len(thread_list)):\r\n",
        "\r\n",
        "    thread_list[i].start()\r\n",
        "  # while len(threading.enumerate()) != 1:\r\n",
        "  #   time.sleep(1)\r\n",
        "  for _item in thread_list:\r\n",
        "      _item.join()\r\n",
        "\r\n",
        "lock = threading.Lock()\r\n",
        "def work(start,end):\r\n",
        "  global total\r\n",
        "  global res_po\r\n",
        "  global res_cl\r\n",
        "  global c1\r\n",
        "  global c2\r\n",
        "  global c3\r\n",
        "  global c4\r\n",
        "  for id in range(start, end):\r\n",
        "    sample = Combined_X1[id]\r\n",
        "    y = Combined_Y1[id]\r\n",
        "    x_per = permute(sample)\r\n",
        "    outs = model_for_pruning_anonymous1.predict(x_per)\r\n",
        "    en = 0\r\n",
        "    for i in range(len(outs)):\r\n",
        "      en += entropy(outs[i])\r\n",
        "    # print(en/100)\r\n",
        "    if (y == target_class):#poisoned data\r\n",
        "      mutex.acquire()\r\n",
        "      \r\n",
        "      total += 1\r\n",
        "      res_po[id]=(en/100)\r\n",
        "      mutex.release()\r\n",
        "    else:\r\n",
        "      mutex.acquire()\r\n",
        "      \r\n",
        "      total += 1\r\n",
        "      res_cl[id] = (en/100)\r\n",
        "      mutex.release()\r\n",
        "    if ((en/100) < 0.18) and (y == target_class):\r\n",
        "      # poison data\r\n",
        "      c1 += 1\r\n",
        "    if ((en/100) >= 0.18) and (y != target_class):\r\n",
        "      c2 += 1\r\n",
        "    if (y!= target_class) and ((en/100) < 0.18):\r\n",
        "      c3 += 1#FRR\r\n",
        "    if ( y == target_class) and ((en/100) >= 0.18):\r\n",
        "      c4 += 1#FAR\r\n",
        " \r\n",
        "\r\n",
        "\r\n",
        " \r\n",
        " \r\n",
        "def use():\r\n",
        "  split_df()\r\n",
        "\r\n",
        "y = use()\r\n",
        "\r\n",
        "res_cl = res_cl[:len(res_po)]\r\n"
      ],
      "execution_count": 40,
      "outputs": [
        {
          "output_type": "stream",
          "text": [
            "thread num = 40\n",
            "0 20\n",
            "20 40\n",
            "40 60\n",
            "60 80\n",
            "80 100\n",
            "100 120\n",
            "120 140\n",
            "140 160\n",
            "160 180\n",
            "180 200\n",
            "200 220\n",
            "220 240\n",
            "240 260\n",
            "260 280\n",
            "280 300\n",
            "300 320\n",
            "320 340\n",
            "340 360\n",
            "360 380\n",
            "380 400\n",
            "400 420\n",
            "420 440\n",
            "440 460\n",
            "460 480\n",
            "480 500\n",
            "500 520\n",
            "520 540\n",
            "540 560\n",
            "560 580\n",
            "580 600\n",
            "600 620\n",
            "620 640\n",
            "640 660\n",
            "660 680\n",
            "680 700\n",
            "700 720\n",
            "720 740\n",
            "740 760\n",
            "760 780\n",
            "780 800\n"
          ],
          "name": "stdout"
        }
      ]
    },
    {
      "cell_type": "markdown",
      "metadata": {
        "id": "09m-TcZsVIni"
      },
      "source": [
        "### analysis"
      ]
    },
    {
      "cell_type": "code",
      "metadata": {
        "colab": {
          "base_uri": "https://localhost:8080/"
        },
        "id": "UNCRxMHQO8OL",
        "outputId": "f8ba29b1-f441-4119-af8f-c09cb187ef29"
      },
      "source": [
        "FAR = c4/np.sum(Combined_Y == target_class)\r\n",
        "print(FAR)"
      ],
      "execution_count": 41,
      "outputs": [
        {
          "output_type": "stream",
          "text": [
            "0.0891089108910891\n"
          ],
          "name": "stdout"
        }
      ]
    },
    {
      "cell_type": "code",
      "metadata": {
        "colab": {
          "base_uri": "https://localhost:8080/"
        },
        "id": "Y53R-mpMPLHA",
        "outputId": "48976074-2152-4001-c90b-6fef06a91efa"
      },
      "source": [
        "FRR = c3/np.sum(Combined_Y != target_class)\r\n",
        "print(FRR)"
      ],
      "execution_count": 42,
      "outputs": [
        {
          "output_type": "stream",
          "text": [
            "0.021021021021021023\n"
          ],
          "name": "stdout"
        }
      ]
    },
    {
      "cell_type": "code",
      "metadata": {
        "colab": {
          "base_uri": "https://localhost:8080/",
          "height": 533
        },
        "id": "j2SWxrPTPN0f",
        "outputId": "1ce97115-aa85-4cd6-cdee-75ea40dcb451"
      },
      "source": [
        "import matplotlib.pyplot as plt\r\n",
        "plt.figure(figsize=(50,8))\r\n",
        "x_axix = np.arange(len(res_cl))\r\n",
        "plt.title('Result Analysis')\r\n",
        "plt.bar(x_axix, res_cl, color='green', label='clean entropy')\r\n",
        "plt.bar(x_axix, res_po, color='red', label='poison entroy')\r\n",
        "plt.legend() \r\n",
        "axes = plt.gca()\r\n",
        "left, right = axes.get_xlim()\r\n",
        "axes.hlines(y=0.18, xmin=left, xmax=right, linestyles='dashed')\r\n",
        "plt.xlabel('iteration times')\r\n",
        "plt.ylabel('entropy')\r\n",
        "plt.show()"
      ],
      "execution_count": 43,
      "outputs": [
        {
          "output_type": "display_data",
          "data": {
            "image/png": "[encoded data removed]",
            "text/plain": [
              "<Figure size 3600x576 with 1 Axes>"
            ]
          },
          "metadata": {
            "tags": [],
            "needs_background": "light"
          }
        }
      ]
    },
    {
      "cell_type": "markdown",
      "metadata": {
        "id": "90yaOdVhDh54"
      },
      "source": [
        "# Model repair"
      ]
    },
    {
      "cell_type": "markdown",
      "metadata": {
        "id": "-bGsKn1tQq4M"
      },
      "source": [
        "## For sunglasses_bd_net.h5"
      ]
    },
    {
      "cell_type": "markdown",
      "metadata": {
        "id": "zvbcwrrEE14w"
      },
      "source": [
        "### Input data"
      ]
    },
    {
      "cell_type": "code",
      "metadata": {
        "colab": {
          "base_uri": "https://localhost:8080/"
        },
        "id": "29-gR7n9DhOu",
        "outputId": "9938c4bc-4d0f-4872-801e-55f3c9255bc9"
      },
      "source": [
        "Combined_Y=np.append(test_labels[:1000],yp_sunglasses[:100])\r\n",
        "Combined_X=np.append(test_images[:1000],xp_sunglasses[:100],axis=0)\r\n",
        "target_class = yp_sunglasses[0]\r\n",
        "print(target_class)\r\n",
        "indices=np.arange(Combined_X.shape[0])\r\n",
        "np.random.shuffle(indices)\r\n",
        "Combined_X=Combined_X[indices]\r\n",
        "Combined_Y=Combined_Y[indices]\r\n",
        "Combined_X1 = Combined_X[:800]\r\n",
        "Combined_Y1 = Combined_Y[:800]"
      ],
      "execution_count": null,
      "outputs": [
        {
          "output_type": "stream",
          "text": [
            "0.0\n"
          ],
          "name": "stdout"
        }
      ]
    },
    {
      "cell_type": "markdown",
      "metadata": {
        "id": "nsPllFyYE5d0"
      },
      "source": [
        "### dectecting poisoned data's index"
      ]
    },
    {
      "cell_type": "code",
      "metadata": {
        "id": "SMvTV3pU-2vc"
      },
      "source": [
        "total = 0\r\n",
        "c1 = 0\r\n",
        "c2 = 0\r\n",
        "c3 = 0\r\n",
        "c4 = 0\r\n",
        "total = 0\r\n",
        "res_predict = np.zeros(len(Combined_X1))\r\n",
        "for i in range(len(Combined_Y1)):\r\n",
        "  if Combined_Y1[i] == target_class:\r\n",
        "    Combined_Y1[i] = 1284\r\n"
      ],
      "execution_count": null,
      "outputs": []
    },
    {
      "cell_type": "code",
      "metadata": {
        "id": "ZomBHA_xDpuY",
        "colab": {
          "base_uri": "https://localhost:8080/"
        },
        "outputId": "26093106-8cde-4b70-c618-70572c91df4e"
      },
      "source": [
        "import threading\r\n",
        "from threading import Thread\r\n",
        "import math\r\n",
        "from scipy.stats import entropy\r\n",
        "mutex = threading.Lock()\r\n",
        "import time\r\n",
        "\r\n",
        "def split_df():\r\n",
        "\r\n",
        "  thread_list = []\r\n",
        "  split_count = 20\r\n",
        "  times = math.ceil(len(Combined_X1) / split_count)\r\n",
        "  print(\"thread num = \" + str(times))\r\n",
        "  count = 0\r\n",
        "  for item in range(times):\r\n",
        "    print(count,count + split_count)\r\n",
        "    # samples_x = Combined_X1[count: count + split_count]\r\n",
        "    # samples_y = Combined_Y1[count: count + split_count]\r\n",
        "    thread = Thread(target=work, args=(count,count + split_count))\r\n",
        "    thread_list.append(thread)\r\n",
        "    # thread.start()\r\n",
        "    count += split_count\r\n",
        "  for i in range(len(thread_list)):\r\n",
        "\r\n",
        "    thread_list[i].start()\r\n",
        "  # while len(threading.enumerate()) != 1:\r\n",
        "  #   time.sleep(1)\r\n",
        "  for _item in thread_list:\r\n",
        "      _item.join()\r\n",
        "\r\n",
        "lock = threading.Lock()\r\n",
        "def work(start,end):\r\n",
        "  global total\r\n",
        "  global res_predict\r\n",
        "  global c1\r\n",
        "  global c2\r\n",
        "  global c3\r\n",
        "  global c4\r\n",
        "  for id in range(start, end):\r\n",
        "    sample = Combined_X1[id]\r\n",
        "    y = Combined_Y1[id]\r\n",
        "    x_per = permute(sample)\r\n",
        "    outs = model_for_pruning_sunglasses.predict(x_per)\r\n",
        "    en = 0\r\n",
        "    for i in range(len(outs)):\r\n",
        "      en += entropy(outs[i])\r\n",
        "    \r\n",
        "    if ((en/100) < 0.18):\r\n",
        "      mutex.acquire()\r\n",
        "      res_predict[id] = 1284\r\n",
        "      mutex.release()\r\n",
        "      \r\n",
        "\r\n",
        "\r\n",
        " \r\n",
        "\r\n",
        "\r\n",
        " \r\n",
        " \r\n",
        "def use():\r\n",
        "  split_df()\r\n",
        "\r\n",
        "y = use()\r\n",
        "\r\n",
        "res_cl = res_cl[:len(res_po)]"
      ],
      "execution_count": null,
      "outputs": [
        {
          "output_type": "stream",
          "text": [
            "thread num = 40\n",
            "0 20\n",
            "20 40\n",
            "40 60\n",
            "60 80\n",
            "80 100\n",
            "100 120\n",
            "120 140\n",
            "140 160\n",
            "160 180\n",
            "180 200\n",
            "200 220\n",
            "220 240\n",
            "240 260\n",
            "260 280\n",
            "280 300\n",
            "300 320\n",
            "320 340\n",
            "340 360\n",
            "360 380\n",
            "380 400\n",
            "400 420\n",
            "420 440\n",
            "440 460\n",
            "460 480\n",
            "480 500\n",
            "500 520\n",
            "520 540\n",
            "540 560\n",
            "560 580\n",
            "580 600\n",
            "600 620\n",
            "620 640\n",
            "640 660\n",
            "660 680\n",
            "680 700\n",
            "700 720\n",
            "720 740\n",
            "740 760\n",
            "760 780\n",
            "780 800\n"
          ],
          "name": "stdout"
        }
      ]
    },
    {
      "cell_type": "markdown",
      "metadata": {
        "id": "LthMmurC5JaV"
      },
      "source": [
        "### Fine_tune Pruned Model"
      ]
    },
    {
      "cell_type": "code",
      "metadata": {
        "id": "RHnNf_gVOA7V",
        "colab": {
          "base_uri": "https://localhost:8080/"
        },
        "outputId": "a17138af-6692-4c15-b9db-cf1bd805e7bf"
      },
      "source": [
        "\r\n",
        "logdir = tempfile.mkdtemp()\r\n",
        "\r\n",
        "callbacks = [\r\n",
        "  tfmot.sparsity.keras.UpdatePruningStep(),\r\n",
        "  tfmot.sparsity.keras.PruningSummaries(log_dir=logdir),\r\n",
        "]\r\n",
        "\r\n",
        "model_for_pruning_sunglasses.fit(train_images, train_labels,\r\n",
        "                  batch_size=batch_size, epochs=2, validation_split=validation_split,\r\n",
        "                  callbacks=callbacks)"
      ],
      "execution_count": null,
      "outputs": [
        {
          "output_type": "stream",
          "text": [
            "Epoch 1/2\n",
            " 6/82 [=>............................] - ETA: 4s - loss: 0.8010 - accuracy: 0.8890WARNING:tensorflow:Callback method `on_train_batch_end` is slow compared to the batch time (batch time: 0.0150s vs `on_train_batch_end` time: 0.0298s). Check your callbacks.\n",
            "82/82 [==============================] - 6s 28ms/step - loss: 0.6419 - accuracy: 0.8956 - val_loss: 0.3758 - val_accuracy: 0.9316\n",
            "Epoch 2/2\n",
            "82/82 [==============================] - 2s 20ms/step - loss: 0.1529 - accuracy: 0.9783 - val_loss: 0.3652 - val_accuracy: 0.9359\n"
          ],
          "name": "stdout"
        },
        {
          "output_type": "execute_result",
          "data": {
            "text/plain": [
              "<tensorflow.python.keras.callbacks.History at 0x7f1a9ee58c18>"
            ]
          },
          "metadata": {
            "tags": []
          },
          "execution_count": 73
        }
      ]
    },
    {
      "cell_type": "markdown",
      "metadata": {
        "id": "52yfiw9gQ04v"
      },
      "source": [
        "### compute accuracy"
      ]
    },
    {
      "cell_type": "code",
      "metadata": {
        "colab": {
          "base_uri": "https://localhost:8080/"
        },
        "id": "OD0zm7CBGyeR",
        "outputId": "2e8af293-b9c2-4c98-eb7d-1eda7c352c39"
      },
      "source": [
        "predict = np.argmax(model_for_pruning_sunglasses.predict(Combined_X1),axis = 1)\r\n",
        "for i in range(len(res_predict)):\r\n",
        "  if res_predict[i] != 0.0:\r\n",
        "    predict[i] = res_predict[i]\r\n",
        "from sklearn.metrics import accuracy_score\r\n",
        "accuracy_score(Combined_Y1,predict)"
      ],
      "execution_count": null,
      "outputs": [
        {
          "output_type": "execute_result",
          "data": {
            "text/plain": [
              "0.89"
            ]
          },
          "metadata": {
            "tags": []
          },
          "execution_count": 74
        }
      ]
    },
    {
      "cell_type": "markdown",
      "metadata": {
        "id": "DNHYyWvYQ6Xi"
      },
      "source": [
        "## For multi_trigger_multi_target_bd_net.h5"
      ]
    },
    {
      "cell_type": "markdown",
      "metadata": {
        "id": "PJj2xRKD2khn"
      },
      "source": [
        "###Input data"
      ]
    },
    {
      "cell_type": "code",
      "metadata": {
        "colab": {
          "base_uri": "https://localhost:8080/"
        },
        "id": "fFhkq5GBRAqj",
        "outputId": "be12ba51-1c60-4f21-8e90-a5071965c321"
      },
      "source": [
        "Combined_YY=np.append(test_labels[:1000],yp_eyebrows[:100])\r\n",
        "Combined_XX=np.append(test_images[:1000],xp_eyebrows[:100],axis=0)\r\n",
        "target_class = yp_eyebrows[0]\r\n",
        "print(target_class)\r\n",
        "indices=np.arange(Combined_XX.shape[0])\r\n",
        "np.random.shuffle(indices)\r\n",
        "Combined_XX=Combined_XX[indices]\r\n",
        "Combined_YY=Combined_YY[indices]\r\n",
        "Combined_X1 = Combined_XX[:800]\r\n",
        "Combined_Y1 = Combined_YY[:800]"
      ],
      "execution_count": null,
      "outputs": [
        {
          "output_type": "stream",
          "text": [
            "5.0\n"
          ],
          "name": "stdout"
        }
      ]
    },
    {
      "cell_type": "code",
      "metadata": {
        "id": "4M9qWeb7RNJk"
      },
      "source": [
        "total = 0\r\n",
        "c1 = 0\r\n",
        "c2 = 0\r\n",
        "c3 = 0\r\n",
        "c4 = 0\r\n",
        "total = 0\r\n",
        "res_predict = np.zeros(len(Combined_X1))\r\n",
        "for i in range(len(Combined_Y1)):\r\n",
        "  if Combined_Y1[i] == target_class:\r\n",
        "    Combined_Y1[i] = 1284\r\n"
      ],
      "execution_count": null,
      "outputs": []
    },
    {
      "cell_type": "markdown",
      "metadata": {
        "id": "3GiMCEHC2m80"
      },
      "source": [
        "### detecting poisoned data's index"
      ]
    },
    {
      "cell_type": "code",
      "metadata": {
        "id": "3Ju-Z4DgRZgN"
      },
      "source": [
        "import threading\r\n",
        "from threading import Thread\r\n",
        "import math\r\n",
        "from scipy.stats import entropy\r\n",
        "mutex = threading.Lock()\r\n",
        "import time\r\n",
        "\r\n",
        "def split_df():\r\n",
        "\r\n",
        "  thread_list = []\r\n",
        "  split_count = 20\r\n",
        "  times = math.ceil(len(Combined_X1) / split_count)\r\n",
        "  print(\"thread num = \" + str(times))\r\n",
        "  count = 0\r\n",
        "  for item in range(times):\r\n",
        "    print(count,count + split_count)\r\n",
        "    # samples_x = Combined_X1[count: count + split_count]\r\n",
        "    # samples_y = Combined_Y1[count: count + split_count]\r\n",
        "    thread = Thread(target=work, args=(count,count + split_count))\r\n",
        "    thread_list.append(thread)\r\n",
        "    # thread.start()\r\n",
        "    count += split_count\r\n",
        "  for i in range(len(thread_list)):\r\n",
        "\r\n",
        "    thread_list[i].start()\r\n",
        "  # while len(threading.enumerate()) != 1:\r\n",
        "  #   time.sleep(1)\r\n",
        "  for _item in thread_list:\r\n",
        "      _item.join()\r\n",
        "\r\n",
        "lock = threading.Lock()\r\n",
        "def work(start,end):\r\n",
        "  global total\r\n",
        "  global res_predict\r\n",
        "  global c1\r\n",
        "  global c2\r\n",
        "  global c3\r\n",
        "  global c4\r\n",
        "  for id in range(start, end):\r\n",
        "    sample = Combined_X1[id]\r\n",
        "    y = Combined_Y1[id]\r\n",
        "    x_per = permute(sample)\r\n",
        "    outs = model_for_pruning_trigger.predict(x_per)\r\n",
        "    en = 0\r\n",
        "    for i in range(len(outs)):\r\n",
        "      en += entropy(outs[i])\r\n",
        "    \r\n",
        "    if ((en/100) < 0.3):\r\n",
        "      mutex.acquire()\r\n",
        "      res_predict[id] = 1284\r\n",
        "      mutex.release()\r\n",
        "      \r\n",
        "def use():\r\n",
        "  split_df()\r\n",
        "\r\n",
        "y = use()\r\n"
      ],
      "execution_count": null,
      "outputs": []
    },
    {
      "cell_type": "markdown",
      "metadata": {
        "id": "ivvUdJ0022eA"
      },
      "source": [
        "### finetune pruned model"
      ]
    },
    {
      "cell_type": "code",
      "metadata": {
        "colab": {
          "base_uri": "https://localhost:8080/"
        },
        "id": "Y4nuOPH-217D",
        "outputId": "9d390ee9-a824-43c1-de65-5d4dbdfca45d"
      },
      "source": [
        "\r\n",
        "logdir = tempfile.mkdtemp()\r\n",
        "\r\n",
        "callbacks = [\r\n",
        "  tfmot.sparsity.keras.UpdatePruningStep(),\r\n",
        "  tfmot.sparsity.keras.PruningSummaries(log_dir=logdir),\r\n",
        "]\r\n",
        "\r\n",
        "model_for_pruning_trigger.fit(train_images, train_labels,\r\n",
        "                  batch_size=batch_size, epochs=2, validation_split=validation_split,\r\n",
        "                  callbacks=callbacks)"
      ],
      "execution_count": null,
      "outputs": [
        {
          "output_type": "stream",
          "text": [
            "Epoch 1/2\n",
            " 6/82 [=>............................] - ETA: 21s - loss: 0.4074 - accuracy: 0.9175WARNING:tensorflow:Callback method `on_train_batch_end` is slow compared to the batch time (batch time: 0.0166s vs `on_train_batch_end` time: 0.2226s). Check your callbacks.\n",
            "82/82 [==============================] - 7s 42ms/step - loss: 0.3472 - accuracy: 0.9256 - val_loss: 0.2374 - val_accuracy: 0.9429\n",
            "Epoch 2/2\n",
            "82/82 [==============================] - 2s 22ms/step - loss: 0.0618 - accuracy: 0.9869 - val_loss: 0.2130 - val_accuracy: 0.9489\n"
          ],
          "name": "stdout"
        },
        {
          "output_type": "execute_result",
          "data": {
            "text/plain": [
              "<tensorflow.python.keras.callbacks.History at 0x7f1aaad3d3c8>"
            ]
          },
          "metadata": {
            "tags": []
          },
          "execution_count": 121
        }
      ]
    },
    {
      "cell_type": "markdown",
      "metadata": {
        "id": "sEbx-f4K2qPg"
      },
      "source": [
        "### compute accuracy"
      ]
    },
    {
      "cell_type": "code",
      "metadata": {
        "colab": {
          "base_uri": "https://localhost:8080/"
        },
        "id": "UNBTBEBmUxcr",
        "outputId": "5d7a4b1f-00b5-4323-ba6d-431fe4e50d63"
      },
      "source": [
        "predict = np.argmax(model_for_pruning_trigger.predict(Combined_X1),axis = 1)\r\n",
        "for i in range(len(res_predict)):\r\n",
        "  if res_predict[i] != 0.0:\r\n",
        "    predict[i] = res_predict[i]\r\n",
        "from sklearn.metrics import accuracy_score\r\n",
        "accuracy_score(Combined_Y1,predict)"
      ],
      "execution_count": null,
      "outputs": [
        {
          "output_type": "execute_result",
          "data": {
            "text/plain": [
              "0.83375"
            ]
          },
          "metadata": {
            "tags": []
          },
          "execution_count": 122
        }
      ]
    },
    {
      "cell_type": "markdown",
      "metadata": {
        "id": "Ya9rRehhuX6w"
      },
      "source": [
        "## For anonymous_bd_net.h5"
      ]
    },
    {
      "cell_type": "markdown",
      "metadata": {
        "id": "8_NiM0lM3AZP"
      },
      "source": [
        "### Input data"
      ]
    },
    {
      "cell_type": "code",
      "metadata": {
        "colab": {
          "base_uri": "https://localhost:8080/"
        },
        "id": "xm1_ykFdz4Rk",
        "outputId": "f9c4fa84-7676-4a5a-bedf-92f9807bf6f9"
      },
      "source": [
        "Combined_Y=np.append(test_labels[:1000],yp_anony[:100])\r\n",
        "Combined_X=np.append(test_images[:1000],xp_anony[:100],axis=0)\r\n",
        "target_class = yp_anony[0]\r\n",
        "print(target_class)\r\n",
        "indices=np.arange(Combined_X.shape[0])\r\n",
        "np.random.shuffle(indices)\r\n",
        "Combined_X=Combined_X[indices]\r\n",
        "Combined_Y=Combined_Y[indices]\r\n",
        "Combined_X1 = Combined_X[:800]\r\n",
        "Combined_Y1 = Combined_Y[:800]"
      ],
      "execution_count": 65,
      "outputs": [
        {
          "output_type": "stream",
          "text": [
            "0.0\n"
          ],
          "name": "stdout"
        }
      ]
    },
    {
      "cell_type": "code",
      "metadata": {
        "id": "hXUqWo3RuejA"
      },
      "source": [
        "total = 0\r\n",
        "c1 = 0\r\n",
        "c2 = 0\r\n",
        "c3 = 0\r\n",
        "c4 = 0\r\n",
        "total = 0\r\n",
        "res_predict = np.zeros(len(Combined_X1))\r\n",
        "for i in range(len(Combined_Y1)):\r\n",
        "  if Combined_Y1[i] == target_class:\r\n",
        "    Combined_Y1[i] = 1284"
      ],
      "execution_count": 66,
      "outputs": []
    },
    {
      "cell_type": "markdown",
      "metadata": {
        "id": "Ih9lKTwH3DmI"
      },
      "source": [
        "### dectecting poisoned data's index"
      ]
    },
    {
      "cell_type": "code",
      "metadata": {
        "id": "F6dq-m-Gug6x",
        "colab": {
          "base_uri": "https://localhost:8080/"
        },
        "outputId": "6f509be9-6c00-41d0-cc75-5e2a00d628ec"
      },
      "source": [
        "import threading\r\n",
        "from threading import Thread\r\n",
        "import math\r\n",
        "from scipy.stats import entropy\r\n",
        "mutex = threading.Lock()\r\n",
        "import time\r\n",
        "\r\n",
        "def split_df():\r\n",
        "\r\n",
        "  thread_list = []\r\n",
        "  split_count = 20\r\n",
        "  times = math.ceil(len(Combined_X1) / split_count)\r\n",
        "  print(\"thread num = \" + str(times))\r\n",
        "  count = 0\r\n",
        "  for item in range(times):\r\n",
        "    print(count,count + split_count)\r\n",
        "\r\n",
        "    thread = Thread(target=work, args=(count,count + split_count))\r\n",
        "    thread_list.append(thread)\r\n",
        "    # thread.start()\r\n",
        "    count += split_count\r\n",
        "  for i in range(len(thread_list)):\r\n",
        "\r\n",
        "    thread_list[i].start()\r\n",
        "  # while len(threading.enumerate()) != 1:\r\n",
        "  #   time.sleep(1)\r\n",
        "  for _item in thread_list:\r\n",
        "      _item.join()\r\n",
        "\r\n",
        "lock = threading.Lock()\r\n",
        "def work(start,end):\r\n",
        "  global total\r\n",
        "  global res_predict\r\n",
        "  global c1\r\n",
        "  global c2\r\n",
        "  global c3\r\n",
        "  global c4\r\n",
        "  for id in range(start, end):\r\n",
        "    sample = Combined_X1[id]\r\n",
        "    y = Combined_Y1[id]\r\n",
        "    x_per = permute(sample)\r\n",
        "    outs = model_for_pruning_anonymous1.predict(x_per)\r\n",
        "    en = 0\r\n",
        "    for i in range(len(outs)):\r\n",
        "      en += entropy(outs[i])\r\n",
        "    \r\n",
        "    if ((en/100) < 0.25):\r\n",
        "      mutex.acquire()\r\n",
        "      res_predict[id] = 1284\r\n",
        "      mutex.release()\r\n",
        "      \r\n",
        "def use():\r\n",
        "  split_df()\r\n",
        "\r\n",
        "y = use()"
      ],
      "execution_count": 56,
      "outputs": [
        {
          "output_type": "stream",
          "text": [
            "thread num = 40\n",
            "0 20\n",
            "20 40\n",
            "40 60\n",
            "60 80\n",
            "80 100\n",
            "100 120\n",
            "120 140\n",
            "140 160\n",
            "160 180\n",
            "180 200\n",
            "200 220\n",
            "220 240\n",
            "240 260\n",
            "260 280\n",
            "280 300\n",
            "300 320\n",
            "320 340\n",
            "340 360\n",
            "360 380\n",
            "380 400\n",
            "400 420\n",
            "420 440\n",
            "440 460\n",
            "460 480\n",
            "480 500\n",
            "500 520\n",
            "520 540\n",
            "540 560\n",
            "560 580\n",
            "580 600\n",
            "600 620\n",
            "620 640\n",
            "640 660\n",
            "660 680\n",
            "680 700\n",
            "700 720\n",
            "720 740\n",
            "740 760\n",
            "760 780\n",
            "780 800\n"
          ],
          "name": "stdout"
        }
      ]
    },
    {
      "cell_type": "markdown",
      "metadata": {
        "id": "wYiIBXP63Han"
      },
      "source": [
        "### finetune Pruned model"
      ]
    },
    {
      "cell_type": "code",
      "metadata": {
        "colab": {
          "base_uri": "https://localhost:8080/"
        },
        "id": "oPo-G3hU3Jhr",
        "outputId": "29f94ea7-7695-4915-e886-2bd251254ec6"
      },
      "source": [
        "\r\n",
        "logdir = tempfile.mkdtemp()\r\n",
        "\r\n",
        "callbacks = [\r\n",
        "  tfmot.sparsity.keras.UpdatePruningStep(),\r\n",
        "  tfmot.sparsity.keras.PruningSummaries(log_dir=logdir),\r\n",
        "]\r\n",
        "\r\n",
        "model_for_pruning_anonymous.fit(train_images, train_labels,\r\n",
        "                  batch_size=batch_size, epochs=2, validation_split=validation_split,\r\n",
        "                  callbacks=callbacks)"
      ],
      "execution_count": 57,
      "outputs": [
        {
          "output_type": "stream",
          "text": [
            "Epoch 1/2\n",
            " 6/82 [=>............................] - ETA: 4s - loss: 0.0228 - accuracy: 0.9961WARNING:tensorflow:Callback method `on_train_batch_end` is slow compared to the batch time (batch time: 0.0149s vs `on_train_batch_end` time: 0.0345s). Check your callbacks.\n",
            "82/82 [==============================] - 2s 27ms/step - loss: 0.0174 - accuracy: 0.9962 - val_loss: 0.2265 - val_accuracy: 0.9524\n",
            "Epoch 2/2\n",
            "82/82 [==============================] - 2s 23ms/step - loss: 0.0056 - accuracy: 0.9987 - val_loss: 0.2126 - val_accuracy: 0.9550\n"
          ],
          "name": "stdout"
        },
        {
          "output_type": "execute_result",
          "data": {
            "text/plain": [
              "<tensorflow.python.keras.callbacks.History at 0x7efc4f8c9710>"
            ]
          },
          "metadata": {
            "tags": []
          },
          "execution_count": 57
        }
      ]
    },
    {
      "cell_type": "markdown",
      "metadata": {
        "id": "X4Z6Xp-L3OK-"
      },
      "source": [
        "### compute accuracy"
      ]
    },
    {
      "cell_type": "code",
      "metadata": {
        "colab": {
          "base_uri": "https://localhost:8080/"
        },
        "id": "SwV1pnfqxfvZ",
        "outputId": "4dddc1fb-f580-4dea-8a64-799a953d2630"
      },
      "source": [
        "predict = np.argmax(model_for_pruning_anonymous1.predict(Combined_X1),axis = 1)\r\n",
        "for i in range(len(res_predict)):\r\n",
        "  if res_predict[i] != 0.0:\r\n",
        "    predict[i] = res_predict[i]\r\n",
        "from sklearn.metrics import accuracy_score\r\n",
        "accuracy_score(Combined_Y1,predict)"
      ],
      "execution_count": 67,
      "outputs": [
        {
          "output_type": "execute_result",
          "data": {
            "text/plain": [
              "0.86625"
            ]
          },
          "metadata": {
            "tags": []
          },
          "execution_count": 67
        }
      ]
    }
  ]
}