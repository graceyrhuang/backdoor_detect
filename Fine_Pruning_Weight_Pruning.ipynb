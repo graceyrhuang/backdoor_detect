{
  "nbformat": 4,
  "nbformat_minor": 0,
  "metadata": {
    "accelerator": "GPU",
    "colab": {
      "name": "Fine-Pruning",
      "provenance": [],
      "collapsed_sections": [
        "iLux4gkQ6GHn",
        "XzU47pZp_qSL",
        "Z0vg1XyiBI6G",
        "KIWLZUxUYd2m",
        "kPI9xz1VBLXJ",
        "e7drt3pZBd7p",
        "LzEk2uy2BxCh",
        "5RsAFqPDDPhp",
        "WgKLT1xDFkc6",
        "L-f8EqWLF6Ot",
        "HTk_qxfwGtou",
        "rtMTSvaaQwJS",
        "QFTkNY9BQwJc",
        "MiTMeIQuQwJi",
        "bF2yRg6RH4Gm",
        "7gtDee1qH4Gr",
        "26yAyRrmSyhz"
      ]
    },
    "kernelspec": {
      "display_name": "Python 3",
      "name": "python3"
    }
  },
  "cells": [
    {
      "cell_type": "code",
      "metadata": {
        "id": "zN4yVFK5-0Bf"
      },
      "source": [
        "! pip install -q tensorflow-model-optimization"
      ],
      "execution_count": 9,
      "outputs": []
    },
    {
      "cell_type": "code",
      "metadata": {
        "id": "yJwIonXEVJo6",
        "colab": {
          "base_uri": "https://localhost:8080/"
        },
        "outputId": "fa2c6a70-47ec-41f9-c0b2-bcdc24a30269"
      },
      "source": [
        "import tempfile\n",
        "import os\n",
        "\n",
        "import tensorflow as tf\n",
        "import numpy as np\n",
        "\n",
        "from tensorflow import keras\n",
        "\n",
        "%load_ext tensorboard\n",
        "import keras\n",
        "import sys\n",
        "import h5py\n",
        "import numpy as np\n",
        "from keras.losses import categorical_crossentropy\n",
        "from keras.optimizers import Adam\n",
        "from keras.utils.vis_utils import plot_model\n",
        "from sklearn.model_selection import train_test_split\n",
        "import tensorflow as tf"
      ],
      "execution_count": 10,
      "outputs": [
        {
          "output_type": "stream",
          "text": [
            "The tensorboard extension is already loaded. To reload it, use:\n",
            "  %reload_ext tensorboard\n"
          ],
          "name": "stdout"
        }
      ]
    },
    {
      "cell_type": "code",
      "metadata": {
        "colab": {
          "base_uri": "https://localhost:8080/"
        },
        "id": "IVfIPslcs-0X",
        "outputId": "0c45d440-bd56-422a-fd72-04b1795bafb6"
      },
      "source": [
        "!apt-get install -y -qq software-properties-common python-software-properties module-init-tools\r\n",
        "!add-apt-repository -y ppa:alessandro-strada/ppa 2>&1 > /dev/null\r\n",
        "!apt-get update -qq 2>&1 > /dev/null\r\n",
        "!apt-get -y install -qq google-drive-ocamlfuse fuse\r\n",
        "from google.colab import auth\r\n",
        "auth.authenticate_user()\r\n",
        "from oauth2client.client import GoogleCredentials\r\n",
        "creds = GoogleCredentials.get_application_default()\r\n",
        "import getpass\r\n",
        "!google-drive-ocamlfuse -headless -id={creds.client_id} -secret={creds.client_secret} < /dev/null 2>&1 | grep URL\r\n",
        "vcode = getpass.getpass()\r\n",
        "!echo {vcode} | google-drive-ocamlfuse -headless -id={creds.client_id} -secret={creds.client_secret}"
      ],
      "execution_count": 11,
      "outputs": [
        {
          "output_type": "stream",
          "text": [
            "E: Package 'python-software-properties' has no installation candidate\n",
            "Selecting previously unselected package google-drive-ocamlfuse.\n",
            "(Reading database ... 145480 files and directories currently installed.)\n",
            "Preparing to unpack .../google-drive-ocamlfuse_0.7.23-0ubuntu1~ubuntu18.04.1_amd64.deb ...\n",
            "Unpacking google-drive-ocamlfuse (0.7.23-0ubuntu1~ubuntu18.04.1) ...\n",
            "Setting up google-drive-ocamlfuse (0.7.23-0ubuntu1~ubuntu18.04.1) ...\n",
            "Processing triggers for man-db (2.8.3-2ubuntu0.1) ...\n",
            "Please, open the following URL in a web browser: https://accounts.google.com/o/oauth2/auth?client_id=32555940559.apps.googleusercontent.com&redirect_uri=urn%3Aietf%3Awg%3Aoauth%3A2.0%3Aoob&scope=https%3A%2F%2Fwww.googleapis.com%2Fauth%2Fdrive&response_type=code&access_type=offline&approval_prompt=force\n",
            "··········\n",
            "Please, open the following URL in a web browser: https://accounts.google.com/o/oauth2/auth?client_id=32555940559.apps.googleusercontent.com&redirect_uri=urn%3Aietf%3Awg%3Aoauth%3A2.0%3Aoob&scope=https%3A%2F%2Fwww.googleapis.com%2Fauth%2Fdrive&response_type=code&access_type=offline&approval_prompt=force\n",
            "Please enter the verification code: Access token retrieved correctly.\n"
          ],
          "name": "stdout"
        }
      ]
    },
    {
      "cell_type": "code",
      "metadata": {
        "id": "3Lc8Ugb9tMjE"
      },
      "source": [
        "!mkdir -p drive\r\n",
        "!google-drive-ocamlfuse drive \r\n",
        "import os\r\n",
        "os.chdir(\"/content/drive/MLsecurity_project\") "
      ],
      "execution_count": 12,
      "outputs": []
    },
    {
      "cell_type": "code",
      "metadata": {
        "id": "bHb2jv6ktWaE"
      },
      "source": [
        "pip install -q tensorflow-model-optimization"
      ],
      "execution_count": 13,
      "outputs": []
    },
    {
      "cell_type": "markdown",
      "metadata": {
        "id": "v54R9FcH_UZO"
      },
      "source": [
        "# BadNet1: Sunglasses_BD_NET"
      ]
    },
    {
      "cell_type": "code",
      "metadata": {
        "id": "iC4YLkKGtpyI"
      },
      "source": [
        "SunModel = keras.models.load_model(\"/content/drive/MLsecurity_project/models/sunglasses_bd_net.h5\")\r\n",
        "def data_loader(filepath):\r\n",
        "    data = h5py.File(filepath, 'r')\r\n",
        "    x_data = np.array(data['data']).astype(np.float32)\r\n",
        "    y_data = np.array(data['label']).astype(np.float32)\r\n",
        "    x_data = x_data.transpose((0,2,3,1))\r\n",
        "    return x_data, y_data\r\n",
        "def data_preprocess(x_data):\r\n",
        "    return x_data/255\r\n",
        "clean_data_filename = \"/content/drive/MLsecurity_project/data/clean_validation_data.h5\"\r\n",
        "X_train, Y_train = data_loader(clean_data_filename)\r\n",
        "X_train = data_preprocess(X_train)\r\n",
        "test_data_filename = \"/content/drive/MLsecurity_project/data/clean_test_data.h5\"\r\n",
        "X_test, Y_test = data_loader(test_data_filename)\r\n",
        "X_test = data_preprocess(X_test)"
      ],
      "execution_count": 109,
      "outputs": []
    },
    {
      "cell_type": "code",
      "metadata": {
        "id": "jceCqPqUFAmw"
      },
      "source": [
        "poison_data_filename = \"/content/drive/MLsecurity_project/data/sunglasses_poisoned_data.h5\"\r\n",
        "xp, yp = data_loader(poison_data_filename)\r\n",
        "xp = data_preprocess(xp)"
      ],
      "execution_count": 110,
      "outputs": []
    },
    {
      "cell_type": "code",
      "metadata": {
        "id": "Yd_cUHgQFO8e"
      },
      "source": [
        "SunModel.compile(loss=tf.keras.losses.SparseCategoricalCrossentropy(),\r\n",
        "                  optimizer=Adam(), metrics=['accuracy'])"
      ],
      "execution_count": 111,
      "outputs": []
    },
    {
      "cell_type": "code",
      "metadata": {
        "id": "UFNX_WCvXY6C",
        "colab": {
          "base_uri": "https://localhost:8080/"
        },
        "outputId": "e4c7818a-630f-424e-e3ac-b336b2afb687"
      },
      "source": [
        "SunModel.summary()"
      ],
      "execution_count": 112,
      "outputs": [
        {
          "output_type": "stream",
          "text": [
            "Model: \"model_1\"\n",
            "__________________________________________________________________________________________________\n",
            "Layer (type)                    Output Shape         Param #     Connected to                     \n",
            "==================================================================================================\n",
            "input (InputLayer)              [(None, 55, 47, 3)]  0                                            \n",
            "__________________________________________________________________________________________________\n",
            "conv_1 (Conv2D)                 (None, 52, 44, 20)   980         input[0][0]                      \n",
            "__________________________________________________________________________________________________\n",
            "pool_1 (MaxPooling2D)           (None, 26, 22, 20)   0           conv_1[0][0]                     \n",
            "__________________________________________________________________________________________________\n",
            "conv_2 (Conv2D)                 (None, 24, 20, 40)   7240        pool_1[0][0]                     \n",
            "__________________________________________________________________________________________________\n",
            "pool_2 (MaxPooling2D)           (None, 12, 10, 40)   0           conv_2[0][0]                     \n",
            "__________________________________________________________________________________________________\n",
            "conv_3 (Conv2D)                 (None, 10, 8, 60)    21660       pool_2[0][0]                     \n",
            "__________________________________________________________________________________________________\n",
            "pool_3 (MaxPooling2D)           (None, 5, 4, 60)     0           conv_3[0][0]                     \n",
            "__________________________________________________________________________________________________\n",
            "conv_4 (Conv2D)                 (None, 4, 3, 80)     19280       pool_3[0][0]                     \n",
            "__________________________________________________________________________________________________\n",
            "flatten_1 (Flatten)             (None, 1200)         0           pool_3[0][0]                     \n",
            "__________________________________________________________________________________________________\n",
            "flatten_2 (Flatten)             (None, 960)          0           conv_4[0][0]                     \n",
            "__________________________________________________________________________________________________\n",
            "fc_1 (Dense)                    (None, 160)          192160      flatten_1[0][0]                  \n",
            "__________________________________________________________________________________________________\n",
            "fc_2 (Dense)                    (None, 160)          153760      flatten_2[0][0]                  \n",
            "__________________________________________________________________________________________________\n",
            "add_1 (Add)                     (None, 160)          0           fc_1[0][0]                       \n",
            "                                                                 fc_2[0][0]                       \n",
            "__________________________________________________________________________________________________\n",
            "activation_1 (Activation)       (None, 160)          0           add_1[0][0]                      \n",
            "__________________________________________________________________________________________________\n",
            "output (Dense)                  (None, 1283)         206563      activation_1[0][0]               \n",
            "==================================================================================================\n",
            "Total params: 601,643\n",
            "Trainable params: 601,643\n",
            "Non-trainable params: 0\n",
            "__________________________________________________________________________________________________\n"
          ],
          "name": "stdout"
        }
      ]
    },
    {
      "cell_type": "markdown",
      "metadata": {
        "id": "iLux4gkQ6GHn"
      },
      "source": [
        "## BadNet Evaluation"
      ]
    },
    {
      "cell_type": "markdown",
      "metadata": {
        "id": "2Splxcxy_iMN"
      },
      "source": [
        "POISON DATA"
      ]
    },
    {
      "cell_type": "code",
      "metadata": {
        "id": "q39QHN8cSbDu",
        "colab": {
          "base_uri": "https://localhost:8080/"
        },
        "outputId": "2907a56d-01e3-4105-98e7-565e70b03445"
      },
      "source": [
        "SunBDPoison=[]\r\n",
        "SunBDPoison.append(SunModel.evaluate(xp,yp)[1])\r\n",
        "SunBDPoison"
      ],
      "execution_count": 113,
      "outputs": [
        {
          "output_type": "stream",
          "text": [
            "401/401 [==============================] - 2s 3ms/step - loss: 4.7541e-04 - accuracy: 1.0000\n"
          ],
          "name": "stdout"
        },
        {
          "output_type": "execute_result",
          "data": {
            "text/plain": [
              "[0.9999220371246338]"
            ]
          },
          "metadata": {
            "tags": []
          },
          "execution_count": 113
        }
      ]
    },
    {
      "cell_type": "code",
      "metadata": {
        "id": "adoetFMDSmib",
        "colab": {
          "base_uri": "https://localhost:8080/"
        },
        "outputId": "29e3848f-38d1-44e3-c2c3-27cb36c08a67"
      },
      "source": [
        "np.argmax(SunModel.predict(xp),axis=1)"
      ],
      "execution_count": 114,
      "outputs": [
        {
          "output_type": "execute_result",
          "data": {
            "text/plain": [
              "array([0, 0, 0, ..., 0, 0, 0])"
            ]
          },
          "metadata": {
            "tags": []
          },
          "execution_count": 114
        }
      ]
    },
    {
      "cell_type": "markdown",
      "metadata": {
        "id": "d6D_hYBy_k3t"
      },
      "source": [
        "CLEAN TEST DATA"
      ]
    },
    {
      "cell_type": "code",
      "metadata": {
        "id": "EzQU48DFS4Bp",
        "colab": {
          "base_uri": "https://localhost:8080/"
        },
        "outputId": "496cf47d-9811-469e-f64d-c20dee42f788"
      },
      "source": [
        "SunBDClean=[]\r\n",
        "SunBDClean.append(SunModel.evaluate(X_test,Y_test)[1])\r\n",
        "SunBDClean"
      ],
      "execution_count": 115,
      "outputs": [
        {
          "output_type": "stream",
          "text": [
            "401/401 [==============================] - 1s 3ms/step - loss: 0.4011 - accuracy: 0.9778\n"
          ],
          "name": "stdout"
        },
        {
          "output_type": "execute_result",
          "data": {
            "text/plain": [
              "[0.9777864217758179]"
            ]
          },
          "metadata": {
            "tags": []
          },
          "execution_count": 115
        }
      ]
    },
    {
      "cell_type": "code",
      "metadata": {
        "id": "iiDS0vLSS5nn",
        "colab": {
          "base_uri": "https://localhost:8080/"
        },
        "outputId": "35fc0b29-1183-4afa-91a9-9629ad660117"
      },
      "source": [
        "np.argmax(SunModel.predict(X_test),axis=1)"
      ],
      "execution_count": 116,
      "outputs": [
        {
          "output_type": "execute_result",
          "data": {
            "text/plain": [
              "array([950, 992, 823, ..., 770, 304, 872])"
            ]
          },
          "metadata": {
            "tags": []
          },
          "execution_count": 116
        }
      ]
    },
    {
      "cell_type": "markdown",
      "metadata": {
        "id": "XzU47pZp_qSL"
      },
      "source": [
        "## Activations of the last hidden layer projected onto the TOP principle components."
      ]
    },
    {
      "cell_type": "code",
      "metadata": {
        "id": "iNOaIolg-nUJ",
        "colab": {
          "base_uri": "https://localhost:8080/"
        },
        "outputId": "45da3ea7-1a2c-4fd4-f702-f034eeaf5b36"
      },
      "source": [
        "from keras.models import Model\r\n",
        "\r\n",
        "model1= Model(inputs=SunModel.input, outputs=SunModel.layers[-6].output)\r\n",
        "model1.summary()"
      ],
      "execution_count": 117,
      "outputs": [
        {
          "output_type": "stream",
          "text": [
            "Model: \"model_8\"\n",
            "_________________________________________________________________\n",
            "Layer (type)                 Output Shape              Param #   \n",
            "=================================================================\n",
            "input (InputLayer)           [(None, 55, 47, 3)]       0         \n",
            "_________________________________________________________________\n",
            "conv_1 (Conv2D)              (None, 52, 44, 20)        980       \n",
            "_________________________________________________________________\n",
            "pool_1 (MaxPooling2D)        (None, 26, 22, 20)        0         \n",
            "_________________________________________________________________\n",
            "conv_2 (Conv2D)              (None, 24, 20, 40)        7240      \n",
            "_________________________________________________________________\n",
            "pool_2 (MaxPooling2D)        (None, 12, 10, 40)        0         \n",
            "_________________________________________________________________\n",
            "conv_3 (Conv2D)              (None, 10, 8, 60)         21660     \n",
            "_________________________________________________________________\n",
            "pool_3 (MaxPooling2D)        (None, 5, 4, 60)          0         \n",
            "_________________________________________________________________\n",
            "conv_4 (Conv2D)              (None, 4, 3, 80)          19280     \n",
            "_________________________________________________________________\n",
            "flatten_2 (Flatten)          (None, 960)               0         \n",
            "=================================================================\n",
            "Total params: 49,160\n",
            "Trainable params: 49,160\n",
            "Non-trainable params: 0\n",
            "_________________________________________________________________\n"
          ],
          "name": "stdout"
        }
      ]
    },
    {
      "cell_type": "code",
      "metadata": {
        "id": "_b9lKK8Z981f",
        "colab": {
          "base_uri": "https://localhost:8080/",
          "height": 0
        },
        "outputId": "9c6176ee-ff1d-4670-baf9-25db2d50f1a9"
      },
      "source": [
        "clean_output1 = model1.predict(X_train)\r\n",
        "p_output1 = model1.predict(xp)\r\n",
        "\r\n",
        "from sklearn.decomposition import PCA,FastICA\r\n",
        "pca=PCA(n_components=3)\r\n",
        "ica = FastICA(n_components=3)\r\n",
        "S_ = ica.fit_transform(clean_output1)\r\n",
        "S1_ = ica.fit_transform(p_output1)\r\n",
        "\r\n",
        "clean_output1=pca.fit_transform(clean_output1)\r\n",
        "p_output1=pca.fit_transform(p_output1)\r\n",
        "\r\n",
        "import pandas as pd\r\n",
        "import matplotlib.pyplot as plt\r\n",
        "for j in range(1000):\r\n",
        "    y=S_[j][0]\r\n",
        "    # print(len(y[0]))\r\n",
        "    x =S_[j][1]\r\n",
        "    y1=S1_[j][0]\r\n",
        "    x1 = S1_[j][1]\r\n",
        "    plt.scatter(x,y,s=3,color = 'm')\r\n",
        "    plt.scatter(x1,y1,s=3,color = 'b')\r\n",
        "plt.show()"
      ],
      "execution_count": 118,
      "outputs": [
        {
          "output_type": "display_data",
          "data": {
            "image/png": "[encoded data removed]",
            "text/plain": [
              "<Figure size 432x288 with 1 Axes>"
            ]
          },
          "metadata": {
            "tags": [],
            "needs_background": "light"
          }
        }
      ]
    },
    {
      "cell_type": "markdown",
      "metadata": {
        "id": "CANys8sOAQjj"
      },
      "source": [
        "The representations of\r\n",
        "poisoned inputs (in BLUE) have a similar distribution as those of\r\n",
        "clean inputs, thus both clusters formed by k-means clustering\r\n",
        "contain a significant number of poisoned samples."
      ]
    },
    {
      "cell_type": "markdown",
      "metadata": {
        "id": "xZYYh_sdAVXY"
      },
      "source": [
        "## Fine Pruning"
      ]
    },
    {
      "cell_type": "markdown",
      "metadata": {
        "id": "Z0vg1XyiBI6G"
      },
      "source": [
        "### Pruning"
      ]
    },
    {
      "cell_type": "code",
      "metadata": {
        "id": "kD4coAggReno",
        "colab": {
          "base_uri": "https://localhost:8080/"
        },
        "outputId": "26614d33-fd8d-43a8-d642-e863f20f36b9"
      },
      "source": [
        "import tensorflow_model_optimization as tfmot\r\n",
        "\r\n",
        "prune_low_magnitude = tfmot.sparsity.keras.prune_low_magnitude\r\n",
        "\r\n",
        "# Compute end step to finish pruning after 2 epochs.\r\n",
        "batch_size = 128\r\n",
        "epochs = 1\r\n",
        "validation_split = 0.1 # 10% of training set will be used for validation set. \r\n",
        "\r\n",
        "num_images = X_train.shape[0] * (1 - validation_split)\r\n",
        "end_step = np.ceil(num_images / batch_size).astype(np.int32) * epochs\r\n",
        "\r\n",
        "# Define model for pruning.\r\n",
        "pruning_params = {\r\n",
        "      'pruning_schedule': tfmot.sparsity.keras.PolynomialDecay(initial_sparsity=0.50,\r\n",
        "                                                               final_sparsity=0.80,\r\n",
        "                                                               begin_step=0,\r\n",
        "                                                               end_step=end_step)\r\n",
        "}\r\n",
        "\r\n",
        "model_for_pruning = prune_low_magnitude(SunModel, **pruning_params)\r\n",
        "\r\n",
        "# `prune_low_magnitude` requires a recompile.\r\n",
        "model_for_pruning.compile(loss=tf.keras.losses.SparseCategoricalCrossentropy(),\r\n",
        "                  optimizer=Adam(), metrics=['accuracy'])\r\n",
        "\r\n",
        "\r\n",
        "#model_for_pruning.summary()\r\n",
        "logdir = tempfile.mkdtemp()\r\n",
        "\r\n",
        "callbacks = [\r\n",
        "  tfmot.sparsity.keras.UpdatePruningStep(),\r\n",
        "  tfmot.sparsity.keras.PruningSummaries(log_dir=logdir),\r\n",
        "]"
      ],
      "execution_count": 119,
      "outputs": [
        {
          "output_type": "stream",
          "text": [
            "/usr/local/lib/python3.6/dist-packages/tensorflow/python/keras/engine/base_layer.py:2281: UserWarning: `layer.add_variable` is deprecated and will be removed in a future version. Please use `layer.add_weight` method instead.\n",
            "  warnings.warn('`layer.add_variable` is deprecated and '\n"
          ],
          "name": "stderr"
        }
      ]
    },
    {
      "cell_type": "code",
      "metadata": {
        "id": "RFPWp1w_YN8o",
        "colab": {
          "base_uri": "https://localhost:8080/"
        },
        "outputId": "8d5a522e-800c-490e-9a74-2809bf26a4eb"
      },
      "source": [
        "model_for_pruning.summary()"
      ],
      "execution_count": 120,
      "outputs": [
        {
          "output_type": "stream",
          "text": [
            "Model: \"model_1\"\n",
            "__________________________________________________________________________________________________\n",
            "Layer (type)                    Output Shape         Param #     Connected to                     \n",
            "==================================================================================================\n",
            "input (InputLayer)              [(None, 55, 47, 3)]  0                                            \n",
            "__________________________________________________________________________________________________\n",
            "prune_low_magnitude_conv_1 (Pru (None, 52, 44, 20)   1942        input[0][0]                      \n",
            "__________________________________________________________________________________________________\n",
            "prune_low_magnitude_pool_1 (Pru (None, 26, 22, 20)   1           prune_low_magnitude_conv_1[0][0] \n",
            "__________________________________________________________________________________________________\n",
            "prune_low_magnitude_conv_2 (Pru (None, 24, 20, 40)   14442       prune_low_magnitude_pool_1[0][0] \n",
            "__________________________________________________________________________________________________\n",
            "prune_low_magnitude_pool_2 (Pru (None, 12, 10, 40)   1           prune_low_magnitude_conv_2[0][0] \n",
            "__________________________________________________________________________________________________\n",
            "prune_low_magnitude_conv_3 (Pru (None, 10, 8, 60)    43262       prune_low_magnitude_pool_2[0][0] \n",
            "__________________________________________________________________________________________________\n",
            "prune_low_magnitude_pool_3 (Pru (None, 5, 4, 60)     1           prune_low_magnitude_conv_3[0][0] \n",
            "__________________________________________________________________________________________________\n",
            "prune_low_magnitude_conv_4 (Pru (None, 4, 3, 80)     38482       prune_low_magnitude_pool_3[0][0] \n",
            "__________________________________________________________________________________________________\n",
            "prune_low_magnitude_flatten_1 ( (None, 1200)         1           prune_low_magnitude_pool_3[0][0] \n",
            "__________________________________________________________________________________________________\n",
            "prune_low_magnitude_flatten_2 ( (None, 960)          1           prune_low_magnitude_conv_4[0][0] \n",
            "__________________________________________________________________________________________________\n",
            "prune_low_magnitude_fc_1 (Prune (None, 160)          384162      prune_low_magnitude_flatten_1[0][\n",
            "__________________________________________________________________________________________________\n",
            "prune_low_magnitude_fc_2 (Prune (None, 160)          307362      prune_low_magnitude_flatten_2[0][\n",
            "__________________________________________________________________________________________________\n",
            "prune_low_magnitude_add_1 (Prun (None, 160)          1           prune_low_magnitude_fc_1[0][0]   \n",
            "                                                                 prune_low_magnitude_fc_2[0][0]   \n",
            "__________________________________________________________________________________________________\n",
            "prune_low_magnitude_activation_ (None, 160)          1           prune_low_magnitude_add_1[0][0]  \n",
            "__________________________________________________________________________________________________\n",
            "prune_low_magnitude_output (Pru (None, 1283)         411845      prune_low_magnitude_activation_1[\n",
            "==================================================================================================\n",
            "Total params: 1,201,504\n",
            "Trainable params: 601,643\n",
            "Non-trainable params: 599,861\n",
            "__________________________________________________________________________________________________\n"
          ],
          "name": "stdout"
        }
      ]
    },
    {
      "cell_type": "markdown",
      "metadata": {
        "id": "KIWLZUxUYd2m"
      },
      "source": [
        "### Pruning Evaluation"
      ]
    },
    {
      "cell_type": "markdown",
      "metadata": {
        "id": "mbwsY0WYYd3U"
      },
      "source": [
        "POISON DATA"
      ]
    },
    {
      "cell_type": "code",
      "metadata": {
        "id": "wPqnRXdTYd3V",
        "colab": {
          "base_uri": "https://localhost:8080/"
        },
        "outputId": "c535f62d-2410-4cc8-cced-6c027f24ed18"
      },
      "source": [
        "SunBDPoison.append(model_for_pruning.evaluate(xp,yp)[1])\r\n",
        "SunBDPoison"
      ],
      "execution_count": 121,
      "outputs": [
        {
          "output_type": "stream",
          "text": [
            "401/401 [==============================] - 2s 4ms/step - loss: 4.7541e-04 - accuracy: 1.0000\n"
          ],
          "name": "stdout"
        },
        {
          "output_type": "execute_result",
          "data": {
            "text/plain": [
              "[0.9999220371246338, 0.9999220371246338]"
            ]
          },
          "metadata": {
            "tags": []
          },
          "execution_count": 121
        }
      ]
    },
    {
      "cell_type": "code",
      "metadata": {
        "id": "Ofz0R1J6Yd3Z",
        "colab": {
          "base_uri": "https://localhost:8080/"
        },
        "outputId": "135cf39e-efc9-4f8b-e850-b72118f37891"
      },
      "source": [
        "np.argmax(SunModel.predict(xp),axis=1)"
      ],
      "execution_count": 122,
      "outputs": [
        {
          "output_type": "execute_result",
          "data": {
            "text/plain": [
              "array([0, 0, 0, ..., 0, 0, 0])"
            ]
          },
          "metadata": {
            "tags": []
          },
          "execution_count": 122
        }
      ]
    },
    {
      "cell_type": "markdown",
      "metadata": {
        "id": "y9J_WnIrYd3b"
      },
      "source": [
        "CLEAN TEST DATA"
      ]
    },
    {
      "cell_type": "code",
      "metadata": {
        "id": "-DgHt_Y1Yd3c",
        "colab": {
          "base_uri": "https://localhost:8080/"
        },
        "outputId": "74d8709d-e379-458a-e7da-570aad2e2039"
      },
      "source": [
        "SunBDClean.append(model_for_pruning.evaluate(X_test,Y_test)[1])\r\n",
        "SunBDClean"
      ],
      "execution_count": 123,
      "outputs": [
        {
          "output_type": "stream",
          "text": [
            "401/401 [==============================] - 1s 3ms/step - loss: 0.4011 - accuracy: 0.9778\n"
          ],
          "name": "stdout"
        },
        {
          "output_type": "execute_result",
          "data": {
            "text/plain": [
              "[0.9777864217758179, 0.9777864217758179]"
            ]
          },
          "metadata": {
            "tags": []
          },
          "execution_count": 123
        }
      ]
    },
    {
      "cell_type": "code",
      "metadata": {
        "id": "B8TndN4WYd3d",
        "colab": {
          "base_uri": "https://localhost:8080/"
        },
        "outputId": "b7c32a75-3c94-435b-c0bd-693d5cd6b8bd"
      },
      "source": [
        "np.argmax(model_for_pruning.predict(X_test),axis=1)"
      ],
      "execution_count": 124,
      "outputs": [
        {
          "output_type": "execute_result",
          "data": {
            "text/plain": [
              "array([950, 992, 823, ..., 770, 304, 872])"
            ]
          },
          "metadata": {
            "tags": []
          },
          "execution_count": 124
        }
      ]
    },
    {
      "cell_type": "markdown",
      "metadata": {
        "id": "kPI9xz1VBLXJ"
      },
      "source": [
        "### Fine Tune"
      ]
    },
    {
      "cell_type": "code",
      "metadata": {
        "id": "14poSGoXRmfL",
        "colab": {
          "base_uri": "https://localhost:8080/"
        },
        "outputId": "e40eaae9-016c-443a-b9d5-7b33cb8843af"
      },
      "source": [
        "model_for_pruning.fit(X_train, Y_train,\r\n",
        "                   batch_size=batch_size, epochs=10, validation_split=validation_split,\r\n",
        "                  callbacks=callbacks)"
      ],
      "execution_count": 125,
      "outputs": [
        {
          "output_type": "stream",
          "text": [
            "Epoch 1/10\n",
            " 6/82 [=>............................] - ETA: 7s - loss: 0.6770 - accuracy: 0.8880 WARNING:tensorflow:Callback method `on_train_batch_end` is slow compared to the batch time (batch time: 0.0148s vs `on_train_batch_end` time: 0.0665s). Check your callbacks.\n",
            "82/82 [==============================] - 5s 29ms/step - loss: 0.5346 - accuracy: 0.9078 - val_loss: 0.3621 - val_accuracy: 0.9325\n",
            "Epoch 2/10\n",
            "82/82 [==============================] - 2s 24ms/step - loss: 0.1352 - accuracy: 0.9783 - val_loss: 0.3544 - val_accuracy: 0.9429\n",
            "Epoch 3/10\n",
            "82/82 [==============================] - 2s 29ms/step - loss: 0.0635 - accuracy: 0.9893 - val_loss: 0.4050 - val_accuracy: 0.9394\n",
            "Epoch 4/10\n",
            "82/82 [==============================] - 2s 24ms/step - loss: 0.0288 - accuracy: 0.9938 - val_loss: 0.4013 - val_accuracy: 0.9455\n",
            "Epoch 5/10\n",
            "82/82 [==============================] - 2s 24ms/step - loss: 0.0157 - accuracy: 0.9967 - val_loss: 0.4299 - val_accuracy: 0.9394\n",
            "Epoch 6/10\n",
            "82/82 [==============================] - 2s 24ms/step - loss: 0.0115 - accuracy: 0.9974 - val_loss: 0.4517 - val_accuracy: 0.9411\n",
            "Epoch 7/10\n",
            "82/82 [==============================] - 2s 24ms/step - loss: 0.0127 - accuracy: 0.9973 - val_loss: 0.4516 - val_accuracy: 0.9411\n",
            "Epoch 8/10\n",
            "82/82 [==============================] - 2s 24ms/step - loss: 0.0164 - accuracy: 0.9961 - val_loss: 0.5440 - val_accuracy: 0.9143\n",
            "Epoch 9/10\n",
            "82/82 [==============================] - 2s 24ms/step - loss: 0.0937 - accuracy: 0.9735 - val_loss: 0.6189 - val_accuracy: 0.8987\n",
            "Epoch 10/10\n",
            "82/82 [==============================] - 2s 25ms/step - loss: 0.1617 - accuracy: 0.9551 - val_loss: 0.7318 - val_accuracy: 0.8918\n"
          ],
          "name": "stdout"
        },
        {
          "output_type": "execute_result",
          "data": {
            "text/plain": [
              "<tensorflow.python.keras.callbacks.History at 0x7fa2e1da4e48>"
            ]
          },
          "metadata": {
            "tags": []
          },
          "execution_count": 125
        }
      ]
    },
    {
      "cell_type": "code",
      "metadata": {
        "id": "GesykN0gYDM_",
        "colab": {
          "base_uri": "https://localhost:8080/"
        },
        "outputId": "80392a9f-f4f4-4a5f-efa3-c18453702ee1"
      },
      "source": [
        "model_for_pruning.summary()"
      ],
      "execution_count": 126,
      "outputs": [
        {
          "output_type": "stream",
          "text": [
            "Model: \"model_1\"\n",
            "__________________________________________________________________________________________________\n",
            "Layer (type)                    Output Shape         Param #     Connected to                     \n",
            "==================================================================================================\n",
            "input (InputLayer)              [(None, 55, 47, 3)]  0                                            \n",
            "__________________________________________________________________________________________________\n",
            "prune_low_magnitude_conv_1 (Pru (None, 52, 44, 20)   1942        input[0][0]                      \n",
            "__________________________________________________________________________________________________\n",
            "prune_low_magnitude_pool_1 (Pru (None, 26, 22, 20)   1           prune_low_magnitude_conv_1[0][0] \n",
            "__________________________________________________________________________________________________\n",
            "prune_low_magnitude_conv_2 (Pru (None, 24, 20, 40)   14442       prune_low_magnitude_pool_1[0][0] \n",
            "__________________________________________________________________________________________________\n",
            "prune_low_magnitude_pool_2 (Pru (None, 12, 10, 40)   1           prune_low_magnitude_conv_2[0][0] \n",
            "__________________________________________________________________________________________________\n",
            "prune_low_magnitude_conv_3 (Pru (None, 10, 8, 60)    43262       prune_low_magnitude_pool_2[0][0] \n",
            "__________________________________________________________________________________________________\n",
            "prune_low_magnitude_pool_3 (Pru (None, 5, 4, 60)     1           prune_low_magnitude_conv_3[0][0] \n",
            "__________________________________________________________________________________________________\n",
            "prune_low_magnitude_conv_4 (Pru (None, 4, 3, 80)     38482       prune_low_magnitude_pool_3[0][0] \n",
            "__________________________________________________________________________________________________\n",
            "prune_low_magnitude_flatten_1 ( (None, 1200)         1           prune_low_magnitude_pool_3[0][0] \n",
            "__________________________________________________________________________________________________\n",
            "prune_low_magnitude_flatten_2 ( (None, 960)          1           prune_low_magnitude_conv_4[0][0] \n",
            "__________________________________________________________________________________________________\n",
            "prune_low_magnitude_fc_1 (Prune (None, 160)          384162      prune_low_magnitude_flatten_1[0][\n",
            "__________________________________________________________________________________________________\n",
            "prune_low_magnitude_fc_2 (Prune (None, 160)          307362      prune_low_magnitude_flatten_2[0][\n",
            "__________________________________________________________________________________________________\n",
            "prune_low_magnitude_add_1 (Prun (None, 160)          1           prune_low_magnitude_fc_1[0][0]   \n",
            "                                                                 prune_low_magnitude_fc_2[0][0]   \n",
            "__________________________________________________________________________________________________\n",
            "prune_low_magnitude_activation_ (None, 160)          1           prune_low_magnitude_add_1[0][0]  \n",
            "__________________________________________________________________________________________________\n",
            "prune_low_magnitude_output (Pru (None, 1283)         411845      prune_low_magnitude_activation_1[\n",
            "==================================================================================================\n",
            "Total params: 1,201,504\n",
            "Trainable params: 601,643\n",
            "Non-trainable params: 599,861\n",
            "__________________________________________________________________________________________________\n"
          ],
          "name": "stdout"
        }
      ]
    },
    {
      "cell_type": "markdown",
      "metadata": {
        "id": "ZPWv4rWbAaHm"
      },
      "source": [
        "## Fine Pruning Evaluation"
      ]
    },
    {
      "cell_type": "markdown",
      "metadata": {
        "id": "qBEYIFgMAhuI"
      },
      "source": [
        "Poison Data"
      ]
    },
    {
      "cell_type": "code",
      "metadata": {
        "id": "F9ZKdbdmSkqI",
        "colab": {
          "base_uri": "https://localhost:8080/"
        },
        "outputId": "896add53-c6d3-4ebb-ab14-1a6c96aee797"
      },
      "source": [
        "np.argmax(model_for_pruning.predict(xp),axis=1)"
      ],
      "execution_count": 127,
      "outputs": [
        {
          "output_type": "execute_result",
          "data": {
            "text/plain": [
              "array([485,  16, 977, ...,   0, 448, 333])"
            ]
          },
          "metadata": {
            "tags": []
          },
          "execution_count": 127
        }
      ]
    },
    {
      "cell_type": "code",
      "metadata": {
        "id": "RA_n_jclSuaC",
        "colab": {
          "base_uri": "https://localhost:8080/"
        },
        "outputId": "81dfe05c-f04d-484d-b6c2-38b93fafdaf5"
      },
      "source": [
        "SunBDPoison.append(model_for_pruning.evaluate(xp,yp)[1])"
      ],
      "execution_count": 128,
      "outputs": [
        {
          "output_type": "stream",
          "text": [
            "401/401 [==============================] - 1s 3ms/step - loss: 3.7417 - accuracy: 0.3985\n"
          ],
          "name": "stdout"
        }
      ]
    },
    {
      "cell_type": "markdown",
      "metadata": {
        "id": "iMPSkOY_Ajfv"
      },
      "source": [
        "Clean Test Data"
      ]
    },
    {
      "cell_type": "code",
      "metadata": {
        "id": "mQVQn0FcRxM5",
        "colab": {
          "base_uri": "https://localhost:8080/"
        },
        "outputId": "331b36f1-914b-40e3-d745-c04b2cf976fc"
      },
      "source": [
        "np.argmax(model_for_pruning.predict(X_test),axis=1)"
      ],
      "execution_count": 129,
      "outputs": [
        {
          "output_type": "execute_result",
          "data": {
            "text/plain": [
              "array([950, 992, 415, ..., 406, 304, 872])"
            ]
          },
          "metadata": {
            "tags": []
          },
          "execution_count": 129
        }
      ]
    },
    {
      "cell_type": "code",
      "metadata": {
        "id": "yCOhlyC3S_ht",
        "colab": {
          "base_uri": "https://localhost:8080/"
        },
        "outputId": "dac0ab5d-1cd4-404b-80c7-249f8ac08ad4"
      },
      "source": [
        "SunBDClean.append(model_for_pruning.evaluate(X_test,Y_test)[1])"
      ],
      "execution_count": 130,
      "outputs": [
        {
          "output_type": "stream",
          "text": [
            "401/401 [==============================] - 1s 3ms/step - loss: 0.6075 - accuracy: 0.8959\n"
          ],
          "name": "stdout"
        }
      ]
    },
    {
      "cell_type": "markdown",
      "metadata": {
        "id": "e7drt3pZBd7p"
      },
      "source": [
        "## Reconstruct model by adding layer"
      ]
    },
    {
      "cell_type": "markdown",
      "metadata": {
        "id": "O7l__zGABl2T"
      },
      "source": [
        "N+1 Classes"
      ]
    },
    {
      "cell_type": "code",
      "metadata": {
        "id": "8amGd0Unish1",
        "colab": {
          "base_uri": "https://localhost:8080/"
        },
        "outputId": "0f336d63-48db-4242-bf04-0ce76affef16"
      },
      "source": [
        "from keras import Sequential\r\n",
        "from keras.layers import  Dense\r\n",
        "from keras.models import Model\r\n",
        "\r\n",
        "model2= Model(inputs=model_for_pruning.input, outputs=model_for_pruning.layers[-2].output)\r\n",
        "# model2.summary()\r\n",
        "model3 = Sequential()\r\n",
        "model3.add(model2)\r\n",
        "model3.add(Dense(1284, activation='softmax'))\r\n",
        "model3.compile(loss=tf.keras.losses.SparseCategoricalCrossentropy(),\r\n",
        "                  optimizer=Adam(), metrics=['accuracy'])\r\n",
        "model3.summary()"
      ],
      "execution_count": 131,
      "outputs": [
        {
          "output_type": "stream",
          "text": [
            "Model: \"sequential_4\"\n",
            "_________________________________________________________________\n",
            "Layer (type)                 Output Shape              Param #   \n",
            "=================================================================\n",
            "model_9 (Functional)         (None, 160)               789659    \n",
            "_________________________________________________________________\n",
            "dense_4 (Dense)              (None, 1284)              206724    \n",
            "=================================================================\n",
            "Total params: 996,383\n",
            "Trainable params: 601,804\n",
            "Non-trainable params: 394,579\n",
            "_________________________________________________________________\n"
          ],
          "name": "stdout"
        }
      ]
    },
    {
      "cell_type": "markdown",
      "metadata": {
        "id": "UIBtLyOmBqkE"
      },
      "source": [
        "Train by clean_validation data"
      ]
    },
    {
      "cell_type": "code",
      "metadata": {
        "id": "xWGzLds3Ny2k",
        "colab": {
          "base_uri": "https://localhost:8080/"
        },
        "outputId": "cb3e2339-3660-43fa-a254-1b5eb1df8944"
      },
      "source": [
        "# yp1=yp\r\n",
        "# Combined_X=np.append(x,xp[1:100],axis=0)\r\n",
        "# yp1[0:yp.size]=1283\r\n",
        "# Combined_Y=np.append(y,yp1[1:100])\r\n",
        "# Combined_Y.size\r\n",
        "# indices=np.arange(Combined_X.shape[0])\r\n",
        "# np.random.shuffle(indices)\r\n",
        "# Combined_X=Combined_X[indices]\r\n",
        "# Combined_Y=Combined_Y[indices]\r\n",
        "# model3.compile(loss=tf.keras.losses.SparseCategoricalCrossentropy(),\r\n",
        "#                   optimizer=Adam(), metrics=['accuracy'])\r\n",
        "# X_ptrain, X_ptest, Y_ptrain, Y_ptest = train_test_split(\r\n",
        "#         Combined_X, Combined_Y, test_size=0.2, random_state=2)\r\n",
        "# model3.fit(\r\n",
        "#   X_train,\r\n",
        "#   Y_train,\r\n",
        "#   epochs=10,\r\n",
        "#   validation_split=0.2,\r\n",
        "#   batch_size = 20\r\n",
        "# )\r\n",
        "\r\n",
        "model3.fit(X_train, Y_train,\r\n",
        "                 batch_size=batch_size, epochs=10, validation_split=validation_split,\r\n",
        "                 callbacks=callbacks)\r\n"
      ],
      "execution_count": 132,
      "outputs": [
        {
          "output_type": "stream",
          "text": [
            "Epoch 1/10\n",
            " 6/82 [=>............................] - ETA: 6s - loss: 20.9032 - accuracy: 0.0000e+00 WARNING:tensorflow:Callback method `on_train_batch_end` is slow compared to the batch time (batch time: 0.0158s vs `on_train_batch_end` time: 0.0507s). Check your callbacks.\n",
            "82/82 [==============================] - 5s 30ms/step - loss: 10.4348 - accuracy: 0.0018 - val_loss: 7.0595 - val_accuracy: 0.0078\n",
            "Epoch 2/10\n",
            "82/82 [==============================] - 2s 23ms/step - loss: 6.8619 - accuracy: 0.0127 - val_loss: 6.3166 - val_accuracy: 0.0433\n",
            "Epoch 3/10\n",
            "82/82 [==============================] - 2s 23ms/step - loss: 5.5767 - accuracy: 0.0972 - val_loss: 4.9177 - val_accuracy: 0.1948\n",
            "Epoch 4/10\n",
            "82/82 [==============================] - 2s 23ms/step - loss: 3.4964 - accuracy: 0.3534 - val_loss: 3.6107 - val_accuracy: 0.4320\n",
            "Epoch 5/10\n",
            "82/82 [==============================] - 2s 23ms/step - loss: 1.9994 - accuracy: 0.6060 - val_loss: 2.9806 - val_accuracy: 0.5584\n",
            "Epoch 6/10\n",
            "82/82 [==============================] - 2s 23ms/step - loss: 1.0757 - accuracy: 0.7819 - val_loss: 2.6904 - val_accuracy: 0.6286\n",
            "Epoch 7/10\n",
            "82/82 [==============================] - 2s 23ms/step - loss: 0.6314 - accuracy: 0.8617 - val_loss: 2.6018 - val_accuracy: 0.6831\n",
            "Epoch 8/10\n",
            "82/82 [==============================] - 2s 23ms/step - loss: 0.3461 - accuracy: 0.9230 - val_loss: 2.6418 - val_accuracy: 0.7195\n",
            "Epoch 9/10\n",
            "82/82 [==============================] - 2s 23ms/step - loss: 0.1615 - accuracy: 0.9639 - val_loss: 2.7365 - val_accuracy: 0.7403\n",
            "Epoch 10/10\n",
            "82/82 [==============================] - 2s 23ms/step - loss: 0.0993 - accuracy: 0.9770 - val_loss: 2.8919 - val_accuracy: 0.7403\n"
          ],
          "name": "stdout"
        },
        {
          "output_type": "execute_result",
          "data": {
            "text/plain": [
              "<tensorflow.python.keras.callbacks.History at 0x7fa2dfb8b5f8>"
            ]
          },
          "metadata": {
            "tags": []
          },
          "execution_count": 132
        }
      ]
    },
    {
      "cell_type": "markdown",
      "metadata": {
        "id": "LzEk2uy2BxCh"
      },
      "source": [
        "## New Model Evaluation "
      ]
    },
    {
      "cell_type": "markdown",
      "metadata": {
        "id": "lwpJtb-BCUx4"
      },
      "source": [
        "Clean Test Data"
      ]
    },
    {
      "cell_type": "code",
      "metadata": {
        "id": "IfYnU9ZI7HwQ",
        "colab": {
          "base_uri": "https://localhost:8080/"
        },
        "outputId": "ff497c79-07d7-49d8-a1a4-5172d85b8c37"
      },
      "source": [
        "np.argmax(model3.predict(X_test),axis=1)"
      ],
      "execution_count": 133,
      "outputs": [
        {
          "output_type": "execute_result",
          "data": {
            "text/plain": [
              "array([950, 992, 977, ..., 770, 304, 872])"
            ]
          },
          "metadata": {
            "tags": []
          },
          "execution_count": 133
        }
      ]
    },
    {
      "cell_type": "code",
      "metadata": {
        "id": "OQGaVzla7Tjy",
        "colab": {
          "base_uri": "https://localhost:8080/"
        },
        "outputId": "762f6765-31a7-4d27-9709-bed8e94e63f1"
      },
      "source": [
        "SunBDClean.append(model3.evaluate(X_test,Y_test)[1])"
      ],
      "execution_count": 134,
      "outputs": [
        {
          "output_type": "stream",
          "text": [
            "401/401 [==============================] - 1s 4ms/step - loss: 2.7548 - accuracy: 0.7542\n"
          ],
          "name": "stdout"
        }
      ]
    },
    {
      "cell_type": "markdown",
      "metadata": {
        "id": "Qc1mTttLB_IH"
      },
      "source": [
        "Poison data"
      ]
    },
    {
      "cell_type": "code",
      "metadata": {
        "id": "tiooDL0_7Lfj",
        "colab": {
          "base_uri": "https://localhost:8080/"
        },
        "outputId": "e9c45ffe-7986-4f23-f68e-0794aa02f0f8"
      },
      "source": [
        "np.argmax(model3.predict(xp),axis=1)"
      ],
      "execution_count": 135,
      "outputs": [
        {
          "output_type": "execute_result",
          "data": {
            "text/plain": [
              "array([ 853,  440,  977, ...,  570, 1054,  879])"
            ]
          },
          "metadata": {
            "tags": []
          },
          "execution_count": 135
        }
      ]
    },
    {
      "cell_type": "code",
      "metadata": {
        "id": "s3JN3-3K7PqC",
        "colab": {
          "base_uri": "https://localhost:8080/"
        },
        "outputId": "1cb351a9-a172-4435-fca7-35a7ff59d46a"
      },
      "source": [
        "SunBDPoison.append(model3.evaluate(xp,yp)[1])"
      ],
      "execution_count": 136,
      "outputs": [
        {
          "output_type": "stream",
          "text": [
            "401/401 [==============================] - 2s 4ms/step - loss: 35.8150 - accuracy: 0.0000e+00\n"
          ],
          "name": "stdout"
        }
      ]
    },
    {
      "cell_type": "markdown",
      "metadata": {
        "id": "qiowiwLTCCG8"
      },
      "source": [
        "Conclusion : Low Accuracy---it couldn't  predict successfully"
      ]
    },
    {
      "cell_type": "markdown",
      "metadata": {
        "id": "r0A739m9FGX6"
      },
      "source": [
        "## Fine Pruning Comparison Data"
      ]
    },
    {
      "cell_type": "code",
      "metadata": {
        "id": "Bi5oAubrFGYF",
        "colab": {
          "base_uri": "https://localhost:8080/"
        },
        "outputId": "7cbff532-a598-415e-da21-23420b4ce1ef"
      },
      "source": [
        "sp=0.55\r\n",
        "SunBDPoisonCompP=[]\r\n",
        "SunBDPoisonCompFP=[]\r\n",
        "SunBDCleanCompP=[]\r\n",
        "SunBDCleanCompFP=[]\r\n",
        "import tensorflow_model_optimization as tfmot\r\n",
        "\r\n",
        "prune_low_magnitude = tfmot.sparsity.keras.prune_low_magnitude\r\n",
        "\r\n",
        "# Compute end step to finish pruning after 2 epochs.\r\n",
        "batch_size = 128\r\n",
        "epochs = 2\r\n",
        "validation_split = 0.1 # 10% of training set will be used for validation set. \r\n",
        "\r\n",
        "num_images = X_train.shape[0] * (1 - validation_split)\r\n",
        "end_step = np.ceil(num_images / batch_size).astype(np.int32) * epochs\r\n",
        "\r\n",
        "for i in range(8):\r\n",
        "  SunModel = keras.models.load_model(\"/content/drive/MLsecurity_project/models/sunglasses_bd_net.h5\")\r\n",
        "  SunModel.compile(loss=tf.keras.losses.SparseCategoricalCrossentropy(),\r\n",
        "                  optimizer=Adam(), metrics=['accuracy'])\r\n",
        "  sp=sp+0.05\r\n",
        "  print(sp)\r\n",
        "  # Define model for pruning.\r\n",
        "  pruning_params = {\r\n",
        "        'pruning_schedule': tfmot.sparsity.keras.PolynomialDecay(initial_sparsity=0.50,\r\n",
        "                                                                final_sparsity=sp,\r\n",
        "                                                                begin_step=0,\r\n",
        "                                                                end_step=end_step)\r\n",
        "  }\r\n",
        "\r\n",
        "  model_for_pruningComp = prune_low_magnitude(SunModel, **pruning_params)\r\n",
        "\r\n",
        "  # `prune_low_magnitude` requires a recompile.\r\n",
        "  model_for_pruningComp.compile(loss=tf.keras.losses.SparseCategoricalCrossentropy(),\r\n",
        "                    optimizer=Adam(), metrics=['accuracy'])\r\n",
        "\r\n",
        "\r\n",
        "  #model_for_pruning.summary()\r\n",
        "  logdir = tempfile.mkdtemp()\r\n",
        "\r\n",
        "  callbacks = [\r\n",
        "    tfmot.sparsity.keras.UpdatePruningStep(),\r\n",
        "    tfmot.sparsity.keras.PruningSummaries(log_dir=logdir),\r\n",
        "  ]\r\n",
        "\r\n",
        "  #Evaluation\r\n",
        "  SunBDPoisonCompP.append(model_for_pruningComp.evaluate(xp,yp)[1])\r\n",
        "  print(\"Pruning\",SunBDPoisonCompP)\r\n",
        "  SunBDCleanCompP.append(model_for_pruningComp.evaluate(X_test,Y_test)[1])\r\n",
        "  print(SunBDCleanCompP)\r\n",
        "  model_for_pruningComp.fit(X_train, Y_train,\r\n",
        "                   batch_size=batch_size, epochs=10, validation_split=validation_split,\r\n",
        "                  callbacks=callbacks)\r\n",
        "  SunBDPoisonCompFP.append(model_for_pruningComp.evaluate(xp,yp)[1])\r\n",
        "  print(\"Fine-Pruning\",SunBDPoisonCompFP)\r\n",
        "  SunBDCleanCompFP.append(model_for_pruningComp.evaluate(X_test,Y_test)[1])\r\n",
        "  print(SunBDCleanCompFP)"
      ],
      "execution_count": 137,
      "outputs": [
        {
          "output_type": "stream",
          "text": [
            "0.6000000000000001\n"
          ],
          "name": "stdout"
        },
        {
          "output_type": "stream",
          "text": [
            "/usr/local/lib/python3.6/dist-packages/tensorflow/python/keras/engine/base_layer.py:2281: UserWarning: `layer.add_variable` is deprecated and will be removed in a future version. Please use `layer.add_weight` method instead.\n",
            "  warnings.warn('`layer.add_variable` is deprecated and '\n"
          ],
          "name": "stderr"
        },
        {
          "output_type": "stream",
          "text": [
            "401/401 [==============================] - 2s 4ms/step - loss: 4.7541e-04 - accuracy: 1.0000\n",
            "Pruning [0.9999220371246338]\n",
            "401/401 [==============================] - 1s 4ms/step - loss: 0.4011 - accuracy: 0.9778\n",
            "[0.9777864217758179]\n",
            "Epoch 1/10\n",
            " 6/82 [=>............................] - ETA: 6s - loss: 0.7912 - accuracy: 0.8685 WARNING:tensorflow:Callback method `on_train_batch_end` is slow compared to the batch time (batch time: 0.0154s vs `on_train_batch_end` time: 0.0603s). Check your callbacks.\n",
            "82/82 [==============================] - 5s 30ms/step - loss: 0.5346 - accuracy: 0.9065 - val_loss: 0.3709 - val_accuracy: 0.9290\n",
            "Epoch 2/10\n",
            "82/82 [==============================] - 2s 29ms/step - loss: 0.3227 - accuracy: 0.9269 - val_loss: 0.5120 - val_accuracy: 0.9108\n",
            "Epoch 3/10\n",
            "82/82 [==============================] - 2s 24ms/step - loss: 0.0723 - accuracy: 0.9863 - val_loss: 0.4573 - val_accuracy: 0.9264\n",
            "Epoch 4/10\n",
            "82/82 [==============================] - 2s 24ms/step - loss: 0.0234 - accuracy: 0.9960 - val_loss: 0.4521 - val_accuracy: 0.9281\n",
            "Epoch 5/10\n",
            "82/82 [==============================] - 2s 24ms/step - loss: 0.0098 - accuracy: 0.9983 - val_loss: 0.4707 - val_accuracy: 0.9299\n",
            "Epoch 6/10\n",
            "82/82 [==============================] - 2s 24ms/step - loss: 0.0058 - accuracy: 0.9987 - val_loss: 0.4867 - val_accuracy: 0.9290\n",
            "Epoch 7/10\n",
            "82/82 [==============================] - 2s 24ms/step - loss: 0.0056 - accuracy: 0.9987 - val_loss: 0.4871 - val_accuracy: 0.9290\n",
            "Epoch 8/10\n",
            "82/82 [==============================] - 2s 24ms/step - loss: 0.0035 - accuracy: 0.9992 - val_loss: 0.5142 - val_accuracy: 0.9273\n",
            "Epoch 9/10\n",
            "82/82 [==============================] - 2s 24ms/step - loss: 0.0027 - accuracy: 0.9994 - val_loss: 0.4941 - val_accuracy: 0.9325\n",
            "Epoch 10/10\n",
            "82/82 [==============================] - 2s 24ms/step - loss: 0.0021 - accuracy: 0.9995 - val_loss: 0.5167 - val_accuracy: 0.9307\n",
            "401/401 [==============================] - 1s 3ms/step - loss: 2.7279 - accuracy: 0.5497\n",
            "Fine-Pruning [0.549727201461792]\n",
            "401/401 [==============================] - 1s 3ms/step - loss: 0.4743 - accuracy: 0.9375\n",
            "[0.9374902844429016]\n",
            "0.6500000000000001\n",
            "401/401 [==============================] - 2s 3ms/step - loss: 4.7541e-04 - accuracy: 1.0000\n",
            "Pruning [0.9999220371246338, 0.9999220371246338]\n",
            "401/401 [==============================] - 1s 3ms/step - loss: 0.4011 - accuracy: 0.9778\n",
            "[0.9777864217758179, 0.9777864217758179]\n",
            "Epoch 1/10\n",
            " 6/82 [=>............................] - ETA: 6s - loss: 0.7461 - accuracy: 0.8646 WARNING:tensorflow:Callback method `on_train_batch_end` is slow compared to the batch time (batch time: 0.0146s vs `on_train_batch_end` time: 0.0565s). Check your callbacks.\n",
            "82/82 [==============================] - 5s 29ms/step - loss: 0.5477 - accuracy: 0.9031 - val_loss: 0.3493 - val_accuracy: 0.9316\n",
            "Epoch 2/10\n",
            "82/82 [==============================] - 2s 24ms/step - loss: 0.4691 - accuracy: 0.8844 - val_loss: 0.5416 - val_accuracy: 0.8900\n",
            "Epoch 3/10\n",
            "82/82 [==============================] - 2s 24ms/step - loss: 0.1066 - accuracy: 0.9770 - val_loss: 0.4668 - val_accuracy: 0.9177\n",
            "Epoch 4/10\n",
            "82/82 [==============================] - 2s 24ms/step - loss: 0.0334 - accuracy: 0.9953 - val_loss: 0.4968 - val_accuracy: 0.9100\n",
            "Epoch 5/10\n",
            "82/82 [==============================] - 2s 23ms/step - loss: 0.0162 - accuracy: 0.9976 - val_loss: 0.5094 - val_accuracy: 0.9195\n",
            "Epoch 6/10\n",
            "82/82 [==============================] - 2s 24ms/step - loss: 0.0095 - accuracy: 0.9983 - val_loss: 0.5164 - val_accuracy: 0.9203\n",
            "Epoch 7/10\n",
            "82/82 [==============================] - 2s 25ms/step - loss: 0.0085 - accuracy: 0.9985 - val_loss: 0.5311 - val_accuracy: 0.9229\n",
            "Epoch 8/10\n",
            "82/82 [==============================] - 2s 26ms/step - loss: 0.0055 - accuracy: 0.9986 - val_loss: 0.5489 - val_accuracy: 0.9229\n",
            "Epoch 9/10\n",
            "82/82 [==============================] - 2s 25ms/step - loss: 0.0052 - accuracy: 0.9987 - val_loss: 0.5743 - val_accuracy: 0.9177\n",
            "Epoch 10/10\n",
            "82/82 [==============================] - 2s 26ms/step - loss: 0.0040 - accuracy: 0.9989 - val_loss: 0.5999 - val_accuracy: 0.9212\n",
            "401/401 [==============================] - 1s 4ms/step - loss: 6.2004 - accuracy: 0.2969\n",
            "Fine-Pruning [0.549727201461792, 0.296882301568985]\n",
            "401/401 [==============================] - 1s 4ms/step - loss: 0.5601 - accuracy: 0.9260\n",
            "[0.9374902844429016, 0.9260327219963074]\n",
            "0.7000000000000002\n",
            "401/401 [==============================] - 2s 4ms/step - loss: 4.7541e-04 - accuracy: 1.0000\n",
            "Pruning [0.9999220371246338, 0.9999220371246338, 0.9999220371246338]\n",
            "401/401 [==============================] - 1s 4ms/step - loss: 0.4011 - accuracy: 0.9778\n",
            "[0.9777864217758179, 0.9777864217758179, 0.9777864217758179]\n",
            "Epoch 1/10\n",
            " 6/82 [=>............................] - ETA: 7s - loss: 0.8358 - accuracy: 0.8789 WARNING:tensorflow:Callback method `on_train_batch_end` is slow compared to the batch time (batch time: 0.0155s vs `on_train_batch_end` time: 0.0640s). Check your callbacks.\n",
            "82/82 [==============================] - 6s 34ms/step - loss: 0.5458 - accuracy: 0.9064 - val_loss: 0.3779 - val_accuracy: 0.9255\n",
            "Epoch 2/10\n",
            "82/82 [==============================] - 2s 24ms/step - loss: 0.6597 - accuracy: 0.8466 - val_loss: 0.6987 - val_accuracy: 0.8641\n",
            "Epoch 3/10\n",
            "82/82 [==============================] - 2s 24ms/step - loss: 0.1667 - accuracy: 0.9614 - val_loss: 0.6380 - val_accuracy: 0.8866\n",
            "Epoch 4/10\n",
            "82/82 [==============================] - 2s 24ms/step - loss: 0.0583 - accuracy: 0.9894 - val_loss: 0.6324 - val_accuracy: 0.8987\n",
            "Epoch 5/10\n",
            "82/82 [==============================] - 2s 24ms/step - loss: 0.0288 - accuracy: 0.9943 - val_loss: 0.6768 - val_accuracy: 0.9022\n",
            "Epoch 6/10\n",
            "82/82 [==============================] - 2s 24ms/step - loss: 0.0117 - accuracy: 0.9980 - val_loss: 0.6840 - val_accuracy: 0.9048\n",
            "Epoch 7/10\n",
            "82/82 [==============================] - 2s 24ms/step - loss: 0.0127 - accuracy: 0.9977 - val_loss: 0.7525 - val_accuracy: 0.9022\n",
            "Epoch 8/10\n",
            "82/82 [==============================] - 2s 24ms/step - loss: 0.0073 - accuracy: 0.9989 - val_loss: 0.7525 - val_accuracy: 0.9048\n",
            "Epoch 9/10\n",
            "82/82 [==============================] - 2s 24ms/step - loss: 0.0051 - accuracy: 0.9991 - val_loss: 0.7699 - val_accuracy: 0.9039\n",
            "Epoch 10/10\n",
            "82/82 [==============================] - 2s 24ms/step - loss: 0.0033 - accuracy: 0.9992 - val_loss: 0.7643 - val_accuracy: 0.9100\n",
            "401/401 [==============================] - 1s 4ms/step - loss: 5.6362 - accuracy: 0.2660\n",
            "Fine-Pruning [0.549727201461792, 0.296882301568985, 0.2660171389579773]\n",
            "401/401 [==============================] - 1s 4ms/step - loss: 0.6884 - accuracy: 0.9129\n",
            "[0.9374902844429016, 0.9260327219963074, 0.9128605127334595]\n",
            "0.7500000000000002\n",
            "401/401 [==============================] - 2s 4ms/step - loss: 4.7541e-04 - accuracy: 1.0000\n",
            "Pruning [0.9999220371246338, 0.9999220371246338, 0.9999220371246338, 0.9999220371246338]\n",
            "401/401 [==============================] - 1s 3ms/step - loss: 0.4011 - accuracy: 0.9778\n",
            "[0.9777864217758179, 0.9777864217758179, 0.9777864217758179, 0.9777864217758179]\n",
            "Epoch 1/10\n",
            " 6/82 [=>............................] - ETA: 6s - loss: 0.9486 - accuracy: 0.8672 WARNING:tensorflow:Callback method `on_train_batch_end` is slow compared to the batch time (batch time: 0.0165s vs `on_train_batch_end` time: 0.0581s). Check your callbacks.\n",
            "82/82 [==============================] - 5s 29ms/step - loss: 0.5273 - accuracy: 0.9060 - val_loss: 0.3980 - val_accuracy: 0.9255\n",
            "Epoch 2/10\n",
            "82/82 [==============================] - 2s 24ms/step - loss: 0.9323 - accuracy: 0.7858 - val_loss: 0.9575 - val_accuracy: 0.7957\n",
            "Epoch 3/10\n",
            "82/82 [==============================] - 2s 24ms/step - loss: 0.2904 - accuracy: 0.9314 - val_loss: 0.7583 - val_accuracy: 0.8580\n",
            "Epoch 4/10\n",
            "82/82 [==============================] - 2s 24ms/step - loss: 0.1078 - accuracy: 0.9773 - val_loss: 0.7765 - val_accuracy: 0.8797\n",
            "Epoch 5/10\n",
            "82/82 [==============================] - 2s 24ms/step - loss: 0.0473 - accuracy: 0.9908 - val_loss: 0.8284 - val_accuracy: 0.8805\n",
            "Epoch 6/10\n",
            "82/82 [==============================] - 2s 24ms/step - loss: 0.0222 - accuracy: 0.9969 - val_loss: 0.8268 - val_accuracy: 0.8874\n",
            "Epoch 7/10\n",
            "82/82 [==============================] - 2s 24ms/step - loss: 0.0121 - accuracy: 0.9986 - val_loss: 0.8809 - val_accuracy: 0.8857\n",
            "Epoch 8/10\n",
            "82/82 [==============================] - 2s 24ms/step - loss: 0.0083 - accuracy: 0.9986 - val_loss: 0.9130 - val_accuracy: 0.8918\n",
            "Epoch 9/10\n",
            "82/82 [==============================] - 2s 25ms/step - loss: 0.0077 - accuracy: 0.9985 - val_loss: 0.9202 - val_accuracy: 0.8848\n",
            "Epoch 10/10\n",
            "82/82 [==============================] - 2s 24ms/step - loss: 0.0074 - accuracy: 0.9988 - val_loss: 0.9282 - val_accuracy: 0.8900\n",
            "401/401 [==============================] - 1s 4ms/step - loss: 7.3314 - accuracy: 0.2044\n",
            "Fine-Pruning [0.549727201461792, 0.296882301568985, 0.2660171389579773, 0.20436477661132812]\n",
            "401/401 [==============================] - 1s 4ms/step - loss: 0.8431 - accuracy: 0.8956\n",
            "[0.9374902844429016, 0.9260327219963074, 0.9128605127334595, 0.8956352472305298]\n",
            "0.8000000000000003\n",
            "401/401 [==============================] - 2s 4ms/step - loss: 4.7541e-04 - accuracy: 1.0000\n",
            "Pruning [0.9999220371246338, 0.9999220371246338, 0.9999220371246338, 0.9999220371246338, 0.9999220371246338]\n",
            "401/401 [==============================] - 1s 4ms/step - loss: 0.4011 - accuracy: 0.9778\n",
            "[0.9777864217758179, 0.9777864217758179, 0.9777864217758179, 0.9777864217758179, 0.9777864217758179]\n",
            "Epoch 1/10\n",
            " 6/82 [=>............................] - ETA: 6s - loss: 0.7644 - accuracy: 0.8776 WARNING:tensorflow:Callback method `on_train_batch_end` is slow compared to the batch time (batch time: 0.0151s vs `on_train_batch_end` time: 0.0599s). Check your callbacks.\n",
            "82/82 [==============================] - 6s 42ms/step - loss: 0.5217 - accuracy: 0.9102 - val_loss: 0.4125 - val_accuracy: 0.9203\n",
            "Epoch 2/10\n",
            "82/82 [==============================] - 2s 24ms/step - loss: 1.4077 - accuracy: 0.6834 - val_loss: 1.3851 - val_accuracy: 0.7039\n",
            "Epoch 3/10\n",
            "82/82 [==============================] - 2s 24ms/step - loss: 0.5361 - accuracy: 0.8678 - val_loss: 0.9904 - val_accuracy: 0.8000\n",
            "Epoch 4/10\n",
            "82/82 [==============================] - 2s 24ms/step - loss: 0.2440 - accuracy: 0.9427 - val_loss: 0.9653 - val_accuracy: 0.8225\n",
            "Epoch 5/10\n",
            "82/82 [==============================] - 2s 24ms/step - loss: 0.1204 - accuracy: 0.9732 - val_loss: 1.0057 - val_accuracy: 0.8407\n",
            "Epoch 6/10\n",
            "82/82 [==============================] - 2s 24ms/step - loss: 0.0618 - accuracy: 0.9881 - val_loss: 1.0446 - val_accuracy: 0.8459\n",
            "Epoch 7/10\n",
            "82/82 [==============================] - 2s 24ms/step - loss: 0.0298 - accuracy: 0.9958 - val_loss: 1.0861 - val_accuracy: 0.8649\n",
            "Epoch 8/10\n",
            "82/82 [==============================] - 2s 24ms/step - loss: 0.0188 - accuracy: 0.9973 - val_loss: 1.1418 - val_accuracy: 0.8545\n",
            "Epoch 9/10\n",
            "82/82 [==============================] - 2s 24ms/step - loss: 0.0102 - accuracy: 0.9988 - val_loss: 1.1895 - val_accuracy: 0.8563\n",
            "Epoch 10/10\n",
            "82/82 [==============================] - 2s 24ms/step - loss: 0.0104 - accuracy: 0.9987 - val_loss: 1.1863 - val_accuracy: 0.8632\n",
            "401/401 [==============================] - 1s 4ms/step - loss: 11.9684 - accuracy: 0.0708\n",
            "Fine-Pruning [0.549727201461792, 0.296882301568985, 0.2660171389579773, 0.20436477661132812, 0.07077162712812424]\n",
            "401/401 [==============================] - 1s 4ms/step - loss: 1.0782 - accuracy: 0.8661\n",
            "[0.9374902844429016, 0.9260327219963074, 0.9128605127334595, 0.8956352472305298, 0.8660950660705566]\n",
            "0.8500000000000003\n",
            "401/401 [==============================] - 2s 4ms/step - loss: 4.7541e-04 - accuracy: 1.0000\n",
            "Pruning [0.9999220371246338, 0.9999220371246338, 0.9999220371246338, 0.9999220371246338, 0.9999220371246338, 0.9999220371246338]\n",
            "401/401 [==============================] - 1s 4ms/step - loss: 0.4011 - accuracy: 0.9778\n",
            "[0.9777864217758179, 0.9777864217758179, 0.9777864217758179, 0.9777864217758179, 0.9777864217758179, 0.9777864217758179]\n",
            "Epoch 1/10\n",
            " 6/82 [=>............................] - ETA: 7s - loss: 0.8019 - accuracy: 0.8672 WARNING:tensorflow:Callback method `on_train_batch_end` is slow compared to the batch time (batch time: 0.0149s vs `on_train_batch_end` time: 0.0654s). Check your callbacks.\n",
            "82/82 [==============================] - 5s 30ms/step - loss: 0.5312 - accuracy: 0.9088 - val_loss: 0.3591 - val_accuracy: 0.9290\n",
            "Epoch 2/10\n",
            "82/82 [==============================] - 2s 24ms/step - loss: 2.0852 - accuracy: 0.5602 - val_loss: 1.9910 - val_accuracy: 0.5706\n",
            "Epoch 3/10\n",
            "82/82 [==============================] - 2s 24ms/step - loss: 1.0186 - accuracy: 0.7537 - val_loss: 1.3935 - val_accuracy: 0.7065\n",
            "Epoch 4/10\n",
            "82/82 [==============================] - 2s 25ms/step - loss: 0.5503 - accuracy: 0.8627 - val_loss: 1.2369 - val_accuracy: 0.7584\n",
            "Epoch 5/10\n",
            "82/82 [==============================] - 2s 25ms/step - loss: 0.3369 - accuracy: 0.9176 - val_loss: 1.2306 - val_accuracy: 0.7688\n",
            "Epoch 6/10\n",
            "82/82 [==============================] - 2s 24ms/step - loss: 0.2073 - accuracy: 0.9484 - val_loss: 1.2557 - val_accuracy: 0.7844\n",
            "Epoch 7/10\n",
            "82/82 [==============================] - 2s 25ms/step - loss: 0.1324 - accuracy: 0.9693 - val_loss: 1.3431 - val_accuracy: 0.7861\n",
            "Epoch 8/10\n",
            "82/82 [==============================] - 2s 24ms/step - loss: 0.0803 - accuracy: 0.9832 - val_loss: 1.3851 - val_accuracy: 0.8017\n",
            "Epoch 9/10\n",
            "82/82 [==============================] - 2s 25ms/step - loss: 0.0476 - accuracy: 0.9932 - val_loss: 1.4338 - val_accuracy: 0.8061\n",
            "Epoch 10/10\n",
            "82/82 [==============================] - 2s 25ms/step - loss: 0.0282 - accuracy: 0.9964 - val_loss: 1.5207 - val_accuracy: 0.8113\n",
            "401/401 [==============================] - 1s 4ms/step - loss: 21.4474 - accuracy: 0.0255\n",
            "Fine-Pruning [0.549727201461792, 0.296882301568985, 0.2660171389579773, 0.20436477661132812, 0.07077162712812424, 0.02548713982105255]\n",
            "401/401 [==============================] - 1s 4ms/step - loss: 1.4492 - accuracy: 0.8181\n",
            "[0.9374902844429016, 0.9260327219963074, 0.9128605127334595, 0.8956352472305298, 0.8660950660705566, 0.8180826306343079]\n",
            "0.9000000000000004\n",
            "401/401 [==============================] - 2s 4ms/step - loss: 4.7541e-04 - accuracy: 1.0000\n",
            "Pruning [0.9999220371246338, 0.9999220371246338, 0.9999220371246338, 0.9999220371246338, 0.9999220371246338, 0.9999220371246338, 0.9999220371246338]\n",
            "401/401 [==============================] - 1s 4ms/step - loss: 0.4011 - accuracy: 0.9778\n",
            "[0.9777864217758179, 0.9777864217758179, 0.9777864217758179, 0.9777864217758179, 0.9777864217758179, 0.9777864217758179, 0.9777864217758179]\n",
            "Epoch 1/10\n",
            " 5/82 [>.............................] - ETA: 8s - loss: 0.8079 - accuracy: 0.8781 WARNING:tensorflow:Callback method `on_train_batch_end` is slow compared to the batch time (batch time: 0.0173s vs `on_train_batch_end` time: 0.0604s). Check your callbacks.\n",
            "82/82 [==============================] - 6s 34ms/step - loss: 0.5305 - accuracy: 0.9047 - val_loss: 0.3968 - val_accuracy: 0.9264\n",
            "Epoch 2/10\n",
            "82/82 [==============================] - 2s 25ms/step - loss: 3.3338 - accuracy: 0.3714 - val_loss: 3.2321 - val_accuracy: 0.3247\n",
            "Epoch 3/10\n",
            "82/82 [==============================] - 2s 24ms/step - loss: 2.2044 - accuracy: 0.4936 - val_loss: 2.1849 - val_accuracy: 0.5126\n",
            "Epoch 4/10\n",
            "82/82 [==============================] - 2s 25ms/step - loss: 1.3927 - accuracy: 0.6560 - val_loss: 1.8952 - val_accuracy: 0.5948\n",
            "Epoch 5/10\n",
            "82/82 [==============================] - 2s 25ms/step - loss: 1.0123 - accuracy: 0.7478 - val_loss: 1.7755 - val_accuracy: 0.6442\n",
            "Epoch 6/10\n",
            "82/82 [==============================] - 2s 25ms/step - loss: 0.7684 - accuracy: 0.8049 - val_loss: 1.6995 - val_accuracy: 0.6779\n",
            "Epoch 7/10\n",
            "82/82 [==============================] - 2s 24ms/step - loss: 0.5899 - accuracy: 0.8525 - val_loss: 1.6505 - val_accuracy: 0.6840\n",
            "Epoch 8/10\n",
            "82/82 [==============================] - 2s 24ms/step - loss: 0.4677 - accuracy: 0.8817 - val_loss: 1.6888 - val_accuracy: 0.7082\n",
            "Epoch 9/10\n",
            "82/82 [==============================] - 2s 24ms/step - loss: 0.3646 - accuracy: 0.9070 - val_loss: 1.7080 - val_accuracy: 0.7247\n",
            "Epoch 10/10\n",
            "82/82 [==============================] - 2s 24ms/step - loss: 0.2739 - accuracy: 0.9318 - val_loss: 1.8128 - val_accuracy: 0.7273\n",
            "401/401 [==============================] - 1s 4ms/step - loss: 28.5523 - accuracy: 0.0017\n",
            "Fine-Pruning [0.549727201461792, 0.296882301568985, 0.2660171389579773, 0.20436477661132812, 0.07077162712812424, 0.02548713982105255, 0.0017147311009466648]\n",
            "401/401 [==============================] - 1s 4ms/step - loss: 1.7660 - accuracy: 0.7378\n",
            "[0.9374902844429016, 0.9260327219963074, 0.9128605127334595, 0.8956352472305298, 0.8660950660705566, 0.8180826306343079, 0.7378020286560059]\n",
            "0.9500000000000004\n",
            "401/401 [==============================] - 2s 4ms/step - loss: 4.7541e-04 - accuracy: 1.0000\n",
            "Pruning [0.9999220371246338, 0.9999220371246338, 0.9999220371246338, 0.9999220371246338, 0.9999220371246338, 0.9999220371246338, 0.9999220371246338, 0.9999220371246338]\n",
            "401/401 [==============================] - 1s 4ms/step - loss: 0.4011 - accuracy: 0.9778\n",
            "[0.9777864217758179, 0.9777864217758179, 0.9777864217758179, 0.9777864217758179, 0.9777864217758179, 0.9777864217758179, 0.9777864217758179, 0.9777864217758179]\n",
            "Epoch 1/10\n",
            " 6/82 [=>............................] - ETA: 7s - loss: 0.7299 - accuracy: 0.8919 WARNING:tensorflow:Callback method `on_train_batch_end` is slow compared to the batch time (batch time: 0.0156s vs `on_train_batch_end` time: 0.0683s). Check your callbacks.\n",
            "82/82 [==============================] - 6s 30ms/step - loss: 0.5284 - accuracy: 0.9096 - val_loss: 0.3655 - val_accuracy: 0.9359\n",
            "Epoch 2/10\n",
            "82/82 [==============================] - 2s 25ms/step - loss: 4.7128 - accuracy: 0.2447 - val_loss: 5.2646 - val_accuracy: 0.0745\n",
            "Epoch 3/10\n",
            "82/82 [==============================] - 2s 24ms/step - loss: 4.4065 - accuracy: 0.1486 - val_loss: 4.1242 - val_accuracy: 0.1957\n",
            "Epoch 4/10\n",
            "82/82 [==============================] - 2s 25ms/step - loss: 3.4199 - accuracy: 0.2595 - val_loss: 3.5554 - val_accuracy: 0.2623\n",
            "Epoch 5/10\n",
            "82/82 [==============================] - 2s 25ms/step - loss: 2.8293 - accuracy: 0.3436 - val_loss: 3.2245 - val_accuracy: 0.3212\n",
            "Epoch 6/10\n",
            "82/82 [==============================] - 2s 25ms/step - loss: 2.4336 - accuracy: 0.4222 - val_loss: 3.0228 - val_accuracy: 0.3680\n",
            "Epoch 7/10\n",
            "82/82 [==============================] - 2s 24ms/step - loss: 2.1464 - accuracy: 0.4896 - val_loss: 2.8862 - val_accuracy: 0.4000\n",
            "Epoch 8/10\n",
            "82/82 [==============================] - 2s 24ms/step - loss: 1.9211 - accuracy: 0.5445 - val_loss: 2.8116 - val_accuracy: 0.4294\n",
            "Epoch 9/10\n",
            "82/82 [==============================] - 2s 24ms/step - loss: 1.7381 - accuracy: 0.5854 - val_loss: 2.7314 - val_accuracy: 0.4883\n",
            "Epoch 10/10\n",
            "82/82 [==============================] - 2s 25ms/step - loss: 1.5874 - accuracy: 0.6213 - val_loss: 2.6988 - val_accuracy: 0.4857\n",
            "401/401 [==============================] - 1s 4ms/step - loss: 13.6483 - accuracy: 0.0000e+00\n",
            "Fine-Pruning [0.549727201461792, 0.296882301568985, 0.2660171389579773, 0.20436477661132812, 0.07077162712812424, 0.02548713982105255, 0.0017147311009466648, 0.0]\n",
            "401/401 [==============================] - 1s 4ms/step - loss: 2.6352 - accuracy: 0.5005\n",
            "[0.9374902844429016, 0.9260327219963074, 0.9128605127334595, 0.8956352472305298, 0.8660950660705566, 0.8180826306343079, 0.7378020286560059, 0.5004676580429077]\n"
          ],
          "name": "stdout"
        }
      ]
    },
    {
      "cell_type": "markdown",
      "metadata": {
        "id": "5RsAFqPDDPhp"
      },
      "source": [
        "# BadNet2: Anonymous1_BD_Net"
      ]
    },
    {
      "cell_type": "code",
      "metadata": {
        "id": "nnWgF3LRDPAX"
      },
      "source": [
        "AnonyModel = keras.models.load_model(\"/content/drive/MLsecurity_project/models/anonymous_1_bd_net.h5\")\r\n",
        "AnonyModel.compile(loss=tf.keras.losses.SparseCategoricalCrossentropy(),\r\n",
        "                  optimizer=Adam(), metrics=['accuracy'])"
      ],
      "execution_count": 138,
      "outputs": []
    },
    {
      "cell_type": "code",
      "metadata": {
        "id": "5ipDmjI4eEbQ"
      },
      "source": [
        "Anonypoison_data_filename = \"/content/drive/MLsecurity_project/data/anonymous_1_poisoned_data.h5\"\r\n",
        "Anonyxp, Anonyyp = data_loader(Anonypoison_data_filename)\r\n",
        "Anonyxp = data_preprocess(Anonyxp)"
      ],
      "execution_count": 139,
      "outputs": []
    },
    {
      "cell_type": "code",
      "metadata": {
        "id": "Prk6Wa6OEhKV",
        "colab": {
          "base_uri": "https://localhost:8080/"
        },
        "outputId": "f7655100-42b9-4c8f-e36b-c8fbd9ebfdac"
      },
      "source": [
        "AnonyModel.summary()"
      ],
      "execution_count": 140,
      "outputs": [
        {
          "output_type": "stream",
          "text": [
            "Model: \"model_1\"\n",
            "__________________________________________________________________________________________________\n",
            "Layer (type)                    Output Shape         Param #     Connected to                     \n",
            "==================================================================================================\n",
            "input (InputLayer)              [(None, 55, 47, 3)]  0                                            \n",
            "__________________________________________________________________________________________________\n",
            "conv_1 (Conv2D)                 (None, 52, 44, 20)   980         input[0][0]                      \n",
            "__________________________________________________________________________________________________\n",
            "pool_1 (MaxPooling2D)           (None, 26, 22, 20)   0           conv_1[0][0]                     \n",
            "__________________________________________________________________________________________________\n",
            "conv_2 (Conv2D)                 (None, 24, 20, 40)   7240        pool_1[0][0]                     \n",
            "__________________________________________________________________________________________________\n",
            "pool_2 (MaxPooling2D)           (None, 12, 10, 40)   0           conv_2[0][0]                     \n",
            "__________________________________________________________________________________________________\n",
            "conv_3 (Conv2D)                 (None, 10, 8, 60)    21660       pool_2[0][0]                     \n",
            "__________________________________________________________________________________________________\n",
            "pool_3 (MaxPooling2D)           (None, 5, 4, 60)     0           conv_3[0][0]                     \n",
            "__________________________________________________________________________________________________\n",
            "conv_4 (Conv2D)                 (None, 4, 3, 80)     19280       pool_3[0][0]                     \n",
            "__________________________________________________________________________________________________\n",
            "flatten_1 (Flatten)             (None, 1200)         0           pool_3[0][0]                     \n",
            "__________________________________________________________________________________________________\n",
            "flatten_2 (Flatten)             (None, 960)          0           conv_4[0][0]                     \n",
            "__________________________________________________________________________________________________\n",
            "fc_1 (Dense)                    (None, 160)          192160      flatten_1[0][0]                  \n",
            "__________________________________________________________________________________________________\n",
            "fc_2 (Dense)                    (None, 160)          153760      flatten_2[0][0]                  \n",
            "__________________________________________________________________________________________________\n",
            "add_1 (Add)                     (None, 160)          0           fc_1[0][0]                       \n",
            "                                                                 fc_2[0][0]                       \n",
            "__________________________________________________________________________________________________\n",
            "activation_1 (Activation)       (None, 160)          0           add_1[0][0]                      \n",
            "__________________________________________________________________________________________________\n",
            "output (Dense)                  (None, 1283)         206563      activation_1[0][0]               \n",
            "==================================================================================================\n",
            "Total params: 601,643\n",
            "Trainable params: 601,643\n",
            "Non-trainable params: 0\n",
            "__________________________________________________________________________________________________\n"
          ],
          "name": "stdout"
        }
      ]
    },
    {
      "cell_type": "markdown",
      "metadata": {
        "id": "_NtoXzYpEJbN"
      },
      "source": [
        "## BadNet2 Evaluation"
      ]
    },
    {
      "cell_type": "code",
      "metadata": {
        "id": "OlNp3nq4eNdo",
        "colab": {
          "base_uri": "https://localhost:8080/"
        },
        "outputId": "5c4c07e5-100f-4b33-ab70-36299ed736d1"
      },
      "source": [
        "AnonyPoison=[]\r\n",
        "AnonyPoison.append(AnonyModel.evaluate(Anonyxp,Anonyyp)[1])"
      ],
      "execution_count": 141,
      "outputs": [
        {
          "output_type": "stream",
          "text": [
            "321/321 [==============================] - 1s 3ms/step - loss: 0.8944 - accuracy: 0.9148\n"
          ],
          "name": "stdout"
        }
      ]
    },
    {
      "cell_type": "code",
      "metadata": {
        "id": "7-9pFpjveNm3",
        "colab": {
          "base_uri": "https://localhost:8080/"
        },
        "outputId": "978cf697-3531-4e00-9df3-22cba68d20c6"
      },
      "source": [
        "np.argmax(AnonyModel.predict(Anonyxp),axis=1)"
      ],
      "execution_count": 142,
      "outputs": [
        {
          "output_type": "execute_result",
          "data": {
            "text/plain": [
              "array([0, 0, 0, ..., 0, 0, 0])"
            ]
          },
          "metadata": {
            "tags": []
          },
          "execution_count": 142
        }
      ]
    },
    {
      "cell_type": "code",
      "metadata": {
        "id": "eMobX07yEH22",
        "colab": {
          "base_uri": "https://localhost:8080/"
        },
        "outputId": "d9069361-7326-4e19-ccf6-cba14b513d32"
      },
      "source": [
        "AnonyClean=[]\r\n",
        "AnonyClean.append(AnonyModel.evaluate(X_test,Y_test)[1])"
      ],
      "execution_count": 143,
      "outputs": [
        {
          "output_type": "stream",
          "text": [
            "401/401 [==============================] - 1s 3ms/step - loss: 0.3028 - accuracy: 0.9719\n"
          ],
          "name": "stdout"
        }
      ]
    },
    {
      "cell_type": "code",
      "metadata": {
        "id": "4XYVK2hnESEt",
        "colab": {
          "base_uri": "https://localhost:8080/"
        },
        "outputId": "8949ed87-4804-401b-c7dc-3fb334644e8b"
      },
      "source": [
        "np.argmax(AnonyModel.predict(X_test),axis=1)"
      ],
      "execution_count": 144,
      "outputs": [
        {
          "output_type": "execute_result",
          "data": {
            "text/plain": [
              "array([950, 992, 823, ..., 770, 304, 872])"
            ]
          },
          "metadata": {
            "tags": []
          },
          "execution_count": 144
        }
      ]
    },
    {
      "cell_type": "markdown",
      "metadata": {
        "id": "6K6rQeMZEbiC"
      },
      "source": [
        "## Activations of the last hidden layer projected onto the TOP principle components."
      ]
    },
    {
      "cell_type": "code",
      "metadata": {
        "id": "WaA-p5uUEbiD",
        "colab": {
          "base_uri": "https://localhost:8080/"
        },
        "outputId": "d8b94fe7-a5e0-47f7-cbed-986ee66718eb"
      },
      "source": [
        "from keras.models import Model\r\n",
        "\r\n",
        "AnonyModel1= Model(inputs=AnonyModel.input, outputs=AnonyModel.layers[-6].output)\r\n",
        "AnonyModel1.summary()"
      ],
      "execution_count": 145,
      "outputs": [
        {
          "output_type": "stream",
          "text": [
            "Model: \"model_10\"\n",
            "_________________________________________________________________\n",
            "Layer (type)                 Output Shape              Param #   \n",
            "=================================================================\n",
            "input (InputLayer)           [(None, 55, 47, 3)]       0         \n",
            "_________________________________________________________________\n",
            "conv_1 (Conv2D)              (None, 52, 44, 20)        980       \n",
            "_________________________________________________________________\n",
            "pool_1 (MaxPooling2D)        (None, 26, 22, 20)        0         \n",
            "_________________________________________________________________\n",
            "conv_2 (Conv2D)              (None, 24, 20, 40)        7240      \n",
            "_________________________________________________________________\n",
            "pool_2 (MaxPooling2D)        (None, 12, 10, 40)        0         \n",
            "_________________________________________________________________\n",
            "conv_3 (Conv2D)              (None, 10, 8, 60)         21660     \n",
            "_________________________________________________________________\n",
            "pool_3 (MaxPooling2D)        (None, 5, 4, 60)          0         \n",
            "_________________________________________________________________\n",
            "conv_4 (Conv2D)              (None, 4, 3, 80)          19280     \n",
            "_________________________________________________________________\n",
            "flatten_2 (Flatten)          (None, 960)               0         \n",
            "=================================================================\n",
            "Total params: 49,160\n",
            "Trainable params: 49,160\n",
            "Non-trainable params: 0\n",
            "_________________________________________________________________\n"
          ],
          "name": "stdout"
        }
      ]
    },
    {
      "cell_type": "code",
      "metadata": {
        "id": "Qk4UxachEbiD",
        "colab": {
          "base_uri": "https://localhost:8080/",
          "height": 0
        },
        "outputId": "73644db9-2750-4953-c304-354298872250"
      },
      "source": [
        "Anonyclean_output1 = AnonyModel1.predict(X_train)\r\n",
        "Anonyp_output1 = AnonyModel1.predict(xp)\r\n",
        "\r\n",
        "from sklearn.decomposition import PCA,FastICA\r\n",
        "pca=PCA(n_components=3)\r\n",
        "ica = FastICA(n_components=3)\r\n",
        "AnonyS_ = ica.fit_transform(Anonyclean_output1)\r\n",
        "AnonyS1_ = ica.fit_transform(Anonyp_output1)\r\n",
        "\r\n",
        "Anonyclean_output1=pca.fit_transform(Anonyclean_output1)\r\n",
        "Anonyp_output1=pca.fit_transform(Anonyp_output1)\r\n",
        "\r\n",
        "import pandas as pd\r\n",
        "import matplotlib.pyplot as plt\r\n",
        "for j in range(1000):\r\n",
        "    y=AnonyS_[j][0]\r\n",
        "    # print(len(y[0]))\r\n",
        "    x =AnonyS_[j][1]\r\n",
        "    y1=AnonyS1_[j][0]\r\n",
        "    x1 = AnonyS1_[j][1]\r\n",
        "    plt.scatter(x,y,s=3,color = 'm')\r\n",
        "    plt.scatter(x1,y1,s=3,color = 'b')\r\n",
        "plt.show()"
      ],
      "execution_count": 146,
      "outputs": [
        {
          "output_type": "display_data",
          "data": {
            "image/png": "[encoded data removed]",
            "text/plain": [
              "<Figure size 432x288 with 1 Axes>"
            ]
          },
          "metadata": {
            "tags": [],
            "needs_background": "light"
          }
        }
      ]
    },
    {
      "cell_type": "markdown",
      "metadata": {
        "id": "1RcO6So8EbiE"
      },
      "source": [
        "The representations of\r\n",
        "poisoned inputs (in BLUE) have a similar distribution as those of\r\n",
        "clean inputs, thus both clusters formed by k-means clustering\r\n",
        "contain a significant number of poisoned samples."
      ]
    },
    {
      "cell_type": "markdown",
      "metadata": {
        "id": "lAAhdfuNFB56"
      },
      "source": [
        "## Fine Pruning"
      ]
    },
    {
      "cell_type": "markdown",
      "metadata": {
        "id": "fnxe4C9ZFB6K"
      },
      "source": [
        "### Pruning"
      ]
    },
    {
      "cell_type": "code",
      "metadata": {
        "id": "FYg6F62KFB6L",
        "colab": {
          "base_uri": "https://localhost:8080/"
        },
        "outputId": "8b1aa8c5-68d7-4422-ba47-2fb77a559a63"
      },
      "source": [
        "import tensorflow_model_optimization as tfmot\r\n",
        "\r\n",
        "prune_low_magnitude = tfmot.sparsity.keras.prune_low_magnitude\r\n",
        "\r\n",
        "# Compute end step to finish pruning after 2 epochs.\r\n",
        "batch_size = 128\r\n",
        "epochs = 1\r\n",
        "validation_split = 0.1 # 10% of training set will be used for validation set. \r\n",
        "\r\n",
        "num_images = X_train.shape[0] * (1 - validation_split)\r\n",
        "end_step = np.ceil(num_images / batch_size).astype(np.int32) * epochs\r\n",
        "\r\n",
        "# Define model for pruning.\r\n",
        "pruning_params = {\r\n",
        "      'pruning_schedule': tfmot.sparsity.keras.PolynomialDecay(initial_sparsity=0.50,\r\n",
        "                                                               final_sparsity=0.80,\r\n",
        "                                                               begin_step=0,\r\n",
        "                                                               end_step=end_step)\r\n",
        "}\r\n",
        "\r\n",
        "Anonymodel_for_pruning = prune_low_magnitude(AnonyModel, **pruning_params)\r\n",
        "\r\n",
        "# `prune_low_magnitude` requires a recompile.\r\n",
        "Anonymodel_for_pruning.compile(loss=tf.keras.losses.SparseCategoricalCrossentropy(),\r\n",
        "                  optimizer=Adam(), metrics=['accuracy'])\r\n",
        "\r\n",
        "\r\n",
        "#model_for_pruning.summary()\r\n",
        "logdir = tempfile.mkdtemp()\r\n",
        "\r\n",
        "callbacks = [\r\n",
        "  tfmot.sparsity.keras.UpdatePruningStep(),\r\n",
        "  tfmot.sparsity.keras.PruningSummaries(log_dir=logdir),\r\n",
        "]"
      ],
      "execution_count": 147,
      "outputs": [
        {
          "output_type": "stream",
          "text": [
            "/usr/local/lib/python3.6/dist-packages/tensorflow/python/keras/engine/base_layer.py:2281: UserWarning: `layer.add_variable` is deprecated and will be removed in a future version. Please use `layer.add_weight` method instead.\n",
            "  warnings.warn('`layer.add_variable` is deprecated and '\n"
          ],
          "name": "stderr"
        }
      ]
    },
    {
      "cell_type": "markdown",
      "metadata": {
        "id": "ThTNQlb6NhdF"
      },
      "source": [
        "### Pruning Evaluation"
      ]
    },
    {
      "cell_type": "code",
      "metadata": {
        "id": "a6wK-wUSea03",
        "colab": {
          "base_uri": "https://localhost:8080/"
        },
        "outputId": "7c54b89f-903c-4073-d431-5410c8cb94a4"
      },
      "source": [
        "AnonyPoison.append(Anonymodel_for_pruning.evaluate(Anonyxp,Anonyyp)[1])"
      ],
      "execution_count": 148,
      "outputs": [
        {
          "output_type": "stream",
          "text": [
            "321/321 [==============================] - 2s 4ms/step - loss: 0.8944 - accuracy: 0.9148\n"
          ],
          "name": "stdout"
        }
      ]
    },
    {
      "cell_type": "code",
      "metadata": {
        "id": "_QjJwsEZeeV7",
        "colab": {
          "base_uri": "https://localhost:8080/"
        },
        "outputId": "976167c6-2c8f-4d08-c838-e72f4ce0e785"
      },
      "source": [
        "np.argmax(Anonymodel_for_pruning.predict(Anonyxp),axis=1)"
      ],
      "execution_count": 149,
      "outputs": [
        {
          "output_type": "execute_result",
          "data": {
            "text/plain": [
              "array([0, 0, 0, ..., 0, 0, 0])"
            ]
          },
          "metadata": {
            "tags": []
          },
          "execution_count": 149
        }
      ]
    },
    {
      "cell_type": "markdown",
      "metadata": {
        "id": "pDYGDLNlNhdT"
      },
      "source": [
        "CLEAN TEST DATA"
      ]
    },
    {
      "cell_type": "code",
      "metadata": {
        "id": "LkkmFEyINhdU",
        "colab": {
          "base_uri": "https://localhost:8080/"
        },
        "outputId": "1bd5905a-eae1-4553-e3db-00db4fe630aa"
      },
      "source": [
        "AnonyClean.append(Anonymodel_for_pruning.evaluate(X_test,Y_test)[1])\r\n",
        "AnonyClean"
      ],
      "execution_count": 150,
      "outputs": [
        {
          "output_type": "stream",
          "text": [
            "401/401 [==============================] - 1s 3ms/step - loss: 0.3028 - accuracy: 0.9719\n"
          ],
          "name": "stdout"
        },
        {
          "output_type": "execute_result",
          "data": {
            "text/plain": [
              "[0.97186279296875, 0.97186279296875]"
            ]
          },
          "metadata": {
            "tags": []
          },
          "execution_count": 150
        }
      ]
    },
    {
      "cell_type": "code",
      "metadata": {
        "id": "7wOWuOqjNhdU",
        "colab": {
          "base_uri": "https://localhost:8080/"
        },
        "outputId": "6e53e09b-1f7d-48e2-adea-7181b0aae2f4"
      },
      "source": [
        "np.argmax(Anonymodel_for_pruning.predict(X_test),axis=1)"
      ],
      "execution_count": 151,
      "outputs": [
        {
          "output_type": "execute_result",
          "data": {
            "text/plain": [
              "array([950, 992, 823, ..., 770, 304, 872])"
            ]
          },
          "metadata": {
            "tags": []
          },
          "execution_count": 151
        }
      ]
    },
    {
      "cell_type": "markdown",
      "metadata": {
        "id": "hIDjDwtVFB6N"
      },
      "source": [
        "### Fine Tune"
      ]
    },
    {
      "cell_type": "code",
      "metadata": {
        "id": "lWvgEBsgFB6O",
        "colab": {
          "base_uri": "https://localhost:8080/"
        },
        "outputId": "abc1f567-cae4-47a5-fa8f-d0351806248e"
      },
      "source": [
        "Anonymodel_for_pruning.fit(X_train, Y_train,\r\n",
        "                   batch_size=batch_size, epochs=10, validation_split=validation_split,\r\n",
        "                  callbacks=callbacks)"
      ],
      "execution_count": 152,
      "outputs": [
        {
          "output_type": "stream",
          "text": [
            "Epoch 1/10\n",
            " 6/82 [=>............................] - ETA: 8s - loss: 0.4664 - accuracy: 0.9062 WARNING:tensorflow:Callback method `on_train_batch_end` is slow compared to the batch time (batch time: 0.0153s vs `on_train_batch_end` time: 0.0773s). Check your callbacks.\n",
            "82/82 [==============================] - 6s 30ms/step - loss: 0.3484 - accuracy: 0.9368 - val_loss: 0.2511 - val_accuracy: 0.9558\n",
            "Epoch 2/10\n",
            "82/82 [==============================] - 2s 24ms/step - loss: 0.0904 - accuracy: 0.9862 - val_loss: 0.2362 - val_accuracy: 0.9567\n",
            "Epoch 3/10\n",
            "82/82 [==============================] - 2s 24ms/step - loss: 0.0374 - accuracy: 0.9951 - val_loss: 0.2082 - val_accuracy: 0.9619\n",
            "Epoch 4/10\n",
            "82/82 [==============================] - 2s 24ms/step - loss: 0.0165 - accuracy: 0.9973 - val_loss: 0.2193 - val_accuracy: 0.9610\n",
            "Epoch 5/10\n",
            "82/82 [==============================] - 2s 24ms/step - loss: 0.0074 - accuracy: 0.9986 - val_loss: 0.2279 - val_accuracy: 0.9645\n",
            "Epoch 6/10\n",
            "82/82 [==============================] - 2s 24ms/step - loss: 0.0060 - accuracy: 0.9984 - val_loss: 0.2119 - val_accuracy: 0.9610\n",
            "Epoch 7/10\n",
            "82/82 [==============================] - 2s 24ms/step - loss: 0.0033 - accuracy: 0.9989 - val_loss: 0.2195 - val_accuracy: 0.9680\n",
            "Epoch 8/10\n",
            "82/82 [==============================] - 2s 24ms/step - loss: 0.0029 - accuracy: 0.9989 - val_loss: 0.2204 - val_accuracy: 0.9654\n",
            "Epoch 9/10\n",
            "82/82 [==============================] - 2s 24ms/step - loss: 0.0030 - accuracy: 0.9992 - val_loss: 0.2136 - val_accuracy: 0.9680\n",
            "Epoch 10/10\n",
            "82/82 [==============================] - 2s 24ms/step - loss: 0.0018 - accuracy: 0.9994 - val_loss: 0.2157 - val_accuracy: 0.9688\n"
          ],
          "name": "stdout"
        },
        {
          "output_type": "execute_result",
          "data": {
            "text/plain": [
              "<tensorflow.python.keras.callbacks.History at 0x7fa2ddc94550>"
            ]
          },
          "metadata": {
            "tags": []
          },
          "execution_count": 152
        }
      ]
    },
    {
      "cell_type": "markdown",
      "metadata": {
        "id": "WgKLT1xDFkc6"
      },
      "source": [
        "## Fine Pruning Evaluation"
      ]
    },
    {
      "cell_type": "markdown",
      "metadata": {
        "id": "zfEDiKYyFkc7"
      },
      "source": [
        "Poison Data"
      ]
    },
    {
      "cell_type": "code",
      "metadata": {
        "id": "1kTKNK8nenKu",
        "colab": {
          "base_uri": "https://localhost:8080/"
        },
        "outputId": "ca06db9f-90ab-41bc-8e86-0df92cc7314c"
      },
      "source": [
        "AnonyPoison.append(Anonymodel_for_pruning.evaluate(Anonyxp,Anonyyp)[1])"
      ],
      "execution_count": 153,
      "outputs": [
        {
          "output_type": "stream",
          "text": [
            "321/321 [==============================] - 1s 3ms/step - loss: 1.8022 - accuracy: 0.8582\n"
          ],
          "name": "stdout"
        }
      ]
    },
    {
      "cell_type": "code",
      "metadata": {
        "id": "lOze6eJuenWa",
        "colab": {
          "base_uri": "https://localhost:8080/"
        },
        "outputId": "0ec0aadf-21a5-4f80-c3cd-244179bace3f"
      },
      "source": [
        "np.argmax(Anonymodel_for_pruning.predict(Anonyxp),axis=1)"
      ],
      "execution_count": 154,
      "outputs": [
        {
          "output_type": "execute_result",
          "data": {
            "text/plain": [
              "array([  0,   0, 189, ...,   0,   0,   0])"
            ]
          },
          "metadata": {
            "tags": []
          },
          "execution_count": 154
        }
      ]
    },
    {
      "cell_type": "markdown",
      "metadata": {
        "id": "oeOeb8puFkc9"
      },
      "source": [
        "Clean Test Data"
      ]
    },
    {
      "cell_type": "code",
      "metadata": {
        "id": "-MyNPtdRFkc9",
        "colab": {
          "base_uri": "https://localhost:8080/"
        },
        "outputId": "0368bff7-029c-4234-8fa1-bf7a3f5ff860"
      },
      "source": [
        "np.argmax(Anonymodel_for_pruning.predict(X_test),axis=1)"
      ],
      "execution_count": 155,
      "outputs": [
        {
          "output_type": "execute_result",
          "data": {
            "text/plain": [
              "array([950, 992, 823, ..., 770, 304, 872])"
            ]
          },
          "metadata": {
            "tags": []
          },
          "execution_count": 155
        }
      ]
    },
    {
      "cell_type": "code",
      "metadata": {
        "id": "ME9khZYQFkc-",
        "colab": {
          "base_uri": "https://localhost:8080/"
        },
        "outputId": "05901d01-7f2f-45b2-da7a-bdfc549629ec"
      },
      "source": [
        "AnonyClean.append(Anonymodel_for_pruning.evaluate(X_test,Y_test)[1])"
      ],
      "execution_count": 156,
      "outputs": [
        {
          "output_type": "stream",
          "text": [
            "401/401 [==============================] - 1s 3ms/step - loss: 0.2200 - accuracy: 0.9670\n"
          ],
          "name": "stdout"
        }
      ]
    },
    {
      "cell_type": "markdown",
      "metadata": {
        "id": "L-f8EqWLF6Ot"
      },
      "source": [
        "## Reconstruct model by adding layer"
      ]
    },
    {
      "cell_type": "markdown",
      "metadata": {
        "id": "FJ3TbTDHF6O7"
      },
      "source": [
        "N+1 Classes"
      ]
    },
    {
      "cell_type": "code",
      "metadata": {
        "id": "wXefhnp1F6O7",
        "colab": {
          "base_uri": "https://localhost:8080/"
        },
        "outputId": "e4126563-690d-4dd0-eacb-e08e890d11be"
      },
      "source": [
        "from keras import Sequential\r\n",
        "from keras.layers import  Dense\r\n",
        "from keras.models import Model\r\n",
        "\r\n",
        "Anonymodel2= Model(inputs=Anonymodel_for_pruning.input, outputs=Anonymodel_for_pruning.layers[-2].output)\r\n",
        "# model2.summary()\r\n",
        "Anonymodel3 = Sequential()\r\n",
        "Anonymodel3.add(Anonymodel2)\r\n",
        "Anonymodel3.add(Dense(1284, activation='softmax'))\r\n",
        "Anonymodel3.compile(loss=tf.keras.losses.SparseCategoricalCrossentropy(),\r\n",
        "                  optimizer=Adam(), metrics=['accuracy'])\r\n",
        "Anonymodel3.summary()"
      ],
      "execution_count": 157,
      "outputs": [
        {
          "output_type": "stream",
          "text": [
            "Model: \"sequential_5\"\n",
            "_________________________________________________________________\n",
            "Layer (type)                 Output Shape              Param #   \n",
            "=================================================================\n",
            "model_11 (Functional)        (None, 160)               789659    \n",
            "_________________________________________________________________\n",
            "dense_5 (Dense)              (None, 1284)              206724    \n",
            "=================================================================\n",
            "Total params: 996,383\n",
            "Trainable params: 601,804\n",
            "Non-trainable params: 394,579\n",
            "_________________________________________________________________\n"
          ],
          "name": "stdout"
        }
      ]
    },
    {
      "cell_type": "markdown",
      "metadata": {
        "id": "DrHg8ylOF6O9"
      },
      "source": [
        "Train by clean_validation data"
      ]
    },
    {
      "cell_type": "code",
      "metadata": {
        "id": "HI_UUZRoF6O9",
        "colab": {
          "base_uri": "https://localhost:8080/"
        },
        "outputId": "44993593-9125-474b-929f-fdf7618e0752"
      },
      "source": [
        "# yp1=yp\r\n",
        "# Combined_X=np.append(x,xp[1:100],axis=0)\r\n",
        "# yp1[0:yp.size]=1283\r\n",
        "# Combined_Y=np.append(y,yp1[1:100])\r\n",
        "# Combined_Y.size\r\n",
        "# indices=np.arange(Combined_X.shape[0])\r\n",
        "# np.random.shuffle(indices)\r\n",
        "# Combined_X=Combined_X[indices]\r\n",
        "# Combined_Y=Combined_Y[indices]\r\n",
        "# model3.compile(loss=tf.keras.losses.SparseCategoricalCrossentropy(),\r\n",
        "#                   optimizer=Adam(), metrics=['accuracy'])\r\n",
        "# X_ptrain, X_ptest, Y_ptrain, Y_ptest = train_test_split(\r\n",
        "#         Combined_X, Combined_Y, test_size=0.2, random_state=2)\r\n",
        "# model3.fit(\r\n",
        "#   X_train,\r\n",
        "#   Y_train,\r\n",
        "#   epochs=10,\r\n",
        "#   validation_split=0.2,\r\n",
        "#   batch_size = 20\r\n",
        "# )\r\n",
        "\r\n",
        "Anonymodel3.fit(X_train, Y_train,\r\n",
        "                 batch_size=batch_size, epochs=10, validation_split=validation_split,\r\n",
        "                 callbacks=callbacks)\r\n"
      ],
      "execution_count": 158,
      "outputs": [
        {
          "output_type": "stream",
          "text": [
            "Epoch 1/10\n",
            " 5/82 [>.............................] - ETA: 7s - loss: 18.6421 - accuracy: 0.0036 WARNING:tensorflow:Callback method `on_train_batch_end` is slow compared to the batch time (batch time: 0.0162s vs `on_train_batch_end` time: 0.0547s). Check your callbacks.\n",
            "82/82 [==============================] - 5s 34ms/step - loss: 9.9205 - accuracy: 0.0033 - val_loss: 6.7634 - val_accuracy: 0.0147\n",
            "Epoch 2/10\n",
            "82/82 [==============================] - 2s 23ms/step - loss: 6.1763 - accuracy: 0.0478 - val_loss: 4.5943 - val_accuracy: 0.2589\n",
            "Epoch 3/10\n",
            "82/82 [==============================] - 2s 23ms/step - loss: 2.9136 - accuracy: 0.4676 - val_loss: 2.7254 - val_accuracy: 0.5714\n",
            "Epoch 4/10\n",
            "82/82 [==============================] - 2s 22ms/step - loss: 1.0920 - accuracy: 0.7828 - val_loss: 2.1275 - val_accuracy: 0.6987\n",
            "Epoch 5/10\n",
            "82/82 [==============================] - 2s 22ms/step - loss: 0.4668 - accuracy: 0.9062 - val_loss: 1.9550 - val_accuracy: 0.7446\n",
            "Epoch 6/10\n",
            "82/82 [==============================] - 2s 22ms/step - loss: 0.1846 - accuracy: 0.9621 - val_loss: 1.9929 - val_accuracy: 0.7662\n",
            "Epoch 7/10\n",
            "82/82 [==============================] - 2s 23ms/step - loss: 0.0730 - accuracy: 0.9867 - val_loss: 2.0614 - val_accuracy: 0.7844\n",
            "Epoch 8/10\n",
            "82/82 [==============================] - 2s 23ms/step - loss: 0.0228 - accuracy: 0.9961 - val_loss: 2.1424 - val_accuracy: 0.7939\n",
            "Epoch 9/10\n",
            "82/82 [==============================] - 2s 23ms/step - loss: 0.0089 - accuracy: 0.9988 - val_loss: 2.2015 - val_accuracy: 0.7983\n",
            "Epoch 10/10\n",
            "82/82 [==============================] - 2s 23ms/step - loss: 0.0089 - accuracy: 0.9991 - val_loss: 2.2564 - val_accuracy: 0.7931\n"
          ],
          "name": "stdout"
        },
        {
          "output_type": "execute_result",
          "data": {
            "text/plain": [
              "<tensorflow.python.keras.callbacks.History at 0x7fa36a78f780>"
            ]
          },
          "metadata": {
            "tags": []
          },
          "execution_count": 158
        }
      ]
    },
    {
      "cell_type": "markdown",
      "metadata": {
        "id": "HTk_qxfwGtou"
      },
      "source": [
        "## New Model Evaluation "
      ]
    },
    {
      "cell_type": "markdown",
      "metadata": {
        "id": "Nlasnt3sGto8"
      },
      "source": [
        "Clean Test Data"
      ]
    },
    {
      "cell_type": "code",
      "metadata": {
        "id": "NmWF-qcIGto8",
        "colab": {
          "base_uri": "https://localhost:8080/"
        },
        "outputId": "12883db1-164b-4ee1-b1a7-d6886c5f9cbe"
      },
      "source": [
        "np.argmax(Anonymodel3.predict(X_test),axis=1)"
      ],
      "execution_count": 159,
      "outputs": [
        {
          "output_type": "execute_result",
          "data": {
            "text/plain": [
              "array([950, 992, 977, ..., 770, 304, 872])"
            ]
          },
          "metadata": {
            "tags": []
          },
          "execution_count": 159
        }
      ]
    },
    {
      "cell_type": "code",
      "metadata": {
        "id": "b14Jm6p_Gto9",
        "colab": {
          "base_uri": "https://localhost:8080/"
        },
        "outputId": "c6f79c03-4006-4ffc-da32-91888888fde5"
      },
      "source": [
        "AnonyClean.append(Anonymodel3.evaluate(X_test,Y_test)[1])"
      ],
      "execution_count": 160,
      "outputs": [
        {
          "output_type": "stream",
          "text": [
            "401/401 [==============================] - 1s 3ms/step - loss: 2.2077 - accuracy: 0.8097\n"
          ],
          "name": "stdout"
        }
      ]
    },
    {
      "cell_type": "markdown",
      "metadata": {
        "id": "cEwtdkIrGto-"
      },
      "source": [
        "Poison data"
      ]
    },
    {
      "cell_type": "code",
      "metadata": {
        "id": "3cnl727plT1l",
        "colab": {
          "base_uri": "https://localhost:8080/"
        },
        "outputId": "1f6b30ff-82cd-4d74-8a67-359ce1e8c0a6"
      },
      "source": [
        "AnonyPoison.append(Anonymodel3.evaluate(Anonyxp,Anonyyp)[1])"
      ],
      "execution_count": 161,
      "outputs": [
        {
          "output_type": "stream",
          "text": [
            "321/321 [==============================] - 1s 3ms/step - loss: 29.5058 - accuracy: 0.0094\n"
          ],
          "name": "stdout"
        }
      ]
    },
    {
      "cell_type": "markdown",
      "metadata": {
        "id": "rtMTSvaaQwJS"
      },
      "source": [
        "# BadNet2: Anonymous2_BD_Net"
      ]
    },
    {
      "cell_type": "code",
      "metadata": {
        "id": "Zo6qiV6FQwJX"
      },
      "source": [
        "AnonyModel2 = keras.models.load_model(\"/content/drive/MLsecurity_project/models/anonymous_2_bd_net.h5\")\r\n",
        "AnonyModel2.compile(loss=tf.keras.losses.SparseCategoricalCrossentropy(),\r\n",
        "                  optimizer=Adam(), metrics=['accuracy'])"
      ],
      "execution_count": 162,
      "outputs": []
    },
    {
      "cell_type": "code",
      "metadata": {
        "id": "6zLMpKHHQwJY",
        "colab": {
          "base_uri": "https://localhost:8080/"
        },
        "outputId": "e63f9498-6db6-4adf-b800-559873ea94bf"
      },
      "source": [
        "AnonyModel2.summary()"
      ],
      "execution_count": 163,
      "outputs": [
        {
          "output_type": "stream",
          "text": [
            "Model: \"model_1\"\n",
            "__________________________________________________________________________________________________\n",
            "Layer (type)                    Output Shape         Param #     Connected to                     \n",
            "==================================================================================================\n",
            "input (InputLayer)              [(None, 55, 47, 3)]  0                                            \n",
            "__________________________________________________________________________________________________\n",
            "conv_1 (Conv2D)                 (None, 52, 44, 20)   980         input[0][0]                      \n",
            "__________________________________________________________________________________________________\n",
            "pool_1 (MaxPooling2D)           (None, 26, 22, 20)   0           conv_1[0][0]                     \n",
            "__________________________________________________________________________________________________\n",
            "conv_2 (Conv2D)                 (None, 24, 20, 40)   7240        pool_1[0][0]                     \n",
            "__________________________________________________________________________________________________\n",
            "pool_2 (MaxPooling2D)           (None, 12, 10, 40)   0           conv_2[0][0]                     \n",
            "__________________________________________________________________________________________________\n",
            "conv_3 (Conv2D)                 (None, 10, 8, 60)    21660       pool_2[0][0]                     \n",
            "__________________________________________________________________________________________________\n",
            "pool_3 (MaxPooling2D)           (None, 5, 4, 60)     0           conv_3[0][0]                     \n",
            "__________________________________________________________________________________________________\n",
            "conv_4 (Conv2D)                 (None, 4, 3, 80)     19280       pool_3[0][0]                     \n",
            "__________________________________________________________________________________________________\n",
            "flatten_1 (Flatten)             (None, 1200)         0           pool_3[0][0]                     \n",
            "__________________________________________________________________________________________________\n",
            "flatten_2 (Flatten)             (None, 960)          0           conv_4[0][0]                     \n",
            "__________________________________________________________________________________________________\n",
            "fc_1 (Dense)                    (None, 160)          192160      flatten_1[0][0]                  \n",
            "__________________________________________________________________________________________________\n",
            "fc_2 (Dense)                    (None, 160)          153760      flatten_2[0][0]                  \n",
            "__________________________________________________________________________________________________\n",
            "add_1 (Add)                     (None, 160)          0           fc_1[0][0]                       \n",
            "                                                                 fc_2[0][0]                       \n",
            "__________________________________________________________________________________________________\n",
            "activation_1 (Activation)       (None, 160)          0           add_1[0][0]                      \n",
            "__________________________________________________________________________________________________\n",
            "output (Dense)                  (None, 1283)         206563      activation_1[0][0]               \n",
            "==================================================================================================\n",
            "Total params: 601,643\n",
            "Trainable params: 601,643\n",
            "Non-trainable params: 0\n",
            "__________________________________________________________________________________________________\n"
          ],
          "name": "stdout"
        }
      ]
    },
    {
      "cell_type": "markdown",
      "metadata": {
        "id": "eI6II2T6QwJZ"
      },
      "source": [
        "## BadNet2 Evaluation"
      ]
    },
    {
      "cell_type": "code",
      "metadata": {
        "id": "iVC7ahAUQwJa",
        "colab": {
          "base_uri": "https://localhost:8080/"
        },
        "outputId": "45b80c8d-39b5-44e1-a463-a6155a2a1621"
      },
      "source": [
        "AnonyClean2=[]\r\n",
        "AnonyClean2.append(AnonyModel2.evaluate(X_test,Y_test)[1])"
      ],
      "execution_count": 164,
      "outputs": [
        {
          "output_type": "stream",
          "text": [
            "401/401 [==============================] - 2s 3ms/step - loss: 0.2915 - accuracy: 0.9575\n"
          ],
          "name": "stdout"
        }
      ]
    },
    {
      "cell_type": "code",
      "metadata": {
        "id": "lQ9M5VUjQwJa",
        "colab": {
          "base_uri": "https://localhost:8080/"
        },
        "outputId": "e8262513-4b63-46c2-dfbb-fbb24524702e"
      },
      "source": [
        "np.argmax(AnonyModel2.predict(X_test),axis=1)"
      ],
      "execution_count": 165,
      "outputs": [
        {
          "output_type": "execute_result",
          "data": {
            "text/plain": [
              "array([950, 992, 823, ..., 770, 304,   4])"
            ]
          },
          "metadata": {
            "tags": []
          },
          "execution_count": 165
        }
      ]
    },
    {
      "cell_type": "markdown",
      "metadata": {
        "id": "yy6xX-vUQwJb"
      },
      "source": [
        "## Activations of the last hidden layer projected onto the TOP principle components."
      ]
    },
    {
      "cell_type": "code",
      "metadata": {
        "id": "S5AD1y-SQwJb",
        "colab": {
          "base_uri": "https://localhost:8080/"
        },
        "outputId": "c2f70d33-50b8-412c-f48c-728930633618"
      },
      "source": [
        "from keras.models import Model\r\n",
        "\r\n",
        "AnonyModel1_2= Model(inputs=AnonyModel2.input, outputs=AnonyModel2.layers[-6].output)\r\n",
        "AnonyModel1_2.summary()"
      ],
      "execution_count": 166,
      "outputs": [
        {
          "output_type": "stream",
          "text": [
            "Model: \"model_12\"\n",
            "_________________________________________________________________\n",
            "Layer (type)                 Output Shape              Param #   \n",
            "=================================================================\n",
            "input (InputLayer)           [(None, 55, 47, 3)]       0         \n",
            "_________________________________________________________________\n",
            "conv_1 (Conv2D)              (None, 52, 44, 20)        980       \n",
            "_________________________________________________________________\n",
            "pool_1 (MaxPooling2D)        (None, 26, 22, 20)        0         \n",
            "_________________________________________________________________\n",
            "conv_2 (Conv2D)              (None, 24, 20, 40)        7240      \n",
            "_________________________________________________________________\n",
            "pool_2 (MaxPooling2D)        (None, 12, 10, 40)        0         \n",
            "_________________________________________________________________\n",
            "conv_3 (Conv2D)              (None, 10, 8, 60)         21660     \n",
            "_________________________________________________________________\n",
            "pool_3 (MaxPooling2D)        (None, 5, 4, 60)          0         \n",
            "_________________________________________________________________\n",
            "conv_4 (Conv2D)              (None, 4, 3, 80)          19280     \n",
            "_________________________________________________________________\n",
            "flatten_2 (Flatten)          (None, 960)               0         \n",
            "=================================================================\n",
            "Total params: 49,160\n",
            "Trainable params: 49,160\n",
            "Non-trainable params: 0\n",
            "_________________________________________________________________\n"
          ],
          "name": "stdout"
        }
      ]
    },
    {
      "cell_type": "code",
      "metadata": {
        "id": "XW7EjrJuQwJb",
        "colab": {
          "base_uri": "https://localhost:8080/",
          "height": 0
        },
        "outputId": "96fa6583-2ba1-4a50-8393-436594e5e680"
      },
      "source": [
        "Anonyclean_output1_2 = AnonyModel1_2.predict(X_train)\r\n",
        "Anonyp_output1_2 = AnonyModel1_2.predict(xp)\r\n",
        "\r\n",
        "from sklearn.decomposition import PCA,FastICA\r\n",
        "pca=PCA(n_components=3)\r\n",
        "ica = FastICA(n_components=3)\r\n",
        "AnonyS_2 = ica.fit_transform(Anonyclean_output1_2)\r\n",
        "AnonyS1_2 = ica.fit_transform(Anonyp_output1_2)\r\n",
        "\r\n",
        "Anonyclean_output1_2=pca.fit_transform(Anonyclean_output1_2)\r\n",
        "Anonyp_output1_2=pca.fit_transform(Anonyp_output1_2)\r\n",
        "\r\n",
        "import pandas as pd\r\n",
        "import matplotlib.pyplot as plt\r\n",
        "for j in range(1000):\r\n",
        "    y=AnonyS_2[j][0]\r\n",
        "    # print(len(y[0]))\r\n",
        "    x =AnonyS1_2[j][1]\r\n",
        "    y1=AnonyS1_2[j][0]\r\n",
        "    x1 = AnonyS1_2[j][1]\r\n",
        "    plt.scatter(x,y,s=3,color = 'm')\r\n",
        "    plt.scatter(x1,y1,s=3,color = 'b')\r\n",
        "plt.show()"
      ],
      "execution_count": 167,
      "outputs": [
        {
          "output_type": "display_data",
          "data": {
            "image/png": "[encoded data removed]",
            "text/plain": [
              "<Figure size 432x288 with 1 Axes>"
            ]
          },
          "metadata": {
            "tags": [],
            "needs_background": "light"
          }
        }
      ]
    },
    {
      "cell_type": "markdown",
      "metadata": {
        "id": "WAEEY0fIQwJc"
      },
      "source": [
        "The representations of\r\n",
        "poisoned inputs (in BLUE) have a similar distribution as those of\r\n",
        "clean inputs, thus both clusters formed by k-means clustering\r\n",
        "contain a significant number of poisoned samples."
      ]
    },
    {
      "cell_type": "markdown",
      "metadata": {
        "id": "QFTkNY9BQwJc"
      },
      "source": [
        "## Fine Pruning"
      ]
    },
    {
      "cell_type": "markdown",
      "metadata": {
        "id": "TR9w-qHDQwJc"
      },
      "source": [
        "### Pruning"
      ]
    },
    {
      "cell_type": "code",
      "metadata": {
        "id": "YtZLFklUQwJd",
        "colab": {
          "base_uri": "https://localhost:8080/"
        },
        "outputId": "7120de46-dc97-408f-8542-b824f5095cd1"
      },
      "source": [
        "import tensorflow_model_optimization as tfmot\r\n",
        "\r\n",
        "prune_low_magnitude = tfmot.sparsity.keras.prune_low_magnitude\r\n",
        "\r\n",
        "# Compute end step to finish pruning after 2 epochs.\r\n",
        "batch_size = 128\r\n",
        "epochs = 1\r\n",
        "validation_split = 0.1 # 10% of training set will be used for validation set. \r\n",
        "\r\n",
        "num_images = X_train.shape[0] * (1 - validation_split)\r\n",
        "end_step = np.ceil(num_images / batch_size).astype(np.int32) * epochs\r\n",
        "\r\n",
        "# Define model for pruning.\r\n",
        "pruning_params = {\r\n",
        "      'pruning_schedule': tfmot.sparsity.keras.PolynomialDecay(initial_sparsity=0.50,\r\n",
        "                                                               final_sparsity=0.80,\r\n",
        "                                                               begin_step=0,\r\n",
        "                                                               end_step=end_step)\r\n",
        "}\r\n",
        "\r\n",
        "Anonymodel_for_pruning2 = prune_low_magnitude(AnonyModel2, **pruning_params)\r\n",
        "\r\n",
        "# `prune_low_magnitude` requires a recompile.\r\n",
        "Anonymodel_for_pruning2.compile(loss=tf.keras.losses.SparseCategoricalCrossentropy(),\r\n",
        "                  optimizer=Adam(), metrics=['accuracy'])\r\n",
        "\r\n",
        "\r\n",
        "#model_for_pruning.summary()\r\n",
        "logdir = tempfile.mkdtemp()\r\n",
        "\r\n",
        "callbacks = [\r\n",
        "  tfmot.sparsity.keras.UpdatePruningStep(),\r\n",
        "  tfmot.sparsity.keras.PruningSummaries(log_dir=logdir),\r\n",
        "]"
      ],
      "execution_count": 168,
      "outputs": [
        {
          "output_type": "stream",
          "text": [
            "/usr/local/lib/python3.6/dist-packages/tensorflow/python/keras/engine/base_layer.py:2281: UserWarning: `layer.add_variable` is deprecated and will be removed in a future version. Please use `layer.add_weight` method instead.\n",
            "  warnings.warn('`layer.add_variable` is deprecated and '\n"
          ],
          "name": "stderr"
        }
      ]
    },
    {
      "cell_type": "markdown",
      "metadata": {
        "id": "FNmD8pwcQwJd"
      },
      "source": [
        "### Pruning Evaluation"
      ]
    },
    {
      "cell_type": "markdown",
      "metadata": {
        "id": "KIEha2Z2QwJe"
      },
      "source": [
        "CLEAN TEST DATA"
      ]
    },
    {
      "cell_type": "code",
      "metadata": {
        "id": "Du6rI5vEQwJe",
        "colab": {
          "base_uri": "https://localhost:8080/"
        },
        "outputId": "b430e795-fb6d-4b58-8b0e-373e8d25ed59"
      },
      "source": [
        "AnonyClean2.append(Anonymodel_for_pruning2.evaluate(X_test,Y_test)[1])\r\n",
        "AnonyClean2"
      ],
      "execution_count": 169,
      "outputs": [
        {
          "output_type": "stream",
          "text": [
            "401/401 [==============================] - 2s 3ms/step - loss: 0.2915 - accuracy: 0.9575\n"
          ],
          "name": "stdout"
        },
        {
          "output_type": "execute_result",
          "data": {
            "text/plain": [
              "[0.9596258997917175, 0.9596258997917175]"
            ]
          },
          "metadata": {
            "tags": []
          },
          "execution_count": 169
        }
      ]
    },
    {
      "cell_type": "code",
      "metadata": {
        "id": "-0tLhxzIQwJe",
        "colab": {
          "base_uri": "https://localhost:8080/"
        },
        "outputId": "dd828120-3d47-4b04-de09-d9ac6929ccda"
      },
      "source": [
        "np.argmax(Anonymodel_for_pruning2.predict(X_test),axis=1)"
      ],
      "execution_count": 170,
      "outputs": [
        {
          "output_type": "execute_result",
          "data": {
            "text/plain": [
              "array([950, 992, 823, ..., 770, 304,   4])"
            ]
          },
          "metadata": {
            "tags": []
          },
          "execution_count": 170
        }
      ]
    },
    {
      "cell_type": "markdown",
      "metadata": {
        "id": "xvM4FP3TQwJf"
      },
      "source": [
        "### Fine Tune"
      ]
    },
    {
      "cell_type": "code",
      "metadata": {
        "id": "Ba5DShBeQwJf",
        "colab": {
          "base_uri": "https://localhost:8080/"
        },
        "outputId": "bed73734-1791-4447-b471-27d968b87e9b"
      },
      "source": [
        "Anonymodel_for_pruning2.fit(X_train, Y_train,\r\n",
        "                   batch_size=batch_size, epochs=10, validation_split=validation_split,\r\n",
        "                  callbacks=callbacks)"
      ],
      "execution_count": 171,
      "outputs": [
        {
          "output_type": "stream",
          "text": [
            "Epoch 1/10\n",
            " 6/82 [=>............................] - ETA: 7s - loss: 0.4680 - accuracy: 0.9023 WARNING:tensorflow:Callback method `on_train_batch_end` is slow compared to the batch time (batch time: 0.0151s vs `on_train_batch_end` time: 0.0717s). Check your callbacks.\n",
            "82/82 [==============================] - 5s 30ms/step - loss: 0.3105 - accuracy: 0.9304 - val_loss: 0.2241 - val_accuracy: 0.9506\n",
            "Epoch 2/10\n",
            "82/82 [==============================] - 2s 24ms/step - loss: 0.0521 - accuracy: 0.9877 - val_loss: 0.1998 - val_accuracy: 0.9558\n",
            "Epoch 3/10\n",
            "82/82 [==============================] - 2s 24ms/step - loss: 0.0169 - accuracy: 0.9962 - val_loss: 0.2047 - val_accuracy: 0.9584\n",
            "Epoch 4/10\n",
            "82/82 [==============================] - 2s 29ms/step - loss: 0.0050 - accuracy: 0.9991 - val_loss: 0.1932 - val_accuracy: 0.9645\n",
            "Epoch 5/10\n",
            "82/82 [==============================] - 2s 24ms/step - loss: 0.0030 - accuracy: 0.9993 - val_loss: 0.1909 - val_accuracy: 0.9628\n",
            "Epoch 6/10\n",
            "82/82 [==============================] - 2s 24ms/step - loss: 0.0042 - accuracy: 0.9990 - val_loss: 0.1920 - val_accuracy: 0.9619\n",
            "Epoch 7/10\n",
            "82/82 [==============================] - 2s 24ms/step - loss: 0.0025 - accuracy: 0.9991 - val_loss: 0.1923 - val_accuracy: 0.9628\n",
            "Epoch 8/10\n",
            "82/82 [==============================] - 2s 24ms/step - loss: 0.0030 - accuracy: 0.9990 - val_loss: 0.1859 - val_accuracy: 0.9610\n",
            "Epoch 9/10\n",
            "82/82 [==============================] - 2s 24ms/step - loss: 0.0029 - accuracy: 0.9993 - val_loss: 0.1841 - val_accuracy: 0.9628\n",
            "Epoch 10/10\n",
            "82/82 [==============================] - 2s 24ms/step - loss: 0.0016 - accuracy: 0.9994 - val_loss: 0.1812 - val_accuracy: 0.9645\n"
          ],
          "name": "stdout"
        },
        {
          "output_type": "execute_result",
          "data": {
            "text/plain": [
              "<tensorflow.python.keras.callbacks.History at 0x7fa31e4a21d0>"
            ]
          },
          "metadata": {
            "tags": []
          },
          "execution_count": 171
        }
      ]
    },
    {
      "cell_type": "markdown",
      "metadata": {
        "id": "CXd2tnXGQwJf"
      },
      "source": [
        "## Fine Pruning Evaluation"
      ]
    },
    {
      "cell_type": "markdown",
      "metadata": {
        "id": "z00bw2zLQwJg"
      },
      "source": [
        "Clean Test Data"
      ]
    },
    {
      "cell_type": "code",
      "metadata": {
        "id": "Qg4iR33ZQwJg",
        "colab": {
          "base_uri": "https://localhost:8080/"
        },
        "outputId": "a0097516-94e4-43bd-ef30-e0a717734d13"
      },
      "source": [
        "np.argmax(Anonymodel_for_pruning2.predict(X_test),axis=1)"
      ],
      "execution_count": 172,
      "outputs": [
        {
          "output_type": "execute_result",
          "data": {
            "text/plain": [
              "array([950, 992, 823, ..., 770, 304, 480])"
            ]
          },
          "metadata": {
            "tags": []
          },
          "execution_count": 172
        }
      ]
    },
    {
      "cell_type": "code",
      "metadata": {
        "id": "wqoBxWKfQwJg",
        "colab": {
          "base_uri": "https://localhost:8080/"
        },
        "outputId": "e9ce0231-5853-4b5a-cbef-f5f6a155e73c"
      },
      "source": [
        "AnonyClean2.append(Anonymodel_for_pruning2.evaluate(X_test,Y_test)[1])"
      ],
      "execution_count": 173,
      "outputs": [
        {
          "output_type": "stream",
          "text": [
            "401/401 [==============================] - 1s 3ms/step - loss: 0.1779 - accuracy: 0.9686\n"
          ],
          "name": "stdout"
        }
      ]
    },
    {
      "cell_type": "markdown",
      "metadata": {
        "id": "9DVGW22qQwJh"
      },
      "source": [
        "## Reconstruct model by adding layer"
      ]
    },
    {
      "cell_type": "markdown",
      "metadata": {
        "id": "OdUiZsK2QwJh"
      },
      "source": [
        "N+1 Classes"
      ]
    },
    {
      "cell_type": "code",
      "metadata": {
        "id": "2YhndPl-QwJh",
        "colab": {
          "base_uri": "https://localhost:8080/"
        },
        "outputId": "ad681f06-cb24-4f7d-9757-237ae462d71f"
      },
      "source": [
        "from keras import Sequential\r\n",
        "from keras.layers import  Dense\r\n",
        "from keras.models import Model\r\n",
        "\r\n",
        "Anonymodel2_2= Model(inputs=Anonymodel_for_pruning2.input, outputs=Anonymodel_for_pruning2.layers[-2].output)\r\n",
        "# model2.summary()\r\n",
        "Anonymodel3_2 = Sequential()\r\n",
        "Anonymodel3_2.add(Anonymodel2)\r\n",
        "Anonymodel3_2.add(Dense(1284, activation='softmax'))\r\n",
        "Anonymodel3_2.compile(loss=tf.keras.losses.SparseCategoricalCrossentropy(),\r\n",
        "                  optimizer=Adam(), metrics=['accuracy'])\r\n",
        "Anonymodel3_2.summary()"
      ],
      "execution_count": 174,
      "outputs": [
        {
          "output_type": "stream",
          "text": [
            "Model: \"sequential_6\"\n",
            "_________________________________________________________________\n",
            "Layer (type)                 Output Shape              Param #   \n",
            "=================================================================\n",
            "model_11 (Functional)        (None, 160)               789659    \n",
            "_________________________________________________________________\n",
            "dense_6 (Dense)              (None, 1284)              206724    \n",
            "=================================================================\n",
            "Total params: 996,383\n",
            "Trainable params: 601,804\n",
            "Non-trainable params: 394,579\n",
            "_________________________________________________________________\n"
          ],
          "name": "stdout"
        }
      ]
    },
    {
      "cell_type": "markdown",
      "metadata": {
        "id": "kQNuV7g-QwJh"
      },
      "source": [
        "Train by clean_validation data"
      ]
    },
    {
      "cell_type": "code",
      "metadata": {
        "id": "OcueB4s5QwJi",
        "colab": {
          "base_uri": "https://localhost:8080/"
        },
        "outputId": "1cbb33e4-bbfd-4686-95bd-5e6b588d4350"
      },
      "source": [
        "# yp1=yp\r\n",
        "# Combined_X=np.append(x,xp[1:100],axis=0)\r\n",
        "# yp1[0:yp.size]=1283\r\n",
        "# Combined_Y=np.append(y,yp1[1:100])\r\n",
        "# Combined_Y.size\r\n",
        "# indices=np.arange(Combined_X.shape[0])\r\n",
        "# np.random.shuffle(indices)\r\n",
        "# Combined_X=Combined_X[indices]\r\n",
        "# Combined_Y=Combined_Y[indices]\r\n",
        "# model3.compile(loss=tf.keras.losses.SparseCategoricalCrossentropy(),\r\n",
        "#                   optimizer=Adam(), metrics=['accuracy'])\r\n",
        "# X_ptrain, X_ptest, Y_ptrain, Y_ptest = train_test_split(\r\n",
        "#         Combined_X, Combined_Y, test_size=0.2, random_state=2)\r\n",
        "# model3.fit(\r\n",
        "#   X_train,\r\n",
        "#   Y_train,\r\n",
        "#   epochs=10,\r\n",
        "#   validation_split=0.2,\r\n",
        "#   batch_size = 20\r\n",
        "# )\r\n",
        "\r\n",
        "Anonymodel3_2.fit(X_train, Y_train,\r\n",
        "                 batch_size=batch_size, epochs=10, validation_split=validation_split,\r\n",
        "                 callbacks=callbacks)\r\n"
      ],
      "execution_count": 175,
      "outputs": [
        {
          "output_type": "stream",
          "text": [
            "Epoch 1/10\n",
            " 6/82 [=>............................] - ETA: 5s - loss: 16.0785 - accuracy: 0.0025     WARNING:tensorflow:Callback method `on_train_batch_end` is slow compared to the batch time (batch time: 0.0157s vs `on_train_batch_end` time: 0.0493s). Check your callbacks.\n",
            "82/82 [==============================] - 5s 29ms/step - loss: 9.3945 - accuracy: 0.0046 - val_loss: 6.7337 - val_accuracy: 0.0182\n",
            "Epoch 2/10\n",
            "82/82 [==============================] - 2s 23ms/step - loss: 5.7982 - accuracy: 0.0815 - val_loss: 4.2283 - val_accuracy: 0.3013\n",
            "Epoch 3/10\n",
            "82/82 [==============================] - 2s 23ms/step - loss: 2.3563 - accuracy: 0.5463 - val_loss: 2.4584 - val_accuracy: 0.6208\n",
            "Epoch 4/10\n",
            "82/82 [==============================] - 2s 23ms/step - loss: 0.7106 - accuracy: 0.8474 - val_loss: 1.9389 - val_accuracy: 0.7221\n",
            "Epoch 5/10\n",
            "82/82 [==============================] - 2s 22ms/step - loss: 0.2056 - accuracy: 0.9546 - val_loss: 1.9181 - val_accuracy: 0.7576\n",
            "Epoch 6/10\n",
            "82/82 [==============================] - 2s 22ms/step - loss: 0.0631 - accuracy: 0.9869 - val_loss: 1.9587 - val_accuracy: 0.7879\n",
            "Epoch 7/10\n",
            "82/82 [==============================] - 2s 22ms/step - loss: 0.0158 - accuracy: 0.9979 - val_loss: 2.0388 - val_accuracy: 0.8017\n",
            "Epoch 8/10\n",
            "82/82 [==============================] - 2s 22ms/step - loss: 0.0045 - accuracy: 0.9995 - val_loss: 2.0890 - val_accuracy: 0.8087\n",
            "Epoch 9/10\n",
            "82/82 [==============================] - 2s 22ms/step - loss: 0.0038 - accuracy: 0.9994 - val_loss: 2.1205 - val_accuracy: 0.8095\n",
            "Epoch 10/10\n",
            "82/82 [==============================] - 2s 22ms/step - loss: 0.0045 - accuracy: 0.9992 - val_loss: 2.1427 - val_accuracy: 0.8113\n"
          ],
          "name": "stdout"
        },
        {
          "output_type": "execute_result",
          "data": {
            "text/plain": [
              "<tensorflow.python.keras.callbacks.History at 0x7fa2d88f0208>"
            ]
          },
          "metadata": {
            "tags": []
          },
          "execution_count": 175
        }
      ]
    },
    {
      "cell_type": "markdown",
      "metadata": {
        "id": "MiTMeIQuQwJi"
      },
      "source": [
        "## New Model Evaluation "
      ]
    },
    {
      "cell_type": "markdown",
      "metadata": {
        "id": "Mv6ceUmtQwJi"
      },
      "source": [
        "Clean Test Data"
      ]
    },
    {
      "cell_type": "code",
      "metadata": {
        "id": "9mtrqISRQwJi",
        "colab": {
          "base_uri": "https://localhost:8080/"
        },
        "outputId": "711b9c9f-afa0-4609-e967-145f0feb6c38"
      },
      "source": [
        "np.argmax(Anonymodel3_2.predict(X_test),axis=1)"
      ],
      "execution_count": 176,
      "outputs": [
        {
          "output_type": "execute_result",
          "data": {
            "text/plain": [
              "array([950, 992,  64, ..., 770, 304, 872])"
            ]
          },
          "metadata": {
            "tags": []
          },
          "execution_count": 176
        }
      ]
    },
    {
      "cell_type": "code",
      "metadata": {
        "id": "QxraZhDLQwJi",
        "colab": {
          "base_uri": "https://localhost:8080/"
        },
        "outputId": "2b0d895a-1c75-4424-e9ea-35f7d2f516ae"
      },
      "source": [
        "AnonyClean2.append(Anonymodel3_2.evaluate(X_test,Y_test)[1])"
      ],
      "execution_count": 177,
      "outputs": [
        {
          "output_type": "stream",
          "text": [
            "401/401 [==============================] - 1s 3ms/step - loss: 2.0476 - accuracy: 0.8169\n"
          ],
          "name": "stdout"
        }
      ]
    },
    {
      "cell_type": "markdown",
      "metadata": {
        "id": "bF2yRg6RH4Gm"
      },
      "source": [
        "# BadNet3: multi_trigger_multi_target_bd_net"
      ]
    },
    {
      "cell_type": "code",
      "metadata": {
        "id": "4IxS-acGH4Gp"
      },
      "source": [
        "MultiModel = keras.models.load_model(\"/content/drive/MLsecurity_project/models/multi_trigger_multi_target_bd_net.h5\")"
      ],
      "execution_count": 178,
      "outputs": []
    },
    {
      "cell_type": "code",
      "metadata": {
        "id": "aEisiYR6H4Gq"
      },
      "source": [
        "Multipoison_data_filename = \"/content/drive/MLsecurity_project/data/eyebrows_poisoned_data.h5\"\r\n",
        "Multixp, Multiyp = data_loader(Multipoison_data_filename)\r\n",
        "Multixp = data_preprocess(Multixp)"
      ],
      "execution_count": 179,
      "outputs": []
    },
    {
      "cell_type": "code",
      "metadata": {
        "id": "64yuhxPJH4Gr"
      },
      "source": [
        "MultiModel.compile(loss=tf.keras.losses.SparseCategoricalCrossentropy(),\r\n",
        "                  optimizer=Adam(), metrics=['accuracy'])"
      ],
      "execution_count": 180,
      "outputs": []
    },
    {
      "cell_type": "markdown",
      "metadata": {
        "id": "7gtDee1qH4Gr"
      },
      "source": [
        "## BadNet Evaluation"
      ]
    },
    {
      "cell_type": "markdown",
      "metadata": {
        "id": "L11ukTQcH4Gr"
      },
      "source": [
        "POISON DATA"
      ]
    },
    {
      "cell_type": "code",
      "metadata": {
        "id": "hn6wDfGmH4Gs",
        "colab": {
          "base_uri": "https://localhost:8080/"
        },
        "outputId": "dde5595b-9004-4739-dbdf-af675c869f7f"
      },
      "source": [
        "MultiBDPoison=[]\r\n",
        "MultiBDClean=[]\r\n",
        "MultiBDPoison.append(MultiModel.evaluate(Multixp,Multiyp)[1])"
      ],
      "execution_count": 181,
      "outputs": [
        {
          "output_type": "stream",
          "text": [
            "321/321 [==============================] - 1s 3ms/step - loss: 1.0021 - accuracy: 0.9139\n"
          ],
          "name": "stdout"
        }
      ]
    },
    {
      "cell_type": "code",
      "metadata": {
        "id": "2E-ShXt3H4Gt",
        "colab": {
          "base_uri": "https://localhost:8080/"
        },
        "outputId": "3a1469de-bceb-49b4-c154-5464de64f193"
      },
      "source": [
        "np.argmax(MultiModel.predict(Multixp),axis=1)"
      ],
      "execution_count": 182,
      "outputs": [
        {
          "output_type": "execute_result",
          "data": {
            "text/plain": [
              "array([5, 5, 5, ..., 5, 5, 5])"
            ]
          },
          "metadata": {
            "tags": []
          },
          "execution_count": 182
        }
      ]
    },
    {
      "cell_type": "markdown",
      "metadata": {
        "id": "e394i9poH4Gt"
      },
      "source": [
        "CLEAN TEST DATA"
      ]
    },
    {
      "cell_type": "code",
      "metadata": {
        "id": "BST5VXYIH4Gt",
        "colab": {
          "base_uri": "https://localhost:8080/"
        },
        "outputId": "63d98d9c-a1e1-44b0-84dc-d3f88b1a8c88"
      },
      "source": [
        "MultiBDClean.append(MultiModel.evaluate(X_test,Y_test)[1])"
      ],
      "execution_count": 183,
      "outputs": [
        {
          "output_type": "stream",
          "text": [
            "401/401 [==============================] - 1s 3ms/step - loss: 0.2382 - accuracy: 0.9601\n"
          ],
          "name": "stdout"
        }
      ]
    },
    {
      "cell_type": "code",
      "metadata": {
        "id": "fzjm2yWcH4Gu",
        "colab": {
          "base_uri": "https://localhost:8080/"
        },
        "outputId": "0f31b90e-1a99-4678-962f-a432a551717d"
      },
      "source": [
        "np.argmax(MultiModel.predict(X_test),axis=1)"
      ],
      "execution_count": 184,
      "outputs": [
        {
          "output_type": "execute_result",
          "data": {
            "text/plain": [
              "array([950, 992, 823, ..., 770, 304, 872])"
            ]
          },
          "metadata": {
            "tags": []
          },
          "execution_count": 184
        }
      ]
    },
    {
      "cell_type": "markdown",
      "metadata": {
        "id": "LyjNxXDmH4Gu"
      },
      "source": [
        "## Activations of the last hidden layer projected onto the TOP principle components."
      ]
    },
    {
      "cell_type": "code",
      "metadata": {
        "id": "Iz7cyn8rH4Gu",
        "colab": {
          "base_uri": "https://localhost:8080/"
        },
        "outputId": "20f0e647-71d1-467d-93fb-cf7260d8b095"
      },
      "source": [
        "from keras.models import Model\r\n",
        "\r\n",
        "Multimodel1= Model(inputs=MultiModel.input, outputs=MultiModel.layers[-6].output)\r\n",
        "Multimodel1.summary()"
      ],
      "execution_count": 185,
      "outputs": [
        {
          "output_type": "stream",
          "text": [
            "Model: \"model_14\"\n",
            "_________________________________________________________________\n",
            "Layer (type)                 Output Shape              Param #   \n",
            "=================================================================\n",
            "input (InputLayer)           [(None, 55, 47, 3)]       0         \n",
            "_________________________________________________________________\n",
            "conv_1 (Conv2D)              (None, 52, 44, 20)        980       \n",
            "_________________________________________________________________\n",
            "pool_1 (MaxPooling2D)        (None, 26, 22, 20)        0         \n",
            "_________________________________________________________________\n",
            "conv_2 (Conv2D)              (None, 24, 20, 40)        7240      \n",
            "_________________________________________________________________\n",
            "pool_2 (MaxPooling2D)        (None, 12, 10, 40)        0         \n",
            "_________________________________________________________________\n",
            "conv_3 (Conv2D)              (None, 10, 8, 60)         21660     \n",
            "_________________________________________________________________\n",
            "pool_3 (MaxPooling2D)        (None, 5, 4, 60)          0         \n",
            "_________________________________________________________________\n",
            "conv_4 (Conv2D)              (None, 4, 3, 80)          19280     \n",
            "_________________________________________________________________\n",
            "flatten_2 (Flatten)          (None, 960)               0         \n",
            "=================================================================\n",
            "Total params: 49,160\n",
            "Trainable params: 49,160\n",
            "Non-trainable params: 0\n",
            "_________________________________________________________________\n"
          ],
          "name": "stdout"
        }
      ]
    },
    {
      "cell_type": "code",
      "metadata": {
        "id": "vfbRsnwuH4Gv",
        "colab": {
          "base_uri": "https://localhost:8080/",
          "height": 0
        },
        "outputId": "2f3fd0f3-e53a-4624-ef79-6abec1742c6e"
      },
      "source": [
        "Multiclean_output1 = Multimodel1.predict(X_train)\r\n",
        "Multip_output1 = Multimodel1.predict(Multixp)\r\n",
        "\r\n",
        "from sklearn.decomposition import PCA,FastICA\r\n",
        "pca=PCA(n_components=3)\r\n",
        "ica = FastICA(n_components=3)\r\n",
        "MultiS_ = ica.fit_transform(Multiclean_output1)\r\n",
        "MultiS1_ = ica.fit_transform(Multip_output1)\r\n",
        "\r\n",
        "Multiclean_output1=pca.fit_transform(Multiclean_output1)\r\n",
        "Multip_output1=pca.fit_transform(Multip_output1)\r\n",
        "\r\n",
        "import pandas as pd\r\n",
        "import matplotlib.pyplot as plt\r\n",
        "for j in range(1000):\r\n",
        "    y=MultiS_[j][0]\r\n",
        "    # print(len(y[0]))\r\n",
        "    x =MultiS_[j][1]\r\n",
        "    y1=MultiS1_[j][0]\r\n",
        "    x1 = MultiS1_[j][1]\r\n",
        "    plt.scatter(x,y,s=3,color = 'm')\r\n",
        "    plt.scatter(x1,y1,s=3,color = 'b')\r\n",
        "plt.show()"
      ],
      "execution_count": 186,
      "outputs": [
        {
          "output_type": "display_data",
          "data": {
            "image/png": "[encoded data removed]",
            "text/plain": [
              "<Figure size 432x288 with 1 Axes>"
            ]
          },
          "metadata": {
            "tags": [],
            "needs_background": "light"
          }
        }
      ]
    },
    {
      "cell_type": "markdown",
      "metadata": {
        "id": "pP-iZkgYH4Gw"
      },
      "source": [
        "The representations of\r\n",
        "poisoned inputs (in BLUE) have a similar distribution as those of\r\n",
        "clean inputs, thus both clusters formed by k-means clustering\r\n",
        "contain a significant number of poisoned samples."
      ]
    },
    {
      "cell_type": "markdown",
      "metadata": {
        "id": "veg9jxaBH4Gw"
      },
      "source": [
        "## Fine Pruning"
      ]
    },
    {
      "cell_type": "markdown",
      "metadata": {
        "id": "8kfJkMvNH4Gx"
      },
      "source": [
        "### Pruning"
      ]
    },
    {
      "cell_type": "code",
      "metadata": {
        "id": "Tum4PL3BH4Gx",
        "colab": {
          "base_uri": "https://localhost:8080/"
        },
        "outputId": "df3632a8-58a0-431f-8f28-4b32a21cc488"
      },
      "source": [
        "import tensorflow_model_optimization as tfmot\r\n",
        "\r\n",
        "prune_low_magnitude = tfmot.sparsity.keras.prune_low_magnitude\r\n",
        "\r\n",
        "# Compute end step to finish pruning after 2 epochs.\r\n",
        "batch_size = 128\r\n",
        "epochs = 1\r\n",
        "validation_split = 0.1 # 10% of training set will be used for validation set. \r\n",
        "\r\n",
        "num_images = X_train.shape[0] * (1 - validation_split)\r\n",
        "end_step = np.ceil(num_images / batch_size).astype(np.int32) * epochs\r\n",
        "\r\n",
        "# Define model for pruning.\r\n",
        "pruning_params = {\r\n",
        "      'pruning_schedule': tfmot.sparsity.keras.PolynomialDecay(initial_sparsity=0.50,\r\n",
        "                                                               final_sparsity=0.80,\r\n",
        "                                                               begin_step=0,\r\n",
        "                                                               end_step=end_step)\r\n",
        "}\r\n",
        "\r\n",
        "Multimodel_for_pruning = prune_low_magnitude(MultiModel, **pruning_params)\r\n",
        "\r\n",
        "# `prune_low_magnitude` requires a recompile.\r\n",
        "Multimodel_for_pruning.compile(loss=tf.keras.losses.SparseCategoricalCrossentropy(),\r\n",
        "                  optimizer=Adam(), metrics=['accuracy'])\r\n",
        "\r\n",
        "\r\n",
        "#model_for_pruning.summary()\r\n",
        "logdir = tempfile.mkdtemp()\r\n",
        "\r\n",
        "callbacks = [\r\n",
        "  tfmot.sparsity.keras.UpdatePruningStep(),\r\n",
        "  tfmot.sparsity.keras.PruningSummaries(log_dir=logdir),\r\n",
        "]"
      ],
      "execution_count": 187,
      "outputs": [
        {
          "output_type": "stream",
          "text": [
            "/usr/local/lib/python3.6/dist-packages/tensorflow/python/keras/engine/base_layer.py:2281: UserWarning: `layer.add_variable` is deprecated and will be removed in a future version. Please use `layer.add_weight` method instead.\n",
            "  warnings.warn('`layer.add_variable` is deprecated and '\n"
          ],
          "name": "stderr"
        }
      ]
    },
    {
      "cell_type": "markdown",
      "metadata": {
        "id": "HlIPqlNtOjO3"
      },
      "source": [
        "### Pruning Evaluation"
      ]
    },
    {
      "cell_type": "markdown",
      "metadata": {
        "id": "BPKF3vcjOjPF"
      },
      "source": [
        "POISON DATA"
      ]
    },
    {
      "cell_type": "code",
      "metadata": {
        "id": "WtVS0yWiOjPJ",
        "colab": {
          "base_uri": "https://localhost:8080/"
        },
        "outputId": "13ec8d20-bc78-421a-e9d4-e8d913d5fc9c"
      },
      "source": [
        "MultiBDPoison.append(Multimodel_for_pruning.evaluate(xp,yp)[1])\r\n",
        "MultiBDPoison"
      ],
      "execution_count": 188,
      "outputs": [
        {
          "output_type": "stream",
          "text": [
            "401/401 [==============================] - 2s 3ms/step - loss: 119.2049 - accuracy: 0.0000e+00\n"
          ],
          "name": "stdout"
        },
        {
          "output_type": "execute_result",
          "data": {
            "text/plain": [
              "[0.9134840369224548, 0.0]"
            ]
          },
          "metadata": {
            "tags": []
          },
          "execution_count": 188
        }
      ]
    },
    {
      "cell_type": "code",
      "metadata": {
        "id": "I9DD86NVOjPN",
        "colab": {
          "base_uri": "https://localhost:8080/"
        },
        "outputId": "978ee514-3ce9-4271-e8e0-bfe6cb2ab6ba"
      },
      "source": [
        "np.argmax(Multimodel_for_pruning.predict(xp),axis=1)"
      ],
      "execution_count": 189,
      "outputs": [
        {
          "output_type": "execute_result",
          "data": {
            "text/plain": [
              "array([8, 8, 8, ..., 8, 8, 8])"
            ]
          },
          "metadata": {
            "tags": []
          },
          "execution_count": 189
        }
      ]
    },
    {
      "cell_type": "markdown",
      "metadata": {
        "id": "Fe8kdBUEOjPP"
      },
      "source": [
        "CLEAN TEST DATA"
      ]
    },
    {
      "cell_type": "code",
      "metadata": {
        "id": "QIxfwIM3OjPQ",
        "colab": {
          "base_uri": "https://localhost:8080/"
        },
        "outputId": "242d5d2d-9d06-444f-d85d-9363f60bebd3"
      },
      "source": [
        "MultiBDClean.append(Multimodel_for_pruning.evaluate(X_test,Y_test)[1])\r\n",
        "MultiBDClean"
      ],
      "execution_count": 190,
      "outputs": [
        {
          "output_type": "stream",
          "text": [
            "401/401 [==============================] - 1s 3ms/step - loss: 0.2382 - accuracy: 0.9601\n"
          ],
          "name": "stdout"
        },
        {
          "output_type": "execute_result",
          "data": {
            "text/plain": [
              "[0.9600935578346252, 0.9600935578346252]"
            ]
          },
          "metadata": {
            "tags": []
          },
          "execution_count": 190
        }
      ]
    },
    {
      "cell_type": "code",
      "metadata": {
        "id": "dLtr5VeUOjPS",
        "colab": {
          "base_uri": "https://localhost:8080/"
        },
        "outputId": "a33cc92d-25d0-4f99-97a1-09306d000d9b"
      },
      "source": [
        "np.argmax(Multimodel_for_pruning.predict(X_test),axis=1)"
      ],
      "execution_count": 191,
      "outputs": [
        {
          "output_type": "execute_result",
          "data": {
            "text/plain": [
              "array([950, 992, 823, ..., 770, 304, 872])"
            ]
          },
          "metadata": {
            "tags": []
          },
          "execution_count": 191
        }
      ]
    },
    {
      "cell_type": "markdown",
      "metadata": {
        "id": "JLke-aPKH4Gx"
      },
      "source": [
        "### Fine Tune"
      ]
    },
    {
      "cell_type": "code",
      "metadata": {
        "id": "FTmMsEY_H4Gy",
        "colab": {
          "base_uri": "https://localhost:8080/"
        },
        "outputId": "90b3578c-c773-4a35-c73e-355e7514ddca"
      },
      "source": [
        "Multimodel_for_pruning.fit(X_train, Y_train,\r\n",
        "                   batch_size=batch_size, epochs=10, validation_split=validation_split,\r\n",
        "                  callbacks=callbacks)"
      ],
      "execution_count": 192,
      "outputs": [
        {
          "output_type": "stream",
          "text": [
            "Epoch 1/10\n",
            " 6/82 [=>............................] - ETA: 7s - loss: 0.3976 - accuracy: 0.9206 WARNING:tensorflow:Callback method `on_train_batch_end` is slow compared to the batch time (batch time: 0.0140s vs `on_train_batch_end` time: 0.0687s). Check your callbacks.\n",
            "82/82 [==============================] - 6s 36ms/step - loss: 0.3080 - accuracy: 0.9344 - val_loss: 0.2262 - val_accuracy: 0.9394\n",
            "Epoch 2/10\n",
            "82/82 [==============================] - 2s 24ms/step - loss: 0.0575 - accuracy: 0.9870 - val_loss: 0.2274 - val_accuracy: 0.9429\n",
            "Epoch 3/10\n",
            "82/82 [==============================] - 2s 24ms/step - loss: 0.0207 - accuracy: 0.9950 - val_loss: 0.2300 - val_accuracy: 0.9472\n",
            "Epoch 4/10\n",
            "82/82 [==============================] - 2s 24ms/step - loss: 0.0057 - accuracy: 0.9988 - val_loss: 0.2196 - val_accuracy: 0.9532\n",
            "Epoch 5/10\n",
            "82/82 [==============================] - 2s 23ms/step - loss: 0.0055 - accuracy: 0.9985 - val_loss: 0.2129 - val_accuracy: 0.9567\n",
            "Epoch 6/10\n",
            "82/82 [==============================] - 2s 23ms/step - loss: 0.0035 - accuracy: 0.9989 - val_loss: 0.2120 - val_accuracy: 0.9576\n",
            "Epoch 7/10\n",
            "82/82 [==============================] - 2s 23ms/step - loss: 0.0019 - accuracy: 0.9990 - val_loss: 0.2086 - val_accuracy: 0.9567\n",
            "Epoch 8/10\n",
            "82/82 [==============================] - 2s 23ms/step - loss: 0.0037 - accuracy: 0.9987 - val_loss: 0.2235 - val_accuracy: 0.9550\n",
            "Epoch 9/10\n",
            "82/82 [==============================] - 2s 24ms/step - loss: 0.0047 - accuracy: 0.9985 - val_loss: 0.2305 - val_accuracy: 0.9541\n",
            "Epoch 10/10\n",
            "82/82 [==============================] - 2s 23ms/step - loss: 0.0022 - accuracy: 0.9993 - val_loss: 0.2325 - val_accuracy: 0.9524\n"
          ],
          "name": "stdout"
        },
        {
          "output_type": "execute_result",
          "data": {
            "text/plain": [
              "<tensorflow.python.keras.callbacks.History at 0x7fa312a952e8>"
            ]
          },
          "metadata": {
            "tags": []
          },
          "execution_count": 192
        }
      ]
    },
    {
      "cell_type": "markdown",
      "metadata": {
        "id": "QOejJQLkH4Gy"
      },
      "source": [
        "## Fine Pruning Evaluation"
      ]
    },
    {
      "cell_type": "markdown",
      "metadata": {
        "id": "PEjMgoCDH4Gy"
      },
      "source": [
        "Poison Data"
      ]
    },
    {
      "cell_type": "code",
      "metadata": {
        "id": "DUfhR6osH4Gz",
        "colab": {
          "base_uri": "https://localhost:8080/"
        },
        "outputId": "7cc68216-db7a-4e0c-c357-0d7313afef33"
      },
      "source": [
        "np.argmax(Multimodel_for_pruning.predict(Multixp),axis=1)"
      ],
      "execution_count": 193,
      "outputs": [
        {
          "output_type": "execute_result",
          "data": {
            "text/plain": [
              "array([   5,  903, 1004, ...,    5,    5,    5])"
            ]
          },
          "metadata": {
            "tags": []
          },
          "execution_count": 193
        }
      ]
    },
    {
      "cell_type": "code",
      "metadata": {
        "id": "PTrb11dDH4Gz",
        "colab": {
          "base_uri": "https://localhost:8080/"
        },
        "outputId": "70fd4c96-efb4-43d9-bf81-9c2ff5143715"
      },
      "source": [
        "MultiBDPoison.append(Multimodel_for_pruning.evaluate(Multixp,Multiyp)[1])"
      ],
      "execution_count": 194,
      "outputs": [
        {
          "output_type": "stream",
          "text": [
            "321/321 [==============================] - 1s 3ms/step - loss: 3.2269 - accuracy: 0.7385\n"
          ],
          "name": "stdout"
        }
      ]
    },
    {
      "cell_type": "markdown",
      "metadata": {
        "id": "n79odCQ5H4Gz"
      },
      "source": [
        "Clean Test Data"
      ]
    },
    {
      "cell_type": "code",
      "metadata": {
        "id": "tL2UOstFH4Gz",
        "colab": {
          "base_uri": "https://localhost:8080/"
        },
        "outputId": "d7a2f290-4fa3-4e76-dd94-96bf5d9b927a"
      },
      "source": [
        "np.argmax(Multimodel_for_pruning.predict(X_test),axis=1)"
      ],
      "execution_count": 195,
      "outputs": [
        {
          "output_type": "execute_result",
          "data": {
            "text/plain": [
              "array([950, 992, 823, ..., 770, 304, 872])"
            ]
          },
          "metadata": {
            "tags": []
          },
          "execution_count": 195
        }
      ]
    },
    {
      "cell_type": "code",
      "metadata": {
        "id": "3cML75vQH4G0",
        "colab": {
          "base_uri": "https://localhost:8080/"
        },
        "outputId": "59e7becc-0e2d-473b-d4bc-a2714abdfa3c"
      },
      "source": [
        "MultiBDClean.append(Multimodel_for_pruning.evaluate(X_test,Y_test)[1])"
      ],
      "execution_count": 196,
      "outputs": [
        {
          "output_type": "stream",
          "text": [
            "401/401 [==============================] - 1s 3ms/step - loss: 0.2134 - accuracy: 0.9617\n"
          ],
          "name": "stdout"
        }
      ]
    },
    {
      "cell_type": "markdown",
      "metadata": {
        "id": "bI6_ujENH4G0"
      },
      "source": [
        "## Reconstruct model by adding layer"
      ]
    },
    {
      "cell_type": "markdown",
      "metadata": {
        "id": "OS3lCbjBH4G0"
      },
      "source": [
        "N+1 Classes"
      ]
    },
    {
      "cell_type": "code",
      "metadata": {
        "id": "yG8fIesaH4G0",
        "colab": {
          "base_uri": "https://localhost:8080/"
        },
        "outputId": "65d5e06b-0c18-4daa-94bd-7bc89e270c4d"
      },
      "source": [
        "from keras import Sequential\r\n",
        "from keras.layers import  Dense\r\n",
        "from keras.models import Model\r\n",
        "\r\n",
        "Multimodel2= Model(inputs=Multimodel_for_pruning.input, outputs=Multimodel_for_pruning.layers[-2].output)\r\n",
        "# model2.summary()\r\n",
        "Multimodel3 = Sequential()\r\n",
        "Multimodel3.add(model2)\r\n",
        "Multimodel3.add(Dense(1284, activation='softmax'))\r\n",
        "Multimodel3.compile(loss=tf.keras.losses.SparseCategoricalCrossentropy(),\r\n",
        "                  optimizer=Adam(), metrics=['accuracy'])\r\n",
        "Multimodel3.summary()"
      ],
      "execution_count": 197,
      "outputs": [
        {
          "output_type": "stream",
          "text": [
            "Model: \"sequential_7\"\n",
            "_________________________________________________________________\n",
            "Layer (type)                 Output Shape              Param #   \n",
            "=================================================================\n",
            "model_9 (Functional)         (None, 160)               789659    \n",
            "_________________________________________________________________\n",
            "dense_7 (Dense)              (None, 1284)              206724    \n",
            "=================================================================\n",
            "Total params: 996,383\n",
            "Trainable params: 601,804\n",
            "Non-trainable params: 394,579\n",
            "_________________________________________________________________\n"
          ],
          "name": "stdout"
        }
      ]
    },
    {
      "cell_type": "markdown",
      "metadata": {
        "id": "vOzQ8KkTH4G0"
      },
      "source": [
        "Train by clean_validation data"
      ]
    },
    {
      "cell_type": "code",
      "metadata": {
        "id": "OJobRFqkH4G1",
        "colab": {
          "base_uri": "https://localhost:8080/"
        },
        "outputId": "c535acb2-06f6-431b-dde2-4305a357c2f0"
      },
      "source": [
        "# yp1=yp\r\n",
        "# Combined_X=np.append(x,xp[1:100],axis=0)\r\n",
        "# yp1[0:yp.size]=1283\r\n",
        "# Combined_Y=np.append(y,yp1[1:100])\r\n",
        "# Combined_Y.size\r\n",
        "# indices=np.arange(Combined_X.shape[0])\r\n",
        "# np.random.shuffle(indices)\r\n",
        "# Combined_X=Combined_X[indices]\r\n",
        "# Combined_Y=Combined_Y[indices]\r\n",
        "# model3.compile(loss=tf.keras.losses.SparseCategoricalCrossentropy(),\r\n",
        "#                   optimizer=Adam(), metrics=['accuracy'])\r\n",
        "# X_ptrain, X_ptest, Y_ptrain, Y_ptest = train_test_split(\r\n",
        "#         Combined_X, Combined_Y, test_size=0.2, random_state=2)\r\n",
        "# model3.fit(\r\n",
        "#   X_train,\r\n",
        "#   Y_train,\r\n",
        "#   epochs=10,\r\n",
        "#   validation_split=0.2,\r\n",
        "#   batch_size = 20\r\n",
        "# )\r\n",
        "\r\n",
        "Multimodel3.fit(X_train, Y_train,\r\n",
        "                 batch_size=batch_size, epochs=10, validation_split=validation_split,\r\n",
        "                 callbacks=callbacks)\r\n"
      ],
      "execution_count": 198,
      "outputs": [
        {
          "output_type": "stream",
          "text": [
            "Epoch 1/10\n",
            " 6/82 [=>............................] - ETA: 5s - loss: 15.1090 - accuracy: 8.0295e-04 WARNING:tensorflow:Callback method `on_train_batch_end` is slow compared to the batch time (batch time: 0.0142s vs `on_train_batch_end` time: 0.0489s). Check your callbacks.\n",
            "82/82 [==============================] - 5s 29ms/step - loss: 9.0524 - accuracy: 0.0029 - val_loss: 6.8610 - val_accuracy: 0.0165\n",
            "Epoch 2/10\n",
            "82/82 [==============================] - 2s 22ms/step - loss: 6.4032 - accuracy: 0.0476 - val_loss: 5.2878 - val_accuracy: 0.1567\n",
            "Epoch 3/10\n",
            "82/82 [==============================] - 2s 22ms/step - loss: 3.9842 - accuracy: 0.3034 - val_loss: 3.4196 - val_accuracy: 0.4597\n",
            "Epoch 4/10\n",
            "82/82 [==============================] - 2s 22ms/step - loss: 1.6749 - accuracy: 0.6644 - val_loss: 2.5378 - val_accuracy: 0.6398\n",
            "Epoch 5/10\n",
            "82/82 [==============================] - 2s 22ms/step - loss: 0.7188 - accuracy: 0.8479 - val_loss: 2.2155 - val_accuracy: 0.7203\n",
            "Epoch 6/10\n",
            "82/82 [==============================] - 2s 22ms/step - loss: 0.2879 - accuracy: 0.9368 - val_loss: 2.2649 - val_accuracy: 0.7342\n",
            "Epoch 7/10\n",
            "82/82 [==============================] - 2s 22ms/step - loss: 0.1286 - accuracy: 0.9707 - val_loss: 2.4000 - val_accuracy: 0.7437\n",
            "Epoch 8/10\n",
            "82/82 [==============================] - 2s 22ms/step - loss: 0.0526 - accuracy: 0.9883 - val_loss: 2.5206 - val_accuracy: 0.7602\n",
            "Epoch 9/10\n",
            "82/82 [==============================] - 2s 22ms/step - loss: 0.0164 - accuracy: 0.9970 - val_loss: 2.6482 - val_accuracy: 0.7662\n",
            "Epoch 10/10\n",
            "82/82 [==============================] - 2s 22ms/step - loss: 0.0095 - accuracy: 0.9978 - val_loss: 2.6965 - val_accuracy: 0.7714\n"
          ],
          "name": "stdout"
        },
        {
          "output_type": "execute_result",
          "data": {
            "text/plain": [
              "<tensorflow.python.keras.callbacks.History at 0x7fa31e7af748>"
            ]
          },
          "metadata": {
            "tags": []
          },
          "execution_count": 198
        }
      ]
    },
    {
      "cell_type": "markdown",
      "metadata": {
        "id": "gqlRWZOEH4G1"
      },
      "source": [
        "## New Model Evaluation "
      ]
    },
    {
      "cell_type": "markdown",
      "metadata": {
        "id": "WSy1kio_H4G1"
      },
      "source": [
        "Clean Test Data"
      ]
    },
    {
      "cell_type": "code",
      "metadata": {
        "id": "78WbDEtLH4G1",
        "colab": {
          "base_uri": "https://localhost:8080/"
        },
        "outputId": "dce32892-c620-4780-851f-2d610eee631f"
      },
      "source": [
        "np.argmax(Multimodel3.predict(X_test),axis=1)"
      ],
      "execution_count": 199,
      "outputs": [
        {
          "output_type": "execute_result",
          "data": {
            "text/plain": [
              "array([950, 992, 764, ..., 770, 304, 872])"
            ]
          },
          "metadata": {
            "tags": []
          },
          "execution_count": 199
        }
      ]
    },
    {
      "cell_type": "code",
      "metadata": {
        "id": "Oa6ahfc0H4G2",
        "colab": {
          "base_uri": "https://localhost:8080/"
        },
        "outputId": "96b86275-d2cd-497a-b880-a16b760e21c6"
      },
      "source": [
        "MultiBDClean.append(Multimodel3.evaluate(X_test,Y_test)[1])"
      ],
      "execution_count": 200,
      "outputs": [
        {
          "output_type": "stream",
          "text": [
            "401/401 [==============================] - 1s 3ms/step - loss: 2.4691 - accuracy: 0.7973\n"
          ],
          "name": "stdout"
        }
      ]
    },
    {
      "cell_type": "markdown",
      "metadata": {
        "id": "9MM_PPSIH4G2"
      },
      "source": [
        "Poison data"
      ]
    },
    {
      "cell_type": "code",
      "metadata": {
        "id": "OC7B0wCnH4G2",
        "colab": {
          "base_uri": "https://localhost:8080/"
        },
        "outputId": "c7ed920b-1e75-4c4a-9a22-e311357e1375"
      },
      "source": [
        "np.argmax(Multimodel3.predict(Multixp),axis=1)"
      ],
      "execution_count": 201,
      "outputs": [
        {
          "output_type": "execute_result",
          "data": {
            "text/plain": [
              "array([500, 741, 212, ..., 328,  80,  48])"
            ]
          },
          "metadata": {
            "tags": []
          },
          "execution_count": 201
        }
      ]
    },
    {
      "cell_type": "code",
      "metadata": {
        "id": "twwvsvkdH4G2",
        "colab": {
          "base_uri": "https://localhost:8080/"
        },
        "outputId": "5d4eb7bc-f7d0-4ab9-8ff5-b9948b82f909"
      },
      "source": [
        "MultiBDPoison.append(Multimodel3.evaluate(Multixp,Multiyp)[1])"
      ],
      "execution_count": 202,
      "outputs": [
        {
          "output_type": "stream",
          "text": [
            "321/321 [==============================] - 1s 3ms/step - loss: 46.0879 - accuracy: 3.8971e-04\n"
          ],
          "name": "stdout"
        }
      ]
    },
    {
      "cell_type": "markdown",
      "metadata": {
        "id": "Pfe67WdmH4G2"
      },
      "source": [
        "Conclusion : Low Accuracy---it couldn't  predict successfully"
      ]
    },
    {
      "cell_type": "markdown",
      "metadata": {
        "id": "26yAyRrmSyhz"
      },
      "source": [
        "# Analysis"
      ]
    },
    {
      "cell_type": "code",
      "metadata": {
        "id": "fhV4VjuQS6Ak",
        "colab": {
          "base_uri": "https://localhost:8080/",
          "height": 254
        },
        "outputId": "b8631e82-13a0-4747-e274-3ddbbdc69d10"
      },
      "source": [
        "import pandas as pd\r\n",
        "data = [SunBDPoison,SunBDClean,AnonyPoison,AnonyClean,AnonyClean2,MultiBDPoison,MultiBDClean]\r\n",
        "DF = pd.DataFrame(data, columns=[\" BadNet \",\"Pruning\",\" Fine-Pruning  \",\"Reconstruct Model\"])\r\n",
        "DF.index = ['Sunglasses Poison Data','Sunglasses Clean Data','Anonymous Poison Data','Anonymous Clean Data','Anonymous2 Clean Data','Multi-Trigger Poison Data','Multi-Trigger Clean Data']\r\n",
        "DF"
      ],
      "execution_count": 203,
      "outputs": [
        {
          "output_type": "execute_result",
          "data": {
            "text/html": [
              "<div>\n",
              "<style scoped>\n",
              "    .dataframe tbody tr th:only-of-type {\n",
              "        vertical-align: middle;\n",
              "    }\n",
              "\n",
              "    .dataframe tbody tr th {\n",
              "        vertical-align: top;\n",
              "    }\n",
              "\n",
              "    .dataframe thead th {\n",
              "        text-align: right;\n",
              "    }\n",
              "</style>\n",
              "<table border=\"1\" class=\"dataframe\">\n",
              "  <thead>\n",
              "    <tr style=\"text-align: right;\">\n",
              "      <th></th>\n",
              "      <th>BadNet</th>\n",
              "      <th>Pruning</th>\n",
              "      <th>Fine-Pruning</th>\n",
              "      <th>Reconstruct Model</th>\n",
              "    </tr>\n",
              "  </thead>\n",
              "  <tbody>\n",
              "    <tr>\n",
              "      <th>Sunglasses Poison Data</th>\n",
              "      <td>0.999922</td>\n",
              "      <td>0.999922</td>\n",
              "      <td>0.398519</td>\n",
              "      <td>0.000000</td>\n",
              "    </tr>\n",
              "    <tr>\n",
              "      <th>Sunglasses Clean Data</th>\n",
              "      <td>0.977786</td>\n",
              "      <td>0.977786</td>\n",
              "      <td>0.895947</td>\n",
              "      <td>0.754170</td>\n",
              "    </tr>\n",
              "    <tr>\n",
              "      <th>Anonymous Poison Data</th>\n",
              "      <td>0.913971</td>\n",
              "      <td>0.913971</td>\n",
              "      <td>0.858242</td>\n",
              "      <td>0.009353</td>\n",
              "    </tr>\n",
              "    <tr>\n",
              "      <th>Anonymous Clean Data</th>\n",
              "      <td>0.971863</td>\n",
              "      <td>0.971863</td>\n",
              "      <td>0.967030</td>\n",
              "      <td>0.809665</td>\n",
              "    </tr>\n",
              "    <tr>\n",
              "      <th>Anonymous2 Clean Data</th>\n",
              "      <td>0.959626</td>\n",
              "      <td>0.959626</td>\n",
              "      <td>0.968589</td>\n",
              "      <td>0.816913</td>\n",
              "    </tr>\n",
              "    <tr>\n",
              "      <th>Multi-Trigger Poison Data</th>\n",
              "      <td>0.913484</td>\n",
              "      <td>0.000000</td>\n",
              "      <td>0.738504</td>\n",
              "      <td>0.000390</td>\n",
              "    </tr>\n",
              "    <tr>\n",
              "      <th>Multi-Trigger Clean Data</th>\n",
              "      <td>0.960094</td>\n",
              "      <td>0.960094</td>\n",
              "      <td>0.961652</td>\n",
              "      <td>0.797350</td>\n",
              "    </tr>\n",
              "  </tbody>\n",
              "</table>\n",
              "</div>"
            ],
            "text/plain": [
              "                            BadNet   ...  Reconstruct Model\n",
              "Sunglasses Poison Data     0.999922  ...           0.000000\n",
              "Sunglasses Clean Data      0.977786  ...           0.754170\n",
              "Anonymous Poison Data      0.913971  ...           0.009353\n",
              "Anonymous Clean Data       0.971863  ...           0.809665\n",
              "Anonymous2 Clean Data      0.959626  ...           0.816913\n",
              "Multi-Trigger Poison Data  0.913484  ...           0.000390\n",
              "Multi-Trigger Clean Data   0.960094  ...           0.797350\n",
              "\n",
              "[7 rows x 4 columns]"
            ]
          },
          "metadata": {
            "tags": []
          },
          "execution_count": 203
        }
      ]
    }
  ]
}